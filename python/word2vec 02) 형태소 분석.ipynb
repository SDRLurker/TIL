{
 "cells": [
  {
   "cell_type": "code",
   "execution_count": 1,
   "metadata": {},
   "outputs": [
    {
     "name": "stdout",
     "output_type": "stream",
     "text": [
      "Collecting konlpy\n",
      "\u001b[?25l  Downloading https://files.pythonhosted.org/packages/b1/41/73127de031d710fa6fc640cc4d4d399977e7a96423131fcd180b9f69627c/konlpy-0.4.4-py2.py3-none-any.whl (22.5MB)\n",
      "\u001b[K    100% |████████████████████████████████| 22.5MB 1.2MB/s ta 0:00:011\n",
      "\u001b[31mdistributed 1.22.0 requires msgpack, which is not installed.\u001b[0m\n",
      "\u001b[31mtensorboard 1.8.0 has requirement bleach==1.5.0, but you'll have bleach 2.1.3 which is incompatible.\u001b[0m\n",
      "\u001b[31mbleach 2.1.3 has requirement html5lib!=1.0b1,!=1.0b2,!=1.0b3,!=1.0b4,!=1.0b5,!=1.0b6,!=1.0b7,!=1.0b8,>=0.99999999pre, but you'll have html5lib 0.9999999 which is incompatible.\u001b[0m\n",
      "\u001b[?25hInstalling collected packages: konlpy\n",
      "Successfully installed konlpy-0.4.4\n"
     ]
    }
   ],
   "source": [
    "!pip install konlpy"
   ]
  },
  {
   "cell_type": "code",
   "execution_count": 2,
   "metadata": {},
   "outputs": [
    {
     "name": "stdout",
     "output_type": "stream",
     "text": [
      "Collecting JPype1-py3\n",
      "\u001b[?25l  Downloading https://files.pythonhosted.org/packages/59/90/149647ac2c8649a5983fcc47c78f2881af80cbd99f54248ac31b3d611618/JPype1-py3-0.5.5.2.tar.gz (87kB)\n",
      "\u001b[K    100% |████████████████████████████████| 92kB 939kB/s ta 0:00:01\n",
      "\u001b[?25hBuilding wheels for collected packages: JPype1-py3\n",
      "  Running setup.py bdist_wheel for JPype1-py3 ... \u001b[?25ldone\n",
      "\u001b[?25h  Stored in directory: /Users/ryanshin/Library/Caches/pip/wheels/76/7d/41/829109c81b0c4bdca8047fb9e0a573d4db3b671fbbe84a84f3\n",
      "Successfully built JPype1-py3\n",
      "\u001b[31mdistributed 1.22.0 requires msgpack, which is not installed.\u001b[0m\n",
      "\u001b[31mtensorboard 1.8.0 has requirement bleach==1.5.0, but you'll have bleach 2.1.3 which is incompatible.\u001b[0m\n",
      "\u001b[31mbleach 2.1.3 has requirement html5lib!=1.0b1,!=1.0b2,!=1.0b3,!=1.0b4,!=1.0b5,!=1.0b6,!=1.0b7,!=1.0b8,>=0.99999999pre, but you'll have html5lib 0.9999999 which is incompatible.\u001b[0m\n",
      "Installing collected packages: JPype1-py3\n",
      "Successfully installed JPype1-py3-0.5.5.2\n"
     ]
    }
   ],
   "source": [
    "!pip install JPype1-py3"
   ]
  },
  {
   "cell_type": "code",
   "execution_count": 3,
   "metadata": {},
   "outputs": [
    {
     "name": "stdout",
     "output_type": "stream",
     "text": [
      "나무 Noun\n",
      "위키 Noun\n",
      "말뭉치 Noun\n",
      "를 Josa\n",
      "만들어 Verb\n",
      "보자 Verb\n"
     ]
    }
   ],
   "source": [
    "from konlpy.tag import Twitter\n",
    "result = Twitter().pos(\"나무위키 말뭉치를 만들어보자\")\n",
    "for pos in result:\n",
    "    print(pos[0] + ' ' + pos[1])"
   ]
  },
  {
   "cell_type": "markdown",
   "metadata": {},
   "source": [
    "# 트위터 형태소 분석기\n",
    "* github https://github.com/twitter/twitter-korean-text\n",
    "* konlpy : KOrean NLP Python library\n",
    "* JPype1-py3 : scala 라이브러리를 파이썬으로 사용가능하게 하는 라이브러리."
   ]
  },
  {
   "cell_type": "code",
   "execution_count": 4,
   "metadata": {},
   "outputs": [],
   "source": [
    "input_filename = '/Users/ryanshin/Downloads/namuwiki180326/namuwiki_20180326_mini.txt'\n",
    "output_filename = '/Users/ryanshin/Downloads/namuwiki180326/namuwiki_20180326_mini_pos_tagged_corpus.txt'"
   ]
  },
  {
   "cell_type": "code",
   "execution_count": 5,
   "metadata": {},
   "outputs": [],
   "source": [
    "tagger = Twitter()"
   ]
  },
  {
   "cell_type": "code",
   "execution_count": 8,
   "metadata": {},
   "outputs": [],
   "source": [
    "def flat(content):\n",
    "    return [\"{}/{}\".format(word, tag) for word, tag in tagger.pos(content)]"
   ]
  },
  {
   "cell_type": "code",
   "execution_count": 9,
   "metadata": {},
   "outputs": [
    {
     "data": {
      "text/plain": [
       "['나무/Noun', '위키/Noun', '말뭉치/Noun', '를/Josa', '만들어/Verb', '보자/Verb']"
      ]
     },
     "execution_count": 9,
     "metadata": {},
     "output_type": "execute_result"
    }
   ],
   "source": [
    "flat(\"나무위키 말뭉치를 만들어보자\")"
   ]
  },
  {
   "cell_type": "code",
   "execution_count": 10,
   "metadata": {},
   "outputs": [],
   "source": [
    "with open(output_filename, 'w', encoding='utf-8') as output_file:\n",
    "    for line in open(input_filename, 'r', encoding='utf-8'):\n",
    "        for sentence in line.split('.'):\n",
    "            tagged = flat(sentence)\n",
    "            if len(tagged) > 1:\n",
    "                a_line = ' '.join(tagged)\n",
    "                output_file.write(a_line + '\\n')"
   ]
  }
 ],
 "metadata": {
  "kernelspec": {
   "display_name": "Python 3",
   "language": "python",
   "name": "python3"
  },
  "language_info": {
   "codemirror_mode": {
    "name": "ipython",
    "version": 3
   },
   "file_extension": ".py",
   "mimetype": "text/x-python",
   "name": "python",
   "nbconvert_exporter": "python",
   "pygments_lexer": "ipython3",
   "version": "3.6.6"
  }
 },
 "nbformat": 4,
 "nbformat_minor": 2
}
