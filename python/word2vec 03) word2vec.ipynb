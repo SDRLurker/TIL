{
 "cells": [
  {
   "cell_type": "markdown",
   "metadata": {},
   "source": [
    "# gensim\n",
    "* 홈페이지 https://radimrehurek.com/gensim/\n",
    "* word2vev https://radimrehurek.com/gensim/models/word2vec.html"
   ]
  },
  {
   "cell_type": "code",
   "execution_count": 1,
   "metadata": {},
   "outputs": [
    {
     "name": "stdout",
     "output_type": "stream",
     "text": [
      "Requirement already satisfied: gensim in /anaconda3/lib/python3.6/site-packages (3.4.0)\n",
      "Requirement already satisfied: six>=1.5.0 in /anaconda3/lib/python3.6/site-packages (from gensim) (1.11.0)\n",
      "Requirement already satisfied: scipy>=0.18.1 in /anaconda3/lib/python3.6/site-packages (from gensim) (1.1.0)\n",
      "Requirement already satisfied: numpy>=1.11.3 in /anaconda3/lib/python3.6/site-packages (from gensim) (1.14.5)\n",
      "Requirement already satisfied: smart-open>=1.2.1 in /anaconda3/lib/python3.6/site-packages (from gensim) (1.6.0)\n",
      "Requirement already satisfied: bz2file in /anaconda3/lib/python3.6/site-packages (from smart-open>=1.2.1->gensim) (0.98)\n",
      "Requirement already satisfied: boto3 in /anaconda3/lib/python3.6/site-packages (from smart-open>=1.2.1->gensim) (1.7.48)\n",
      "Requirement already satisfied: requests in /anaconda3/lib/python3.6/site-packages (from smart-open>=1.2.1->gensim) (2.19.1)\n",
      "Requirement already satisfied: boto>=2.32 in /anaconda3/lib/python3.6/site-packages (from smart-open>=1.2.1->gensim) (2.48.0)\n",
      "Requirement already satisfied: s3transfer<0.2.0,>=0.1.10 in /anaconda3/lib/python3.6/site-packages (from boto3->smart-open>=1.2.1->gensim) (0.1.13)\n",
      "Requirement already satisfied: jmespath<1.0.0,>=0.7.1 in /anaconda3/lib/python3.6/site-packages (from boto3->smart-open>=1.2.1->gensim) (0.9.3)\n",
      "Requirement already satisfied: botocore<1.11.0,>=1.10.48 in /anaconda3/lib/python3.6/site-packages (from boto3->smart-open>=1.2.1->gensim) (1.10.48)\n",
      "Requirement already satisfied: urllib3<1.24,>=1.21.1 in /anaconda3/lib/python3.6/site-packages (from requests->smart-open>=1.2.1->gensim) (1.23)\n",
      "Requirement already satisfied: chardet<3.1.0,>=3.0.2 in /anaconda3/lib/python3.6/site-packages (from requests->smart-open>=1.2.1->gensim) (3.0.4)\n",
      "Requirement already satisfied: idna<2.8,>=2.5 in /anaconda3/lib/python3.6/site-packages (from requests->smart-open>=1.2.1->gensim) (2.7)\n",
      "Requirement already satisfied: certifi>=2017.4.17 in /anaconda3/lib/python3.6/site-packages (from requests->smart-open>=1.2.1->gensim) (2018.4.16)\n",
      "Requirement already satisfied: python-dateutil<3.0.0,>=2.1; python_version >= \"2.7\" in /anaconda3/lib/python3.6/site-packages (from botocore<1.11.0,>=1.10.48->boto3->smart-open>=1.2.1->gensim) (2.7.3)\n",
      "Requirement already satisfied: docutils>=0.10 in /anaconda3/lib/python3.6/site-packages (from botocore<1.11.0,>=1.10.48->boto3->smart-open>=1.2.1->gensim) (0.14)\n",
      "\u001b[31mdistributed 1.22.0 requires msgpack, which is not installed.\u001b[0m\n",
      "\u001b[31mtensorboard 1.8.0 has requirement bleach==1.5.0, but you'll have bleach 2.1.3 which is incompatible.\u001b[0m\n",
      "\u001b[31mbleach 2.1.3 has requirement html5lib!=1.0b1,!=1.0b2,!=1.0b3,!=1.0b4,!=1.0b5,!=1.0b6,!=1.0b7,!=1.0b8,>=0.99999999pre, but you'll have html5lib 0.9999999 which is incompatible.\u001b[0m\n"
     ]
    }
   ],
   "source": [
    "!pip install gensim"
   ]
  },
  {
   "cell_type": "code",
   "execution_count": 2,
   "metadata": {},
   "outputs": [],
   "source": [
    "from gensim import corpora, similarities\n",
    "from gensim.models import Word2Vec\n",
    "\n",
    "import os\n",
    "import multiprocessing\n",
    "\n",
    "input_filename = '/Users/ryanshin/Downloads/namuwiki180326/namuwiki_20180326_mini_pos_tagged_corpus.txt'\n",
    "model_path = '/Users/ryanshin/Downloads/namuwiki180326/model'\n",
    "\n",
    "class SentenceReader(object):\n",
    "    def __init__(self, input_filename):\n",
    "        self.input_filename = input_filename\n",
    "    def __iter__(self):\n",
    "        for line in open(input_filename):\n",
    "            yield line.split(' ')\n",
    "            \n",
    "sentences_vocab = SentenceReader(input_filename) # a memory-friendly iterator\n",
    "sentences_train = SentenceReader(input_filename) # a memory-friendly iterator\n",
    "\n",
    "config = {\n",
    "    'min_count': 10, # 등장 회수가 10 이하인 단어는 무시\n",
    "    'size': 300, # 300차원짜리 벡터스페이스에 embedding\n",
    "    'sg': 1, # 0 이면 CBOW, 1이면 skip-gram을 사용한다.\n",
    "    'batch_words': 10000,  # 사전을 구축할때 한번에 읽을 단어 수\n",
    "    'iter': 10,  # 보통 딥러닝에서 말하는 epoch과 비슷한, 반복 횟수\n",
    "    'workers': multiprocessing.cpu_count(),\n",
    "}\n",
    "word2vec_model = Word2Vec(**config)"
   ]
  },
  {
   "cell_type": "code",
   "execution_count": 3,
   "metadata": {},
   "outputs": [
    {
     "name": "stdout",
     "output_type": "stream",
     "text": [
      "10113764\n"
     ]
    },
    {
     "name": "stderr",
     "output_type": "stream",
     "text": [
      "/anaconda3/lib/python3.6/site-packages/ipykernel_launcher.py:5: DeprecationWarning: Call to deprecated `iter` (Attribute will be removed in 4.0.0, use self.epochs instead).\n",
      "  \"\"\"\n"
     ]
    },
    {
     "data": {
      "text/plain": [
       "(83282582, 101137640)"
      ]
     },
     "execution_count": 3,
     "metadata": {},
     "output_type": "execute_result"
    }
   ],
   "source": [
    "token_count = sum([len(sentence) for sentence in sentences_vocab])\n",
    "print(token_count)\n",
    "\n",
    "word2vec_model.build_vocab(sentences_vocab)\n",
    "word2vec_model.train(sentences_train, total_examples = token_count, epochs=word2vec_model.iter)"
   ]
  },
  {
   "cell_type": "markdown",
   "metadata": {},
   "source": [
    "# CBOW vs Skip-Gram\n",
    "* CBOW : 데이터 양이 많으면서 문장이 짧을때. 주변 단어를 가지고 가운데 들어갈 단어를 예측.\n",
    "* Skip-Gram : 데이터 양이 적은 대신 문장이 길때. 단어 하나를 가지고 주변에 나올 단어를 예측"
   ]
  },
  {
   "cell_type": "code",
   "execution_count": 4,
   "metadata": {},
   "outputs": [
    {
     "data": {
      "text/plain": [
       "array([ 1.78576931e-01,  7.49315843e-02, -3.11306894e-01,  1.19309694e-01,\n",
       "       -6.93457872e-02, -3.79123688e-01, -4.79722619e-02,  2.18156844e-01,\n",
       "        3.35759819e-01, -2.68509746e-01, -2.53962390e-02, -5.39642945e-02,\n",
       "       -2.28669476e-02, -2.34709874e-01,  4.06296551e-01, -5.95942259e-01,\n",
       "       -9.14394557e-02,  1.95941761e-01, -6.05779216e-02,  1.14610098e-01,\n",
       "       -1.58663094e-01, -1.28940165e-01, -2.04267800e-01, -7.71410912e-02,\n",
       "        7.36862868e-02, -3.85297276e-02, -2.03342229e-01, -2.00717952e-02,\n",
       "       -3.30716908e-01,  2.24526748e-02, -1.12944432e-01,  2.43033752e-01,\n",
       "       -7.16991955e-04, -3.24769169e-01,  9.21481475e-02, -5.10026291e-02,\n",
       "       -1.29870310e-01, -9.29385349e-02, -3.60544771e-01, -3.88689578e-01,\n",
       "       -2.72048175e-01,  2.34957650e-01,  1.18865073e-03, -2.16316789e-01,\n",
       "       -2.88423330e-01, -1.31094605e-01,  2.02253327e-01, -6.49777278e-02,\n",
       "        3.16089541e-01,  1.80454493e-01,  4.86447103e-03,  1.29069835e-01,\n",
       "        1.29886597e-01,  2.72220492e-01, -2.78364122e-01,  4.80817109e-01,\n",
       "       -1.39624521e-01,  1.19339954e-02,  3.35818648e-01,  6.82121456e-01,\n",
       "       -2.48555660e-01, -4.42053825e-02, -1.96207780e-02,  4.92285863e-02,\n",
       "        2.63739079e-01,  1.59875095e-01, -1.61669806e-01, -6.27683848e-02,\n",
       "       -8.41200724e-02,  1.50274441e-01, -1.89587966e-01, -2.77438760e-01,\n",
       "        1.04947314e-01, -8.15559775e-02,  2.01758370e-01, -2.03314856e-01,\n",
       "        1.03949018e-01, -1.13900173e-02,  2.79983371e-01, -1.52140617e-01,\n",
       "        8.81902650e-02,  2.37112910e-01, -5.14025867e-01, -1.55254483e-01,\n",
       "        1.20562308e-01,  1.21404447e-01,  5.33135496e-02, -7.68750548e-01,\n",
       "        2.19385266e-01,  1.78701784e-02, -2.62764573e-01,  3.04640114e-01,\n",
       "       -5.49675971e-02,  2.67226458e-01, -2.39032358e-01,  3.81487757e-02,\n",
       "        3.74865204e-01,  2.63390481e-01,  8.68418068e-02, -1.34529039e-01,\n",
       "       -3.26777622e-02, -3.42610925e-01, -1.48974881e-01,  2.64627248e-01,\n",
       "        4.69851606e-02, -1.13880262e-01, -1.45271882e-01, -2.35225528e-01,\n",
       "       -2.48147413e-01,  9.42560509e-02, -4.17348407e-02, -2.40635216e-01,\n",
       "        8.80106688e-02, -1.11992933e-01,  2.53574878e-01,  2.05890745e-01,\n",
       "        2.87380934e-01, -2.65163630e-02, -5.62383868e-02, -4.04948711e-01,\n",
       "        2.70251572e-01, -1.55347645e-01,  1.49325356e-01,  2.85241231e-02,\n",
       "        1.29222974e-01,  1.43270465e-02, -3.85510087e-01, -1.61934033e-01,\n",
       "        1.38528928e-01, -1.10164732e-01,  1.11793898e-01, -5.78962825e-02,\n",
       "       -6.69603348e-02, -3.98402214e-02,  1.25882372e-01, -4.51251775e-01,\n",
       "        2.90445834e-01, -6.12992272e-02,  5.56404173e-01,  1.89756334e-01,\n",
       "        7.39613175e-02, -2.73762733e-01, -2.65433490e-01, -5.32344468e-02,\n",
       "       -1.31116271e-01, -2.16399767e-02,  2.44782507e-01, -6.08159900e-02,\n",
       "        6.61417618e-02, -5.98177798e-02, -1.37211353e-01,  3.26368898e-01,\n",
       "        1.99251343e-02, -2.62596412e-03,  2.38035589e-01, -3.01128253e-02,\n",
       "        5.41455753e-04, -1.20590836e-01, -1.53040826e-01, -5.48069537e-01,\n",
       "        2.16989994e-01,  1.01688087e-01, -1.14488602e-02, -8.04984793e-02,\n",
       "       -1.92629293e-01, -6.05385704e-03, -3.77890319e-02, -3.85481939e-02,\n",
       "        3.96690726e-01,  1.74067914e-01, -1.86730817e-01, -6.36118829e-01,\n",
       "        4.16304588e-01,  2.93641895e-01,  1.03571676e-01,  4.92437214e-01,\n",
       "       -1.90120935e-01,  4.59908068e-01,  6.49581671e-01, -8.21504742e-02,\n",
       "       -1.70609996e-01,  8.91169086e-02, -2.56876916e-01, -1.79445431e-01,\n",
       "       -8.38838145e-02, -5.07619739e-01, -2.53898680e-01, -2.74935186e-01,\n",
       "        3.36091854e-02,  3.51295650e-01,  3.23479205e-01,  2.69866049e-01,\n",
       "       -2.57157147e-01, -2.85934001e-01, -2.80457288e-01, -1.44667774e-01,\n",
       "       -8.39941725e-02, -5.46822213e-02,  9.22031775e-02,  3.00288111e-01,\n",
       "       -3.82292986e-01,  3.09585989e-01, -1.37816042e-01, -4.42811660e-03,\n",
       "        5.23295626e-02,  4.23945904e-01, -6.62727356e-02,  1.75171256e-01,\n",
       "        2.16149807e-01,  1.46179870e-01,  2.58506924e-01,  8.56783763e-02,\n",
       "        2.00950608e-01, -2.16054335e-01,  7.18504237e-03,  2.89411824e-02,\n",
       "       -1.29567832e-02, -5.39863169e-01,  8.22924450e-02,  3.08143497e-01,\n",
       "        3.63584071e-01, -1.30547434e-01, -1.11851782e-01,  1.00797430e-01,\n",
       "       -1.25679210e-01,  1.75077051e-01,  2.54456818e-01, -4.11810219e-01,\n",
       "        2.24007681e-01,  8.78158808e-02,  6.25297308e-01,  9.97672230e-02,\n",
       "        2.66370982e-01,  4.72236246e-01,  7.44859874e-02,  3.84874269e-02,\n",
       "       -3.14216733e-01, -6.11148588e-02,  3.55413228e-01,  9.46096703e-02,\n",
       "       -3.01221758e-01, -2.33143002e-01,  3.01672250e-01, -5.14767766e-01,\n",
       "       -1.40384942e-01,  3.75249386e-01,  5.66854894e-01,  6.81918412e-02,\n",
       "       -6.62103593e-02, -2.63421744e-01, -9.91958231e-02,  1.88973472e-01,\n",
       "        1.53324142e-01,  4.18278307e-01,  3.45596015e-01, -2.76647747e-01,\n",
       "       -1.83480576e-01, -3.80116791e-01,  3.70567217e-02, -3.84879887e-01,\n",
       "        2.90542513e-01,  1.43884793e-01,  2.99340874e-01, -2.65471101e-01,\n",
       "       -2.35852391e-01,  3.45095664e-01,  5.85367382e-02, -3.83503169e-01,\n",
       "       -4.35737148e-02, -8.27906355e-02, -5.60818724e-02,  8.60008895e-02,\n",
       "        3.62857848e-01, -1.68746188e-01, -3.12846959e-01,  3.16381603e-01,\n",
       "       -2.04689547e-01, -6.93948120e-02, -6.04544766e-02, -3.60522121e-02,\n",
       "        5.31122051e-02,  2.01405212e-01,  3.75832736e-01,  1.00120604e-02,\n",
       "       -3.27488393e-01, -2.59638168e-02, -1.44312054e-01,  1.40733883e-01,\n",
       "       -1.72009960e-01,  2.71908283e-01,  5.50914332e-02, -3.71113449e-01,\n",
       "        2.44598743e-02,  1.39900997e-01, -2.11039200e-01, -4.23305422e-01,\n",
       "       -3.45119268e-01, -5.30639946e-01, -3.22476804e-01, -2.55285382e-01],\n",
       "      dtype=float32)"
      ]
     },
     "execution_count": 4,
     "metadata": {},
     "output_type": "execute_result"
    }
   ],
   "source": [
    "word2vec_model.wv['컴퓨터/Noun']"
   ]
  },
  {
   "cell_type": "markdown",
   "metadata": {},
   "source": [
    "* 컴퓨터와 비슷한 단어 찾기(학습한 모델)"
   ]
  },
  {
   "cell_type": "code",
   "execution_count": 5,
   "metadata": {},
   "outputs": [
    {
     "name": "stderr",
     "output_type": "stream",
     "text": [
      "/anaconda3/lib/python3.6/site-packages/ipykernel_launcher.py:1: DeprecationWarning: Call to deprecated `most_similar` (Method will be removed in 4.0.0, use self.wv.most_similar() instead).\n",
      "  \"\"\"Entry point for launching an IPython kernel.\n"
     ]
    },
    {
     "data": {
      "text/plain": [
       "[('메모리/Noun', 0.4880021810531616),\n",
       " ('주변기기/Noun', 0.4782713055610657),\n",
       " ('사운드카드/Noun', 0.47793954610824585),\n",
       " ('CMOS/Alpha', 0.4768950045108795),\n",
       " ('데스크톱/Noun', 0.4731979966163635),\n",
       " ('기계어/Noun', 0.46986082196235657),\n",
       " ('데이터베이스/Noun', 0.46964263916015625),\n",
       " ('DAW/Alpha', 0.46937817335128784),\n",
       " ('하드디스크/Noun', 0.4691876173019409),\n",
       " ('모니터/Noun', 0.4667254686355591)]"
      ]
     },
     "execution_count": 5,
     "metadata": {},
     "output_type": "execute_result"
    }
   ],
   "source": [
    "word2vec_model.most_similar(['컴퓨터/Noun'])"
   ]
  },
  {
   "cell_type": "code",
   "execution_count": 6,
   "metadata": {},
   "outputs": [
    {
     "name": "stderr",
     "output_type": "stream",
     "text": [
      "/anaconda3/lib/python3.6/site-packages/ipykernel_launcher.py:1: DeprecationWarning: Call to deprecated `most_similar` (Method will be removed in 4.0.0, use self.wv.most_similar() instead).\n",
      "  \"\"\"Entry point for launching an IPython kernel.\n"
     ]
    },
    {
     "data": {
      "text/plain": [
       "[('게임파크/Noun', 0.5379852652549744),\n",
       " ('노량진/Noun', 0.506752610206604),\n",
       " ('동구/Noun', 0.4893345832824707),\n",
       " ('삼천포/Noun', 0.4800158143043518),\n",
       " ('메가박스/Noun', 0.47919347882270813),\n",
       " ('게임/Noun', 0.478000670671463),\n",
       " ('호점/Noun', 0.47393080592155457),\n",
       " ('유성구/Noun', 0.4692496359348297),\n",
       " ('상당구/Noun', 0.4685227572917938),\n",
       " ('부천시/Noun', 0.4666518568992615)]"
      ]
     },
     "execution_count": 6,
     "metadata": {},
     "output_type": "execute_result"
    }
   ],
   "source": [
    "word2vec_model.most_similar(['오락실/Noun'])"
   ]
  },
  {
   "cell_type": "code",
   "execution_count": 7,
   "metadata": {},
   "outputs": [
    {
     "name": "stderr",
     "output_type": "stream",
     "text": [
      "/anaconda3/lib/python3.6/site-packages/ipykernel_launcher.py:1: DeprecationWarning: Call to deprecated `most_similar` (Method will be removed in 4.0.0, use self.wv.most_similar() instead).\n",
      "  \"\"\"Entry point for launching an IPython kernel.\n"
     ]
    },
    {
     "data": {
      "text/plain": [
       "[('영국/Noun', 0.40712958574295044),\n",
       " ('댈러스/Noun', 0.39196091890335083),\n",
       " ('로스앤젤레스/Noun', 0.3905356526374817),\n",
       " ('컬럼비아/Noun', 0.38957080245018005),\n",
       " ('국회의사당/Noun', 0.38929930329322815),\n",
       " ('교향악단/Noun', 0.38789844512939453),\n",
       " ('용산구/Noun', 0.3861015737056732),\n",
       " ('장충/Noun', 0.38562703132629395),\n",
       " ('캘커타/Noun', 0.38522636890411377),\n",
       " ('상암동/Noun', 0.3841337561607361)]"
      ]
     },
     "execution_count": 7,
     "metadata": {},
     "output_type": "execute_result"
    }
   ],
   "source": [
    "word2vec_model.most_similar(positive = ['서울/Noun', '미국/Noun'], negative=['한국/Noun'])"
   ]
  },
  {
   "cell_type": "code",
   "execution_count": 8,
   "metadata": {},
   "outputs": [],
   "source": [
    "# 모델저장\n",
    "word2vec_model.save(model_path)"
   ]
  },
  {
   "cell_type": "code",
   "execution_count": 14,
   "metadata": {},
   "outputs": [
    {
     "name": "stderr",
     "output_type": "stream",
     "text": [
      "/anaconda3/lib/python3.6/site-packages/ipykernel_launcher.py:1: DeprecationWarning: Call to deprecated `most_similar` (Method will be removed in 4.0.0, use self.wv.most_similar() instead).\n",
      "  \"\"\"Entry point for launching an IPython kernel.\n"
     ]
    },
    {
     "data": {
      "text/plain": [
       "[('엘더스크롤/Noun', 0.4033607840538025),\n",
       " ('넥슨/Noun', 0.3769017457962036),\n",
       " ('크리드/Noun', 0.35956358909606934),\n",
       " ('달심/Noun', 0.3508110046386719),\n",
       " ('CAPCOM/Alpha', 0.3502022922039032),\n",
       " ('XIII/Alpha', 0.34997621178627014),\n",
       " ('싱글플레이/Noun', 0.34686872363090515),\n",
       " ('액션게임/Noun', 0.34419918060302734),\n",
       " ('GTA/Alpha', 0.3440825939178467),\n",
       " ('마블/Noun', 0.34189626574516296)]"
      ]
     },
     "execution_count": 14,
     "metadata": {},
     "output_type": "execute_result"
    }
   ],
   "source": [
    "word2vec_model.most_similar(positive = ['철권/Noun','게임/Noun'], negative=['오락/Noun'])"
   ]
  },
  {
   "cell_type": "code",
   "execution_count": 15,
   "metadata": {},
   "outputs": [
    {
     "name": "stderr",
     "output_type": "stream",
     "text": [
      "/anaconda3/lib/python3.6/site-packages/ipykernel_launcher.py:1: DeprecationWarning: Call to deprecated `most_similar` (Method will be removed in 4.0.0, use self.wv.most_similar() instead).\n",
      "  \"\"\"Entry point for launching an IPython kernel.\n"
     ]
    },
    {
     "data": {
      "text/plain": [
       "[('괭이갈매기/Noun', 0.808375895023346),\n",
       " ('테일즈런너/Noun\\n', 0.666684627532959),\n",
       " ('즈미/Noun', 0.6530146598815918),\n",
       " ('코믹파티/Noun\\n', 0.6499896049499512),\n",
       " ('나미/Noun\\n', 0.6497930288314819),\n",
       " ('크루세이더즈/Noun\\n', 0.6486780643463135),\n",
       " ('아키/Noun\\n', 0.6463680863380432),\n",
       " ('세키레이/Noun\\n', 0.646142303943634),\n",
       " ('스케치북/Noun\\n', 0.6440739035606384),\n",
       " ('하급생/Noun\\n', 0.6438494920730591)]"
      ]
     },
     "execution_count": 15,
     "metadata": {},
     "output_type": "execute_result"
    }
   ],
   "source": [
    "word2vec_model.most_similar(['쓰르라미/Noun'])"
   ]
  },
  {
   "cell_type": "code",
   "execution_count": 16,
   "metadata": {},
   "outputs": [
    {
     "name": "stderr",
     "output_type": "stream",
     "text": [
      "/anaconda3/lib/python3.6/site-packages/ipykernel_launcher.py:1: DeprecationWarning: Call to deprecated `most_similar` (Method will be removed in 4.0.0, use self.wv.most_similar() instead).\n",
      "  \"\"\"Entry point for launching an IPython kernel.\n"
     ]
    },
    {
     "data": {
      "text/plain": [
       "[('박경락/Noun', 0.7864271998405457),\n",
       " ('박용욱/Noun', 0.7656582593917847),\n",
       " ('변길섭/Noun', 0.7602831125259399),\n",
       " ('이병렬/Noun', 0.7600435018539429),\n",
       " ('임정현/Noun', 0.7480770945549011),\n",
       " ('박령우/Noun', 0.7472872734069824),\n",
       " ('김대엽/Noun', 0.7383952140808105),\n",
       " ('최종혁/Noun', 0.7383594512939453),\n",
       " ('강도경/Noun', 0.7374047636985779),\n",
       " ('장윤철/Noun', 0.734906792640686)]"
      ]
     },
     "execution_count": 16,
     "metadata": {},
     "output_type": "execute_result"
    }
   ],
   "source": [
    "word2vec_model.most_similar(['도재욱/Noun'])"
   ]
  },
  {
   "cell_type": "code",
   "execution_count": 24,
   "metadata": {},
   "outputs": [
    {
     "name": "stderr",
     "output_type": "stream",
     "text": [
      "/anaconda3/lib/python3.6/site-packages/ipykernel_launcher.py:1: DeprecationWarning: Call to deprecated `most_similar` (Method will be removed in 4.0.0, use self.wv.most_similar() instead).\n",
      "  \"\"\"Entry point for launching an IPython kernel.\n"
     ]
    },
    {
     "data": {
      "text/plain": [
       "[('구자철/Noun', 0.7721368074417114),\n",
       " ('이청용/Noun', 0.7673439383506775),\n",
       " ('기성용/Noun', 0.7145845890045166),\n",
       " ('곽태휘/Noun', 0.7007303237915039),\n",
       " ('남태희/Noun', 0.6983648538589478),\n",
       " ('박주영/Noun', 0.6928110718727112),\n",
       " ('이정협/Noun', 0.6916085481643677),\n",
       " ('김주영/Noun', 0.6899188756942749),\n",
       " ('이근호/Noun', 0.6858675479888916),\n",
       " ('김진현/Noun', 0.6849050521850586)]"
      ]
     },
     "execution_count": 24,
     "metadata": {},
     "output_type": "execute_result"
    }
   ],
   "source": [
    "word2vec_model.most_similar(['손흥민/Noun'])"
   ]
  },
  {
   "cell_type": "code",
   "execution_count": 25,
   "metadata": {},
   "outputs": [
    {
     "name": "stderr",
     "output_type": "stream",
     "text": [
      "/anaconda3/lib/python3.6/site-packages/ipykernel_launcher.py:1: DeprecationWarning: Call to deprecated `most_similar` (Method will be removed in 4.0.0, use self.wv.most_similar() instead).\n",
      "  \"\"\"Entry point for launching an IPython kernel.\n"
     ]
    },
    {
     "data": {
      "text/plain": [
       "[('저녁/Noun', 0.5666530728340149),\n",
       " ('아침/Noun', 0.503180205821991),\n",
       " ('화요일/Noun', 0.4936125874519348),\n",
       " ('낮/Noun', 0.4763809144496918),\n",
       " ('보름달/Noun', 0.4653308391571045),\n",
       " ('새벽/Noun', 0.4627934396266937),\n",
       " ('평일/Noun', 0.4562031030654907),\n",
       " ('불빛/Noun', 0.4561612010002136),\n",
       " ('정각/Noun', 0.4544278383255005),\n",
       " ('밤/Noun\\n', 0.4459311366081238)]"
      ]
     },
     "execution_count": 25,
     "metadata": {},
     "output_type": "execute_result"
    }
   ],
   "source": [
    "word2vec_model.most_similar(['밤/Noun'])"
   ]
  },
  {
   "cell_type": "code",
   "execution_count": 29,
   "metadata": {},
   "outputs": [],
   "source": [
    "# 모델 불러오기\n",
    "word2vec_model = Word2Vec.load(model_path)"
   ]
  }
 ],
 "metadata": {
  "kernelspec": {
   "display_name": "Python 3",
   "language": "python",
   "name": "python3"
  },
  "language_info": {
   "codemirror_mode": {
    "name": "ipython",
    "version": 3
   },
   "file_extension": ".py",
   "mimetype": "text/x-python",
   "name": "python",
   "nbconvert_exporter": "python",
   "pygments_lexer": "ipython3",
   "version": "3.6.6"
  }
 },
 "nbformat": 4,
 "nbformat_minor": 2
}
