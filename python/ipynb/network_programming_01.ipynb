{
  "nbformat": 4,
  "nbformat_minor": 0,
  "metadata": {
    "colab": {
      "name": "network_programming_01.ipynb",
      "provenance": [],
      "collapsed_sections": [],
      "authorship_tag": "ABX9TyN6Ub1Sh6pAOJjjMqj2iHZm",
      "include_colab_link": true
    },
    "kernelspec": {
      "name": "python3",
      "display_name": "Python 3"
    }
  },
  "cells": [
    {
      "cell_type": "markdown",
      "metadata": {
        "id": "view-in-github",
        "colab_type": "text"
      },
      "source": [
        "<a href=\"https://colab.research.google.com/gist/SDRLurker/f459a8a2cfdff8cbcc65025207b55bf8/network_programming_01.ipynb\" target=\"_parent\"><img src=\"https://colab.research.google.com/assets/colab-badge.svg\" alt=\"Open In Colab\"/></a>"
      ]
    },
    {
      "cell_type": "markdown",
      "metadata": {
        "id": "AowMNwEGlvUG",
        "colab_type": "text"
      },
      "source": [
        "## 1-1. 네트워크 프로그래밍의 이해\n",
        "\n",
        "* 네트워크 : 호스트(End-system)들을 연결하는 시스템\n",
        "* 호스트 : PC, workstation, PDA\n",
        "* 인터넷 : 멀리 떨어진 둘 이상의 네트워크가 연결되 이뤄진 거대한 네트워크\n",
        "* 라우터 : 이기종 네트워크를 연결하는 장비"
      ]
    },
    {
      "cell_type": "markdown",
      "metadata": {
        "id": "tmS1sbXmmB0l",
        "colab_type": "text"
      },
      "source": [
        "## 1.2 소켓 이해하기\n",
        "\n",
        "### 클라이언트/서버 모델\n",
        "\n",
        "* 기계 아님. \n",
        "* 서버 : 연결 요청을 기다린다.\n",
        "  - Iterative(반복적인) Server : 한 순간에 하나의 클라이언트에게 응담\n",
        "  - Concurrent Server : 동시에 여러 클라이언트에게 응답한다.\n",
        "\n",
        "* 클라이언트 : 서버에 요청하고 응답을 기다리는 호스트.\n",
        "\n",
        "### 네트워크 프로그래밍\n",
        "\n",
        "* 네트워크로 연결된 두 호스트 간의 데이터 송수신\n",
        "* 소켓 : 원격에 존재하는 두 호스트를 연결시켜 주는 매개체. 운영체제에서 제공한다. (소켓을 꽂으면 전원을 받는다.)\n",
        "\n",
        "\n"
      ]
    },
    {
      "cell_type": "markdown",
      "metadata": {
        "id": "q4N_bpeNm10k",
        "colab_type": "text"
      },
      "source": [
        "### 서버 소켓(리눅스 함수) - c언어\n",
        "\n",
        "* 소켓 생성(전화기 구입) - socket\n",
        "  - 리턴 : 성공시 파일 디스크립터 실패시 -1\n",
        "\n",
        "```c\n",
        "#include<sys/types.h>\n",
        "#include<sys/socket.h>\n",
        "int socket(int domain, int type, int protocol);\n",
        "```\n",
        "  \n",
        "* IP 주소, 포트 할당(전화번호 할당) - bind\n",
        "  - 리턴 : 성공시 0, 실패시 -1\n",
        "\n",
        "```c\n",
        "#include<sys/socket.h>\n",
        "int bind(int sockfd, struct sockaddr *myaddr, int addrlen);\n",
        "```\n",
        "  \n",
        "* 연결 요청 대기 상태(케이블에 연결) - listen\n",
        "  - 리턴 : 성공시 0, 실패시 -1\n",
        "\n",
        "```c\n",
        "#include<sys/socket.h>\n",
        "int listen(int sockfd, int backlog);\n",
        "```\n",
        "\n",
        "* 연결 수락(수화기를 든다) - accept\n",
        "  - 리턴 : 성공시 파일 디스크립터 실패시 -1\n",
        "\n",
        "```c\n",
        "#include<sys/socket.h>\n",
        "int accept(int sockfd, struct sockaddr *addr, int *addrlen);\n",
        "```"
      ]
    },
    {
      "cell_type": "markdown",
      "metadata": {
        "id": "mlFXpaT5nTBZ",
        "colab_type": "text"
      },
      "source": [
        "### 서버 소켓 - Python\n",
        "\n",
        "* 소켓 생성(전화기 구입) - socket\n",
        "\n",
        "```python\n",
        "import socket\n",
        "help(socket.socket)\n",
        "\n",
        "소켓 모듈에서 class 소켓 도움말\n",
        "\n",
        "class socket(_socket.socket)\n",
        " |  makefile() 메소드를 추가한 _socket.socket의 subclass\n",
        " |  \n",
        " |  메소드 해석 순서:\n",
        " |      socket\n",
        " |      _socket.socket\n",
        " |      builtins.object\n",
        " ...\n",
        "```"
      ]
    },
    {
      "cell_type": "markdown",
      "metadata": {
        "id": "GDrg4eJpn6YB",
        "colab_type": "text"
      },
      "source": [
        "* IP 주소, 포트 할당(전화번호 할당) - bind\n",
        "\n",
        "```python\n",
        "import socket\n",
        "help(socket.socket.bind)\n",
        "\n",
        "메소드_설명 도움말:\n",
        "\n",
        "bind(...)\n",
        "    bind(address)\n",
        "    \n",
        "    local 주소로 소켓을 Bind/ IP 소켓에 대해 주소는 (host, port) 쌍으로 구성됨.\n",
        "    호스트는 local host를 의미함. raw packet 소켓 주소는 tuple임. \n",
        "    (ifname, proto [,pkttype [,hatype [,addr]]])\n",
        "```"
      ]
    },
    {
      "cell_type": "code",
      "metadata": {
        "id": "uXOFDAuWn7Pv",
        "colab_type": "code",
        "outputId": "f6a99f65-9bba-4945-e807-6bcb74d6275a",
        "colab": {
          "base_uri": "https://localhost:8080/",
          "height": 179
        }
      },
      "source": [
        "import socket\n",
        "help(socket.socket.bind)"
      ],
      "execution_count": 0,
      "outputs": [
        {
          "output_type": "stream",
          "text": [
            "Help on method_descriptor:\n",
            "\n",
            "bind(...)\n",
            "    bind(address)\n",
            "    \n",
            "    Bind the socket to a local address.  For IP sockets, the address is a\n",
            "    pair (host, port); the host must refer to the local host. For raw packet\n",
            "    sockets the address is a tuple (ifname, proto [,pkttype [,hatype [,addr]]])\n",
            "\n"
          ],
          "name": "stdout"
        }
      ]
    },
    {
      "cell_type": "markdown",
      "metadata": {
        "id": "KqQXe44jpCWA",
        "colab_type": "text"
      },
      "source": [
        "* 연결 요청 대기 상태(케이블에 연결) - listen\n",
        "\n",
        "```python\n",
        "import socket\n",
        "help(socket.socket.listen)\n",
        " \n",
        "메소드_설명 도움말:\n",
        "\n",
        "listen(...)\n",
        "    listen([backlog])\n",
        "    \n",
        "    서버가 연결을 수락하도록 합니다. backlog가 지정되면, 0 이상이어야 합니다\n",
        "    (더 낮으면 0으로 설정됩니다); 새로운 연결을 거부하기 전에 시스템이 허락할\n",
        "    수락되지 않은 연결 수를 지정합니다. 지정하지 않으면, 기본값으로 적당한 값이\n",
        "    선택됩니다.\n",
        "```"
      ]
    },
    {
      "cell_type": "code",
      "metadata": {
        "id": "z4RbrCJCpEtt",
        "colab_type": "code",
        "outputId": "19d33642-80d5-4df9-f4b4-9e8d0412960e",
        "colab": {
          "base_uri": "https://localhost:8080/",
          "height": 197
        }
      },
      "source": [
        "import socket\n",
        "help(socket.socket.listen)"
      ],
      "execution_count": 0,
      "outputs": [
        {
          "output_type": "stream",
          "text": [
            "Help on method_descriptor:\n",
            "\n",
            "listen(...)\n",
            "    listen([backlog])\n",
            "    \n",
            "    Enable a server to accept connections.  If backlog is specified, it must be\n",
            "    at least 0 (if it is lower, it is set to 0); it specifies the number of\n",
            "    unaccepted connections that the system will allow before refusing new\n",
            "    connections. If not specified, a default reasonable value is chosen.\n",
            "\n"
          ],
          "name": "stdout"
        }
      ]
    },
    {
      "cell_type": "markdown",
      "metadata": {
        "id": "YXqqEg53qftm",
        "colab_type": "text"
      },
      "source": [
        "* 연결 수락(수화기를 든다) - accept\n",
        "\n",
        "```python\n",
        "import socket\n",
        "help(socket.socket.accept)\n",
        " \n",
        "모듈 소켓의 accept 함수 도움말:\n",
        "\n",
        "accept(self)\n",
        "    accept() -> (socket object, address info)\n",
        "\n",
        "    들어오는 연결을 기다립니다. 연결을 표현하는 새로운 소켓 객체, \n",
        "    클라이언트의 주소를 리턴합니다. \n",
        "    IP 소켓에 대한 주소는 (host주소, port) 쌍입니다. \n",
        "```"
      ]
    },
    {
      "cell_type": "code",
      "metadata": {
        "id": "GKONVvXWqjg4",
        "colab_type": "code",
        "outputId": "c557b89a-ce57-4e40-9d0c-338f7ea25748",
        "colab": {
          "base_uri": "https://localhost:8080/",
          "height": 179
        }
      },
      "source": [
        "import socket\n",
        "help(socket.socket.accept)"
      ],
      "execution_count": 0,
      "outputs": [
        {
          "output_type": "stream",
          "text": [
            "Help on function accept in module socket:\n",
            "\n",
            "accept(self)\n",
            "    accept() -> (socket object, address info)\n",
            "    \n",
            "    Wait for an incoming connection.  Return a new socket\n",
            "    representing the connection, and the address of the client.\n",
            "    For IP sockets, the address info is a pair (hostaddr, port).\n",
            "\n"
          ],
          "name": "stdout"
        }
      ]
    },
    {
      "cell_type": "markdown",
      "metadata": {
        "id": "yaS6o--dm7oN",
        "colab_type": "text"
      },
      "source": [
        "### 클라이언트 소켓 - c언어\n",
        "\n",
        "* 소켓 생성(전화기 구입) - socket\n",
        "* 연결 요청(전화 걸기) - connect\n",
        "  - 리턴 : 성공시 0, 실패시 -1\n",
        "  \n",
        "```c\n",
        "int connect(int sockfd, struct sockaddr *addr, int addrlen);\n",
        "```\n",
        "\n",
        "\n",
        "\n",
        "\n",
        "\n"
      ]
    },
    {
      "cell_type": "markdown",
      "metadata": {
        "id": "LQMqF1a0xiTm",
        "colab_type": "text"
      },
      "source": [
        "* 리눅스 프로그램 컴파일(링크) 하는 법 : gcc ?.c -o ?\n",
        "* 실행하는 법 : ./?\n",
        "  - 로컬 컴퓨터의 IP : 127.0.0.1\n",
        "  - 당연히 서버부터 수행한다."
      ]
    },
    {
      "cell_type": "markdown",
      "metadata": {
        "id": "D26VpzyTxne5",
        "colab_type": "text"
      },
      "source": [
        "### 클라이언트 소켓 - Python\n",
        "\n",
        "* 소켓 생성(전화기 구입) - socket\n",
        "* 연결 요청(전화 걸기) - connect\n",
        "\n",
        "```python\n",
        "import socket\n",
        "help(socket.socket.connect)\n",
        " \n",
        "메소드_설명 도움말:\n",
        "\n",
        "connect(...)\n",
        "    connect(address)\n",
        "    \n",
        "    원격 주소로 소켓을 접속합니다. IP 소켓에서 주소는 (호스트, 포트) 쌍입니다. \n",
        "```\n",
        "\n",
        "\n",
        "\n",
        "\n"
      ]
    },
    {
      "cell_type": "code",
      "metadata": {
        "id": "pqAU0j2ixqWj",
        "colab_type": "code",
        "outputId": "f785e6fe-e881-42e2-ad17-65cc056bb086",
        "colab": {
          "base_uri": "https://localhost:8080/",
          "height": 161
        }
      },
      "source": [
        "import socket\n",
        "help(socket.socket.connect)"
      ],
      "execution_count": 0,
      "outputs": [
        {
          "output_type": "stream",
          "text": [
            "Help on method_descriptor:\n",
            "\n",
            "connect(...)\n",
            "    connect(address)\n",
            "    \n",
            "    Connect the socket to a remote address.  For IP sockets, the address\n",
            "    is a pair (host, port).\n",
            "\n"
          ],
          "name": "stdout"
        }
      ]
    },
    {
      "cell_type": "markdown",
      "metadata": {
        "id": "2TxrwaOMxflH",
        "colab_type": "text"
      },
      "source": [
        "## 1.3 파일 조작하기\n",
        "\n",
        "* 리눅스에서는 모든 것(소켓등)을 파일로 간주한다.\n",
        "* 파일의 생성, 삭제, 데이터 입력 및 출력.\n",
        "* 관리는 운영체제가 한다.\n",
        "\n",
        "\n",
        "### 저수준 파일 입출력 \n",
        "\n",
        "* 저수준은 시스템이 직접 제공해 준다는 뜻.\n",
        "* 표준입력 : 기본은 키보드, fd 0번\n",
        "* 표준출력 : 기본은 모니터, fd 1번\n",
        "* 표준에러출력 : 기본은 모니터, 버퍼가 없음. fd 2번\n",
        "\n",
        "※ 전송은 출력, 수신은 입력은 같은 의미.\n",
        "\n",
        "※ 표준입출력함수 : ANSI 표준에서 제공해 주는 함수. printf, scanf등...\n",
        "\n",
        "\n",
        "### 파일 디스크립터(file descriptor) - c언어\n",
        "\n",
        "* 시스템이 만든 것을 가리키기 좋게 하기(포인터) 위해 시스템이 사용자에게 건내주는 숫자값. \n",
        "* 윈도우의 핸들과 비슷.\n",
        "* 모든 파일을 관리하기 위해 운영체제에서 파일 디스크립터를 할당한다.\n",
        "\n",
        "※ 파일 디스크립터는 redirection가능."
      ]
    },
    {
      "cell_type": "markdown",
      "metadata": {
        "id": "MCVgzjFVyUf_",
        "colab_type": "text"
      },
      "source": [
        "* 파일 열기\n",
        "  - 리턴 : 성공시 파일 디스크립터, 실패시 -1\n",
        "  - path : 파일에 대한 경로\n",
        "  - flag : 모드 설정. |(bit wise)를 통해 연산가능.\n",
        "    - O_CREAT : 파일이 없을 때 파일 생성. \n",
        "    - O_TRUNC : 파일이 있다면 새로 생성.\n",
        "    - O_RDONLY : 읽기 전용 모드\n",
        "\n",
        "```c\n",
        "#include <fcntl.h>\n",
        "#include<sys/types.h>\n",
        "#include<sys/stat.h>\n",
        "\n",
        "int open(const char *path, int flag);\n",
        "```\n",
        "\n",
        "* 파일 닫기\n",
        "  - 리턴 : 성공시 0, 실패시 -1\n",
        "  - filedes : 닫아줄 파일의 파일 디스크립터\n",
        "\n",
        "```c\n",
        "#include<unistd.h>\n",
        "int close(int filedes);\n",
        "```\n",
        "\n",
        "* 데이터 쓰기\n",
        "  - filedes : 데이터 전송 영역의 파일 디스크립터.\n",
        "  - buf : 전송할 데이터를 가지고 있는 버퍼(데이터)의 포인터. \n",
        "  - nbytes : 전송할 데이터의 바이트수.\n",
        "\n",
        "```c\n",
        "#include<unistd.h>\n",
        "ssize_t write(int filedes, const void * buf, size_t nbytes);\n",
        "```\n",
        "\n",
        "* ssize_t = signed int, size_t = unsigned int\n",
        "\n",
        "※ 타입이름을 새로 정의하는 이유는 다른 시스템에서 실행시키기 위해(코드 확장성)\n",
        "\n",
        "=> 소스 코드를 바꾸지 않고 컴파일만 다시 하면 새로운 시스템에서 잘 돌아간다.\n",
        "\n",
        "\n",
        "* 데이터 읽기\n",
        "  - filedes : 데이터를 수신 받을 대상을 가리키는 파일 디스크립터.\n",
        "  - buf : 수신한 데이터를 저장할 버퍼의 포인터\n",
        "  - nbytes : 수신할 최대 바이트수.\n",
        "\n",
        "```c\n",
        "#include<unistd.h>\n",
        "ssize_t read(int filedes, void *buf, size_t nbytes);\n",
        "```"
      ]
    },
    {
      "cell_type": "markdown",
      "metadata": {
        "id": "PA6OvwEKbgRy",
        "colab_type": "text"
      },
      "source": [
        "### 파일 디스크립터(file descriptor) - Python\n",
        "* 파일 열기\n",
        "\n",
        "```python\n",
        "help(open)\n",
        " \n",
        "모듈 io에서 내장 함수 open에 대한 도움말 :\n",
        "\n",
        "open (file, mode = 'r', buffering = -1, encoding = None, erros = None, newline = None, closefd = True, opener = None)\n",
        "    파일을 열고 스트림을 반환합니다. 실패시 IOError를 발생시킵니다.\n",
        "    \n",
        "    file은 이름과 경로를 제공하는 텍스트 또는 바이트 문자열입니다.\n",
        "    (파일이 현재 작업중인 디렉토리에 없는 경우 경로도 필요)\n",
        "    열거나 파일의 정수 파일 디스크립터를 wrapping. \n",
        "    (파일 디스크립터가 주어지면 closefd가 False로 설정되어\n",
        "    있지 않다면 리턴된 I / O 오브젝트가 닫힙니다.)\n",
        "    \n",
        "    mode는 열릴 파일이 있는 모드를 지정하는 선택적 문자열입니다.\n",
        "    기본적으로 'r'이며 텍스트를 읽을 수 있도록 열리게 됩니다.\n",
        "    다른 일반적인 값은 쓰기에 대한 'w'입니다 (이미 파일이\n",
        "    존재할 때 기존 파일을 버릴 경우), 새 파일을 작성하고 쓰기\n",
        "    위해서는 'x', 추가를 위한 'a'(일부 유닉스 시스템에서 모든\n",
        "    쓰기는 현재 탐색 위치에 관계없이 파일 끝에 추가됩니다).\n",
        "    텍스트 모드에서 인코딩이 지정되지 않은 경우 사용된 \n",
        "    인코딩은 플랫폼 의존적입니다.\n",
        "    의존 : locale.getpreferredencoding (False)는\n",
        "    현재 locale 인코딩을 얻기 위해 호출됩니다. (원시 바이트를\n",
        "    읽고 쓰려면 바이너리(binary) 모드를 사용하십시오.\n",
        "    사용 가능한 모드는 다음과 같습니다.\n",
        "```\n",
        "\n",
        "|문자|의미|\n",
        "|-|-|\n",
        "|'r'|읽기 위해 열기. (기본값)|\n",
        "|'w'|쓰기 위해 열기. 먼저 파일을 버림|\n",
        "|'x'|새로운 파일을 열고 쓰기 위해 열기|\n",
        "|'a'|쓰기 위해 열고 파일이 있으면 파일 끝에 추가하기|\n",
        "|'b'|바이너리(binary) 모드\n",
        "|'t'|텍스트(text) 모드. (기본값)|\n",
        "|'+'|(읽기와 쓰기)를 갱신하기 위한 디스크 파일 열기|\n",
        "|'U'|범용 개행 모드 (더 이상 사용되지 않음)|\n",
        "\n",
        "\n",
        "```    \n",
        "    기본 모드는 'rt'(텍스트를 읽기 위해 열림)입니다. 이진 랜덤\n",
        "    액세스하면 모드 'w+b'가 열리고 파일을 0바이트로 만듭니다.\n",
        "    'r+b'는 파일을 삭제하지 않고 파일을 엽니다. 'x'모드는\n",
        "    'w'를 내포하며 파일이 이미 존재하면 `FileExistsError`를 발생시킵니다.\n",
        "```"
      ]
    },
    {
      "cell_type": "code",
      "metadata": {
        "id": "jeOKHFrJcIjo",
        "colab_type": "code",
        "colab": {
          "base_uri": "https://localhost:8080/",
          "height": 1000
        },
        "outputId": "b4b8e12a-7b6d-45bc-f98a-ea116f0c3804"
      },
      "source": [
        "help(open)"
      ],
      "execution_count": 1,
      "outputs": [
        {
          "output_type": "stream",
          "text": [
            "Help on built-in function open in module io:\n",
            "\n",
            "open(file, mode='r', buffering=-1, encoding=None, errors=None, newline=None, closefd=True, opener=None)\n",
            "    Open file and return a stream.  Raise IOError upon failure.\n",
            "    \n",
            "    file is either a text or byte string giving the name (and the path\n",
            "    if the file isn't in the current working directory) of the file to\n",
            "    be opened or an integer file descriptor of the file to be\n",
            "    wrapped. (If a file descriptor is given, it is closed when the\n",
            "    returned I/O object is closed, unless closefd is set to False.)\n",
            "    \n",
            "    mode is an optional string that specifies the mode in which the file\n",
            "    is opened. It defaults to 'r' which means open for reading in text\n",
            "    mode.  Other common values are 'w' for writing (truncating the file if\n",
            "    it already exists), 'x' for creating and writing to a new file, and\n",
            "    'a' for appending (which on some Unix systems, means that all writes\n",
            "    append to the end of the file regardless of the current seek position).\n",
            "    In text mode, if encoding is not specified the encoding used is platform\n",
            "    dependent: locale.getpreferredencoding(False) is called to get the\n",
            "    current locale encoding. (For reading and writing raw bytes use binary\n",
            "    mode and leave encoding unspecified.) The available modes are:\n",
            "    \n",
            "    ========= ===============================================================\n",
            "    Character Meaning\n",
            "    --------- ---------------------------------------------------------------\n",
            "    'r'       open for reading (default)\n",
            "    'w'       open for writing, truncating the file first\n",
            "    'x'       create a new file and open it for writing\n",
            "    'a'       open for writing, appending to the end of the file if it exists\n",
            "    'b'       binary mode\n",
            "    't'       text mode (default)\n",
            "    '+'       open a disk file for updating (reading and writing)\n",
            "    'U'       universal newline mode (deprecated)\n",
            "    ========= ===============================================================\n",
            "    \n",
            "    The default mode is 'rt' (open for reading text). For binary random\n",
            "    access, the mode 'w+b' opens and truncates the file to 0 bytes, while\n",
            "    'r+b' opens the file without truncation. The 'x' mode implies 'w' and\n",
            "    raises an `FileExistsError` if the file already exists.\n",
            "    \n",
            "    Python distinguishes between files opened in binary and text modes,\n",
            "    even when the underlying operating system doesn't. Files opened in\n",
            "    binary mode (appending 'b' to the mode argument) return contents as\n",
            "    bytes objects without any decoding. In text mode (the default, or when\n",
            "    't' is appended to the mode argument), the contents of the file are\n",
            "    returned as strings, the bytes having been first decoded using a\n",
            "    platform-dependent encoding or using the specified encoding if given.\n",
            "    \n",
            "    'U' mode is deprecated and will raise an exception in future versions\n",
            "    of Python.  It has no effect in Python 3.  Use newline to control\n",
            "    universal newlines mode.\n",
            "    \n",
            "    buffering is an optional integer used to set the buffering policy.\n",
            "    Pass 0 to switch buffering off (only allowed in binary mode), 1 to select\n",
            "    line buffering (only usable in text mode), and an integer > 1 to indicate\n",
            "    the size of a fixed-size chunk buffer.  When no buffering argument is\n",
            "    given, the default buffering policy works as follows:\n",
            "    \n",
            "    * Binary files are buffered in fixed-size chunks; the size of the buffer\n",
            "      is chosen using a heuristic trying to determine the underlying device's\n",
            "      \"block size\" and falling back on `io.DEFAULT_BUFFER_SIZE`.\n",
            "      On many systems, the buffer will typically be 4096 or 8192 bytes long.\n",
            "    \n",
            "    * \"Interactive\" text files (files for which isatty() returns True)\n",
            "      use line buffering.  Other text files use the policy described above\n",
            "      for binary files.\n",
            "    \n",
            "    encoding is the name of the encoding used to decode or encode the\n",
            "    file. This should only be used in text mode. The default encoding is\n",
            "    platform dependent, but any encoding supported by Python can be\n",
            "    passed.  See the codecs module for the list of supported encodings.\n",
            "    \n",
            "    errors is an optional string that specifies how encoding errors are to\n",
            "    be handled---this argument should not be used in binary mode. Pass\n",
            "    'strict' to raise a ValueError exception if there is an encoding error\n",
            "    (the default of None has the same effect), or pass 'ignore' to ignore\n",
            "    errors. (Note that ignoring encoding errors can lead to data loss.)\n",
            "    See the documentation for codecs.register or run 'help(codecs.Codec)'\n",
            "    for a list of the permitted encoding error strings.\n",
            "    \n",
            "    newline controls how universal newlines works (it only applies to text\n",
            "    mode). It can be None, '', '\\n', '\\r', and '\\r\\n'.  It works as\n",
            "    follows:\n",
            "    \n",
            "    * On input, if newline is None, universal newlines mode is\n",
            "      enabled. Lines in the input can end in '\\n', '\\r', or '\\r\\n', and\n",
            "      these are translated into '\\n' before being returned to the\n",
            "      caller. If it is '', universal newline mode is enabled, but line\n",
            "      endings are returned to the caller untranslated. If it has any of\n",
            "      the other legal values, input lines are only terminated by the given\n",
            "      string, and the line ending is returned to the caller untranslated.\n",
            "    \n",
            "    * On output, if newline is None, any '\\n' characters written are\n",
            "      translated to the system default line separator, os.linesep. If\n",
            "      newline is '' or '\\n', no translation takes place. If newline is any\n",
            "      of the other legal values, any '\\n' characters written are translated\n",
            "      to the given string.\n",
            "    \n",
            "    If closefd is False, the underlying file descriptor will be kept open\n",
            "    when the file is closed. This does not work when a file name is given\n",
            "    and must be True in that case.\n",
            "    \n",
            "    A custom opener can be used by passing a callable as *opener*. The\n",
            "    underlying file descriptor for the file object is then obtained by\n",
            "    calling *opener* with (*file*, *flags*). *opener* must return an open\n",
            "    file descriptor (passing os.open as *opener* results in functionality\n",
            "    similar to passing None).\n",
            "    \n",
            "    open() returns a file object whose type depends on the mode, and\n",
            "    through which the standard file operations such as reading and writing\n",
            "    are performed. When open() is used to open a file in a text mode ('w',\n",
            "    'r', 'wt', 'rt', etc.), it returns a TextIOWrapper. When used to open\n",
            "    a file in a binary mode, the returned class varies: in read binary\n",
            "    mode, it returns a BufferedReader; in write binary and append binary\n",
            "    modes, it returns a BufferedWriter, and in read/write mode, it returns\n",
            "    a BufferedRandom.\n",
            "    \n",
            "    It is also possible to use a string or bytearray as a file for both\n",
            "    reading and writing. For strings StringIO can be used like a file\n",
            "    opened in a text mode, and for bytes a BytesIO can be used like a file\n",
            "    opened in a binary mode.\n",
            "\n"
          ],
          "name": "stdout"
        }
      ]
    },
    {
      "cell_type": "markdown",
      "metadata": {
        "id": "J15Ug-mkgeHS",
        "colab_type": "text"
      },
      "source": [
        "* 데이터 쓰기\n",
        "\n",
        "```python\n",
        "f = open('test','w')\n",
        "help(f.close)\n",
        "f.close()\n",
        "\n",
        "\n",
        "내장 함수 close에 대한 도움말 :\n",
        "\n",
        "_io.TextIOWrapper 인스턴스의 close () 메소드\n",
        "    IO 객체의 스트림을 내보내고(flush) 닫습니다.\n",
        "    \n",
        "    파일이 이미 닫힌 경우 이 방법은 효과가 없습니다.\n",
        "```"
      ]
    },
    {
      "cell_type": "code",
      "metadata": {
        "id": "bv-vRRnSxV1p",
        "colab_type": "code",
        "colab": {
          "base_uri": "https://localhost:8080/",
          "height": 148
        },
        "outputId": "ce31c876-3ef0-4a2f-cbe9-a245dd389f04"
      },
      "source": [
        "f = open('test','w')\n",
        "help(f.close)\n",
        "f.close()"
      ],
      "execution_count": 3,
      "outputs": [
        {
          "output_type": "stream",
          "text": [
            "Help on built-in function close:\n",
            "\n",
            "close() method of _io.TextIOWrapper instance\n",
            "    Flush and close the IO object.\n",
            "    \n",
            "    This method has no effect if the file is already closed.\n",
            "\n"
          ],
          "name": "stdout"
        }
      ]
    },
    {
      "cell_type": "markdown",
      "metadata": {
        "id": "jHOopyfQyNxg",
        "colab_type": "text"
      },
      "source": [
        "* 데이터 쓰기\n",
        "\n",
        "```python\n",
        "f = open('test','w')\n",
        "help(f.write)\n",
        "f.close()\n",
        "\n",
        "내장 함수 write에 대한 도움말 :\n",
        "\n",
        "_io.TextIOWrapper 인스턴스의 write (text, /) 메소드\n",
        "    스트림에 문자열을 씁니다.\n",
        "    쓴 문자 수를 리턴합니다 (문자열의 길이와 항상 똑같습니다).\n",
        "```"
      ]
    },
    {
      "cell_type": "code",
      "metadata": {
        "id": "OUmzKkBSymdw",
        "colab_type": "code",
        "colab": {
          "base_uri": "https://localhost:8080/",
          "height": 148
        },
        "outputId": "b1034fa3-2a68-4dc6-9c28-70af32e72a3f"
      },
      "source": [
        "f = open('test','w')\n",
        "help(f.write)\n",
        "f.close()"
      ],
      "execution_count": 4,
      "outputs": [
        {
          "output_type": "stream",
          "text": [
            "Help on built-in function write:\n",
            "\n",
            "write(text, /) method of _io.TextIOWrapper instance\n",
            "    Write string to stream.\n",
            "    Returns the number of characters written (which is always equal to\n",
            "    the length of the string).\n",
            "\n"
          ],
          "name": "stdout"
        }
      ]
    },
    {
      "cell_type": "markdown",
      "metadata": {
        "id": "hwNYcw6KzqtP",
        "colab_type": "text"
      },
      "source": [
        "* 데이터 읽기\n",
        "\n",
        "```python\n",
        "f = open('test','w')\n",
        "help(f.read)\n",
        "f.close()\n",
        "\n",
        "내장 함수 read에 대한 도움말 :\n",
        "\n",
        "_io.TextIOWrapper 인스턴스의 read (size=-1, /) 메소드\n",
        "    스트림에서 최대 n자를 읽습니다.\n",
        "    \n",
        "    n 개의 문자가 있거나 EOF에 도달할 때까지 기본 버퍼에서 읽습니다.\n",
        "    n이 음수이거나 생략된 경우 EOF까지 읽습니다.\n",
        "```"
      ]
    },
    {
      "cell_type": "code",
      "metadata": {
        "id": "dCkZ5Kr4zwFv",
        "colab_type": "code",
        "colab": {
          "base_uri": "https://localhost:8080/",
          "height": 167
        },
        "outputId": "62741f0e-6791-4f84-ff74-7da2a6b2d484"
      },
      "source": [
        "f = open('test','w')\n",
        "help(f.read)\n",
        "f.close()"
      ],
      "execution_count": 5,
      "outputs": [
        {
          "output_type": "stream",
          "text": [
            "Help on built-in function read:\n",
            "\n",
            "read(size=-1, /) method of _io.TextIOWrapper instance\n",
            "    Read at most n characters from stream.\n",
            "    \n",
            "    Read from underlying buffer until we have n characters or we hit EOF.\n",
            "    If n is negative or omitted, read until EOF.\n",
            "\n"
          ],
          "name": "stdout"
        }
      ]
    },
    {
      "cell_type": "markdown",
      "metadata": {
        "id": "7uLZ_BtfY4ix",
        "colab_type": "text"
      },
      "source": [
        "## 1-4 윈도우즈 기반으로 구현하기\n",
        "\n",
        "### WinSock을 위한 헤더 및 라이브러리 설정.\n",
        "\n",
        "1. #include<winsock2.h>\n",
        "2. #pragma comment(lib,ws2_32.lib)\n",
        "  - ws2_32.lib을 위와 같이 라이브러리를 링크\n",
        "3. winsock 라이브러리 초기화(standby) 및 해제(리소스 반환)\n",
        "\n",
        "* Winsock 초기화하기\n",
        "  - wVersionRequested : 프로그램에서 요구하는 winsock 최상위 버젼을 알려준다.\n",
        "  - WORD : 16비트 unsigned int\n",
        "    - 예) Version 3.4 = MAKEWORD(3 /\\*주버젼\\*/,4 /\\*부버젼\\*/) =  0x0403 \n",
        "  - lpWSAData : WSADATA 타입의 변수 포인터.\n",
        "\n",
        "\n",
        "```c\n",
        "#include<winsock2.h>\n",
        "int WSAStartup(WORD wVersionRequested, LPWSADATA lpWSAData);\n",
        "```\n",
        "\n",
        "* Winsock 해제하기\n",
        "\n",
        "```\n",
        "#include<winsock2.h>\n",
        "int WSACleanup();\n",
        "```\n",
        "\n",
        "* 기본적인 Template\n",
        "\n",
        "```c\n",
        "int main(int argc, char **argv)\n",
        "{\n",
        "    WSADATA wsaData;\n",
        "\n",
        "    if(WSAStartup(MAKEWORD(2,2), &wsaData) !=0)\n",
        "         error_handling(\"WSAStartup() error!\");\n",
        "\n",
        "    ...\n",
        "    WSACleanup();\n",
        "    return 0;\n",
        "}\n",
        "```\n",
        "\n",
        "* 소켓의 생성\n",
        "  - 리턴 : (정수형 데이터 타입)성공시 소켓 핸들, 실패시 INVALID_SOCKET 리턴.\n",
        "\n",
        "\n",
        "```c\n",
        "#include<winsock2.h>\n",
        "SOCKET socket(int af, int type, int protocol);\n",
        "```\n",
        "\n",
        "* 주소와 포트 할당\n",
        "  - 리턴 : 성공시 0, 실패시 SOCKET_ERROR\n",
        "```c\n",
        "#include<winsock2.h>\n",
        "int bind(SOCKET s, const struct sockaddr FAR *name, int namelen);\n",
        "```\n",
        "\n",
        "* 연결 요청 대기 상태로의 진입\n",
        "  - 리턴 : 성공시 0, 실패시 SOCKET_ERROR\n",
        "\n",
        "```c\n",
        "#include<winsock2.h>\n",
        "int listen(SOCKET s, int backlog);\n",
        "```\n",
        "\n",
        "* 연결 수락\n",
        "  - 리턴 : (정수형 데이터 타입)성공시 소켓 핸들, 실패시 INVALID_SOCKET 리턴.\n",
        "\n",
        "```c\n",
        "#include<winsock2.h>\n",
        "SOCKET accept(SOCKET s, struct sockaddr FAR *addr, int FAR *addrlen);\n",
        "```\n",
        "\n",
        "* 연결 요청\n",
        "  - 리턴 : (정수형 데이터 타입)성공시 소켓 핸들, 실패시 INVALID_SOCKET 리턴.\n",
        "\n",
        "```c\n",
        "#include<winsock2.h>\n",
        "int connect(SOCKET s, const struct sockaddr FAR *name, int namelen);\n",
        "```\n",
        "\n",
        "* 데이터 출력\n",
        "  - 리턴 : 성공시 전송한 바이트 수, 실패시 SOCKET_ERROR\n",
        "  - s : 전송할 호스트에 연결된 소켓의 핸들\n",
        "  - buf : 전송할 데이터를 저장하고 있는 버퍼의 포인터\n",
        "  - len : 전송할 바이트 수를 인자로 전달\n",
        "  - flags : 여러가지 옵션을 설정.\n",
        "\n",
        "```c\n",
        "#include<winsock2.h>\n",
        "int send(SOCKET s, const char FAR *buf, int len, int flags);\n",
        "```\n",
        "\n",
        "* 데이터 입력\n",
        "  - 리턴 : 성공시 수신한 바이트 수, 실패시 SOCKET_ERROR\n",
        "  - s : 수신할 영역을 나타내는 소켓의 핸들.\n",
        "  - buf : 수신할 데이터를 저장한 버퍼의 포인터\n",
        "  - len : 수신할 최대 바이트수\n",
        "  - flags : 여러가지 옵션을 설정.\n",
        "\n",
        "```c\n",
        "#include<winsock2.h>\n",
        "int recv(SOCKET s, char FAR *buf, int len, int flags);\n",
        "```\n",
        "\n",
        "※ 리눅스에도 send, recv함수가 있지만 리눅스에서는 소켓도 파일로 처리한다는 것을 강조하기 위해 read, write함수를 사용하였고 윈도우즈에서는 read, write함수가 없기 때문에 send, recv함수로 소켓 입출력을 수행한다."
      ]
    }
  ]
}
