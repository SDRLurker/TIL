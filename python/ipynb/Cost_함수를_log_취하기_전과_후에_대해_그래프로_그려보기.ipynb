{
  "nbformat": 4,
  "nbformat_minor": 0,
  "metadata": {
    "colab": {
      "name": "Cost 함수를 log 취하기 전과 후에 대해 그래프로 그려보기.ipynb",
      "version": "0.3.2",
      "provenance": [],
      "include_colab_link": true
    },
    "kernelspec": {
      "name": "python3",
      "display_name": "Python 3"
    }
  },
  "cells": [
    {
      "cell_type": "markdown",
      "metadata": {
        "id": "view-in-github",
        "colab_type": "text"
      },
      "source": [
        "<a href=\"https://colab.research.google.com/github/SDRLurker/TIL/blob/master/python/Cost_%ED%95%A8%EC%88%98%EB%A5%BC_log_%EC%B7%A8%ED%95%98%EA%B8%B0_%EC%A0%84%EA%B3%BC_%ED%9B%84%EC%97%90_%EB%8C%80%ED%95%B4_%EA%B7%B8%EB%9E%98%ED%94%84%EB%A1%9C_%EA%B7%B8%EB%A0%A4%EB%B3%B4%EA%B8%B0.ipynb\" target=\"_parent\"><img src=\"https://colab.research.google.com/assets/colab-badge.svg\" alt=\"Open In Colab\"/></a>"
      ]
    },
    {
      "metadata": {
        "id": "YECDa0RyeUIN",
        "colab_type": "text"
      },
      "cell_type": "markdown",
      "source": [
        "# 선형회귀에 대한 Cost 함수 "
      ]
    },
    {
      "metadata": {
        "id": "sp5pgVppRFWd",
        "colab_type": "code",
        "colab": {
          "base_uri": "https://localhost:8080/",
          "height": 269
        },
        "outputId": "2987130c-a415-43ed-bc54-76bc6394929b"
      },
      "cell_type": "code",
      "source": [
        "import tensorflow as tf\n",
        "import matplotlib.pyplot as plt\n",
        "X = [1, 2, 3]\n",
        "Y = [1, 2, 3]\n",
        "\n",
        "W = tf.placeholder(tf.float32)\n",
        "# 선형 모델 X * W에 대한 우리의 가설\n",
        "# Our hypothesis for linear model X * W\n",
        "hypothesis = X * W\n",
        "\n",
        "# cost/loss 함수\n",
        "# cost/loss function\n",
        "cost = tf.reduce_mean(tf.square(hypothesis - Y))\n",
        "# 세션에서 그래프를 시작합니다.\n",
        "# Launch the graph in a session.\n",
        "sess = tf.Session()\n",
        "# 그래프에서 전역 변수들을 초기화합니다.\n",
        "# Initiializes global variables in the graph.\n",
        "sess.run(tf.global_variables_initializer())\n",
        "# cost 함수를 찍어보기 위한 변수\n",
        "# Variables for plotting cost function\n",
        "W_val = []\n",
        "cost_val = []\n",
        "for i in range(-30, 50):\n",
        "  feed_W = i * 0.1\n",
        "  curr_cost, curr_W = sess.run([cost, W], feed_dict={W: feed_W})\n",
        "  W_val.append(curr_W)\n",
        "  cost_val.append(curr_cost)\n",
        "  \n",
        "# cost 함수를 보여준다.\n",
        "# Show the cost function\n",
        "plt.plot(W_val, cost_val)\n",
        "plt.show()"
      ],
      "execution_count": 1,
      "outputs": [
        {
          "output_type": "display_data",
          "data": {
            "image/png": "[encoded data removed]",
            "text/plain": [
              "<Figure size 432x288 with 1 Axes>"
            ]
          },
          "metadata": {
            "tags": []
          }
        }
      ]
    },
    {
      "metadata": {
        "id": "WaiEM2gOhVxD",
        "colab_type": "text"
      },
      "cell_type": "markdown",
      "source": [
        "# cost 함수에 log 제거 - logistic regression "
      ]
    },
    {
      "metadata": {
        "id": "SarxWo1BNNYw",
        "colab_type": "code",
        "colab": {
          "base_uri": "https://localhost:8080/",
          "height": 269
        },
        "outputId": "53f9bd87-e6fe-4d42-f9c0-8f6f30af8385"
      },
      "cell_type": "code",
      "source": [
        "import tensorflow as tf\n",
        "import matplotlib.pyplot as plt\n",
        "X = [1, 2, 3, 4, 5, 6]\n",
        "Y = [0, 0, 0, 1, 1, 1]\n",
        "\n",
        "W = tf.placeholder(tf.float32)\n",
        "# 선형 모델 X * W에 대한 우리의 가설\n",
        "# Our hypothesis for linear model X * W\n",
        "hypothesis = tf.sigmoid(X * W)\n",
        "\n",
        "# cost/loss 함수\n",
        "# cost/loss function\n",
        "cost = tf.reduce_mean(tf.square(hypothesis - Y))\n",
        "# 세션에서 그래프를 시작합니다.\n",
        "# Launch the graph in a session.\n",
        "sess = tf.Session()\n",
        "# 그래프에서 전역 변수들을 초기화합니다.\n",
        "# Initiializes global variables in the graph.\n",
        "sess.run(tf.global_variables_initializer())\n",
        "# cost 함수를 찍어보기 위한 변수\n",
        "# Variables for plotting cost function\n",
        "W_val = []\n",
        "cost_val = []\n",
        "for i in range(-30, 50):\n",
        "  feed_W = i * 0.1\n",
        "  curr_cost, curr_W = sess.run([cost, W], feed_dict={W: feed_W})\n",
        "  W_val.append(curr_W)\n",
        "  cost_val.append(curr_cost)\n",
        "  \n",
        "# cost 함수를 보여준다.\n",
        "# Show the cost function\n",
        "plt.plot(W_val, cost_val)\n",
        "plt.show()"
      ],
      "execution_count": 2,
      "outputs": [
        {
          "output_type": "display_data",
          "data": {
            "image/png": "[encoded data removed]",
            "text/plain": [
              "<Figure size 432x288 with 1 Axes>"
            ]
          },
          "metadata": {
            "tags": []
          }
        }
      ]
    },
    {
      "metadata": {
        "id": "EqArIqRAhkHE",
        "colab_type": "text"
      },
      "cell_type": "markdown",
      "source": [
        "# cost 함수에 log 포함 - logistic regression "
      ]
    },
    {
      "metadata": {
        "id": "I7uJ4pGyNUqf",
        "colab_type": "code",
        "colab": {
          "base_uri": "https://localhost:8080/",
          "height": 269
        },
        "outputId": "6f08f7c9-620d-4d0a-9b3d-59799910970d"
      },
      "cell_type": "code",
      "source": [
        "import tensorflow as tf\n",
        "import matplotlib.pyplot as plt\n",
        "X = [1, 2, 3, 4, 5, 6]\n",
        "Y = [0, 0, 0, 1, 1, 1]\n",
        "Y2 = [1, 1, 1, 0, 0, 0]\n",
        "\n",
        "W = tf.placeholder(tf.float32)\n",
        "# 선형 모델 X * W에 대한 우리의 가설\n",
        "# Our hypothesis for linear model X * W\n",
        "hypothesis = tf.sigmoid(X * W)\n",
        "\n",
        "# cost/loss 함수\n",
        "# cost/loss function\n",
        "#cost = -tf.reduce_mean(Y*tf.log(hypothesis) + (1-Y)*tf.log(1-hypothesis))\n",
        "cost = -tf.reduce_mean(Y*tf.log(hypothesis) + Y2*tf.log(1-hypothesis))\n",
        "# 세션에서 그래프를 시작합니다.\n",
        "# Launch the graph in a session.\n",
        "sess = tf.Session()\n",
        "# 그래프에서 전역 변수들을 초기화합니다.\n",
        "# Initiializes global variables in the graph.\n",
        "sess.run(tf.global_variables_initializer())\n",
        "# cost 함수를 찍어보기 위한 변수\n",
        "# Variables for plotting cost function\n",
        "W_val = []\n",
        "cost_val = []\n",
        "for i in range(-30, 50):\n",
        "  feed_W = i * 0.1\n",
        "  curr_cost, curr_W = sess.run([cost, W], feed_dict={W: feed_W})\n",
        "  W_val.append(curr_W)\n",
        "  cost_val.append(curr_cost)\n",
        "  \n",
        "# cost 함수를 보여준다.\n",
        "# Show the cost function\n",
        "plt.plot(W_val, cost_val)\n",
        "plt.show()"
      ],
      "execution_count": 3,
      "outputs": [
        {
          "output_type": "display_data",
          "data": {
            "image/png": "[encoded data removed]",
            "text/plain": [
              "<Figure size 432x288 with 1 Axes>"
            ]
          },
          "metadata": {
            "tags": []
          }
        }
      ]
    },
    {
      "metadata": {
        "id": "FGP3iiMXZPCi",
        "colab_type": "code",
        "colab": {}
      },
      "cell_type": "code",
      "source": [
        ""
      ],
      "execution_count": 0,
      "outputs": []
    }
  ]
}