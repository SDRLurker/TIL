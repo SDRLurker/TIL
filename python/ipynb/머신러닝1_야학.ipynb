{
  "nbformat": 4,
  "nbformat_minor": 0,
  "metadata": {
    "colab": {
      "name": "머신러닝1 야학.ipynb",
      "provenance": [],
      "collapsed_sections": []
    },
    "kernelspec": {
      "name": "python3",
      "display_name": "Python 3"
    }
  },
  "cells": [
    {
      "cell_type": "markdown",
      "metadata": {
        "id": "Jek0i8OebBXz",
        "colab_type": "text"
      },
      "source": [
        "# 오리엔테이션 - 1일차 시작\n",
        "* https://opentutorials.org/course/4548/28891\n",
        "* 머신러닝은 기계를 학습시켜 인간의 판단을 위임하기 위해서 고안된 기술\n",
        "  - 전염병의 양성판정\n",
        "  - 자동번역\n",
        "  - 자율주행"
      ]
    },
    {
      "cell_type": "markdown",
      "metadata": {
        "id": "HM5TYVsha-kH",
        "colab_type": "text"
      },
      "source": [
        "# 머신러닝이란?\n",
        "\n",
        "* https://opentutorials.org/course/4548/28879\n",
        "\n",
        "## 통계\n",
        "복잡한 세상을 숫자로 표현하기 위한 여러 가지 방법\n",
        "\n",
        "## 기계학습\n",
        "이런 총기를 기계에 부여해서 스스로 결정하도록 할 수 없을까?\n",
        "\n",
        "## 머신러닝은\n",
        "우리의 두뇌가 가진 중요한 기능인 판단능력을 확장해서\n",
        "\n",
        "우리의 두뇌가 더욱 빠르고 정확하게 결정할 수 있게 돕는 기가 막힌 도구"
      ]
    },
    {
      "cell_type": "markdown",
      "metadata": {
        "id": "eYZE6BqkbEBN",
        "colab_type": "text"
      },
      "source": [
        "# 꿈\n",
        "\n",
        "* https://opentutorials.org/course/4548/28895\n",
        "\n",
        "습관은 의지를 이깁니다.\n",
        "의지는 환경을 이깁니다.\n",
        "환경은 습관을 이깁니다.\n",
        "\n",
        "이런 환경을 만드는 데에\n",
        "머신러닝을 이용할 수 없을까요?\n",
        "\n"
      ]
    },
    {
      "cell_type": "markdown",
      "metadata": {
        "id": "unC-0v4_bHs1",
        "colab_type": "text"
      },
      "source": [
        "## 궁리하는 습관\n",
        "\n",
        "* https://opentutorials.org/course/4548/28896\n",
        "\n",
        "일 = 꿈 + 능력\n",
        "\n",
        "머신러닝이라는 도구를 이용할 궁리를 시작하도록 하는 것\n",
        "\n",
        "자신의 궁리가 단지 몽상이 아니라 혁명이 될 수 있는 놀라운 시대"
      ]
    },
    {
      "cell_type": "markdown",
      "metadata": {
        "id": "bFEyZScsbJ3c",
        "colab_type": "text"
      },
      "source": [
        "## Teachable Machine\n",
        "\n",
        "* https://opentutorials.org/course/4548/28897\n",
        "* https://teachablemachine.withgoogle.com/\n",
        "\n",
        "판단력이 머신러닝의 핵심\n",
        "판단력 대신 모델이라는 용어를 사용"
      ]
    },
    {
      "cell_type": "markdown",
      "metadata": {
        "id": "oZPp0taPbLUd",
        "colab_type": "text"
      },
      "source": [
        "## 모델 Model - 1일차 끝\n",
        "* https://opentutorials.org/course/4548/28898\n",
        "\n",
        "* '머신러닝' 이란 판단력을 기계에게 부여하는 기술\n",
        "* 학습 : 모델을 만드는 '과정'"
      ]
    },
    {
      "cell_type": "markdown",
      "metadata": {
        "id": "bOtmUSD5GIYb",
        "colab_type": "text"
      },
      "source": [
        "## 머신러닝머신 - 2일차 시작\n",
        "* https://opentutorials.org/course/4548/28899\n",
        "* https://ml-app.yah.ac/\n",
        "* 모델을 올리면 손톱을 깨물고 있을 확률이 80% 이상일 때 말하기 가능"
      ]
    },
    {
      "cell_type": "markdown",
      "metadata": {
        "id": "DPv-PthrJexE",
        "colab_type": "text"
      },
      "source": [
        "## 나도 이제 프로그래머 - 2일차 \n",
        "* https://opentutorials.org/course/4548/28900\n"
      ]
    },
    {
      "cell_type": "markdown",
      "metadata": {
        "id": "iyVhDTX8JXND",
        "colab_type": "text"
      },
      "source": [
        "## 애플리케이션 \n",
        "* 부품을 **응용**\n",
        "* 머신러닝 애플리케이션\n"
      ]
    },
    {
      "cell_type": "markdown",
      "metadata": {
        "id": "eUAx1H0yIv4S",
        "colab_type": "text"
      },
      "source": [
        "## 프로그램\n",
        "* 프로그램 : 시간의 순서의 의미가 있음.\n",
        "* 손톱 예시\n",
        "  - 손톱을 깨물었는지 확인\n",
        "  - 손톱을 화면에 출력\n",
        "  - 손톱 깨물지마 라고 스피커로 말함.\n",
        "* 프로그램\n",
        "  - 기계가 해야 할 일을 기계가 알아들을 수 있는 방식으로\n",
        "순서대로 적으면 그것"
      ]
    },
    {
      "cell_type": "markdown",
      "metadata": {
        "id": "82tasQWxKt3j",
        "colab_type": "text"
      },
      "source": [
        "# 모르면 마법, 알면 기술 - 2일차\n",
        "* https://opentutorials.org/course/4548/28927"
      ]
    },
    {
      "cell_type": "markdown",
      "metadata": {
        "id": "42HW5wRBLI8g",
        "colab_type": "text"
      },
      "source": [
        "* 사물 인터넷\n",
        "  - 전등을 원격으로 조절하여 컴퓨터로 켜기\n",
        "  - 자동차를 원격으로 시동 켜기"
      ]
    },
    {
      "cell_type": "markdown",
      "metadata": {
        "id": "WlruhdvILZDA",
        "colab_type": "text"
      },
      "source": [
        "* 머신러닝\n",
        "  - 데이터 -> 머신러닝 -> 기계 스스로 결정.\n",
        "  - 2세대 마법 : 사물에 지능을 부여해 스스로 동작하는 마법을 사용."
      ]
    },
    {
      "cell_type": "markdown",
      "metadata": {
        "id": "emjUe3EjMB0d",
        "colab_type": "text"
      },
      "source": [
        "* 사물인터넷 = 코딩 + 네트워크 + 전자공학 + 기계공학\n"
      ]
    },
    {
      "cell_type": "markdown",
      "metadata": {
        "id": "GP8O1H6bMWLz",
        "colab_type": "text"
      },
      "source": [
        "* 온도에 따라서 판매량이 변화하는 것을 과거데이터로 알 수 있음.\n",
        "  - 수동으로 모델을 만든 것.\n",
        "```\n",
        "온도 X 2 = 판매량\n",
        "```\n",
        "\n",
        "* 머신러닝을 도입하면 자동으로 공식을 만들어 줄 수 있음."
      ]
    },
    {
      "cell_type": "markdown",
      "metadata": {
        "id": "h6XZ20iXM43s",
        "colab_type": "text"
      },
      "source": [
        "* 기술적인 한계를 고려하지 마세요.\n",
        "* SF나 판타지 소설을 구상하는 작가\n",
        "* 머신러닝 애플리케이션 기획안 - 다른 사람들\n",
        "  - https://docs.google.com/spreadsheets/d/1mdCb-xRYBAsAOeiC7miyQgcMqVzCpg_67OmfdGRvVAY/edit?usp=sharing\n",
        "* 나의 머신러닝 기획안 작성하러 가기\n",
        "  - https://docs.google.com/forms/d/e/1FAIpQLSctK2iVW7vEuS9iQWQClVgW-1Tuwv3Bt9DrNQ57WvFzEAsSVA/viewform\n"
      ]
    },
    {
      "cell_type": "markdown",
      "metadata": {
        "id": "3Jwvp3Tq1cM-",
        "colab_type": "text"
      },
      "source": [
        "# 교양의 끝 - 2일차 끝\n",
        "* https://opentutorials.org/course/4548/28903\n",
        "* 교양으로 충분한 분들은 여기서 수업을 멈추기를 권해드립니다.\n",
        "* 직업으로 머신러닝을 시작한 분들은\n",
        "어디 가시면 안됩니다.\n",
        "* 진짜 재미는 지금부터 시작입니다.\n"
      ]
    },
    {
      "cell_type": "markdown",
      "metadata": {
        "id": "PismseaVzWHV",
        "colab_type": "text"
      },
      "source": [
        "# 직업의 시작 - 3일차 시작\n",
        "* https://opentutorials.org/course/4548/28904\n",
        "* 현실을 데이터로 표현할 수 있으면 컴퓨터의 힘으로 데이터 처리할 수 있음.\n"
      ]
    },
    {
      "cell_type": "markdown",
      "metadata": {
        "id": "yBgdLA6Qzvug",
        "colab_type": "text"
      },
      "source": [
        "## 데이터 과학\n",
        "* 데이터를 만들고, 만들어진 데이터를 이용하는 일"
      ]
    },
    {
      "cell_type": "markdown",
      "metadata": {
        "id": "JpqP-tcIz1w_",
        "colab_type": "text"
      },
      "source": [
        "### 데이터 공학\n",
        "* 데이터를 다루는 도구를 만들고, 도구를 관리하는 일"
      ]
    },
    {
      "cell_type": "markdown",
      "metadata": {
        "id": "jz0OFVB30F6g",
        "colab_type": "text"
      },
      "source": [
        "## 표 - 3일차\n",
        "* https://opentutorials.org/course/4548/28928\n",
        "* 인류가 만든 시각화 도구 중 가장 위대한 것?\n",
        "  - **표**\n",
        "  - 좌표평면"
      ]
    },
    {
      "cell_type": "markdown",
      "metadata": {
        "id": "bYB1HO_t0Pc7",
        "colab_type": "text"
      },
      "source": [
        "## 표\n",
        "* 행 : 가로\n",
        "* 열 : 세로"
      ]
    },
    {
      "cell_type": "markdown",
      "metadata": {
        "id": "RvaVWrTw0uZu",
        "colab_type": "text"
      },
      "source": [
        "## 데이터 셋(data set)\n",
        "* 행 \n",
        "  - 개체(instance)\n",
        "  - 관측치(observed value)\n",
        "  - 기록(record) \n",
        "  - 사례(example) \n",
        "  - 경우(case)\n",
        "* 열\n",
        "  - 특성(feature)\n",
        "  - 속성(attribute)\n",
        "  - 변수(variable), field"
      ]
    },
    {
      "cell_type": "markdown",
      "metadata": {
        "id": "shM_TK361QDP",
        "colab_type": "text"
      },
      "source": [
        "## 독립변수와 종속변수\n",
        "* https://opentutorials.org/course/4548/28929\n",
        "* 독립변수(Independent variable) : 원인\n",
        "* 종속변수(Dependent variable) : 결과"
      ]
    },
    {
      "cell_type": "markdown",
      "metadata": {
        "id": "IcuWFW0m1lTx",
        "colab_type": "text"
      },
      "source": [
        "## 변수\n",
        "* variable : 변할 수 있는\n",
        "* 온도의 값은 다음처럼 달라지기 때문에 변수\n",
        "\n",
        "|온도|\n",
        "|-|\n",
        "|20|\n",
        "|21|\n",
        "|22|\n",
        "\n",
        "\n"
      ]
    },
    {
      "cell_type": "markdown",
      "metadata": {
        "id": "oaF9hEu91zvD",
        "colab_type": "text"
      },
      "source": [
        "## 독립변수 VS 종속변수\n",
        "* 독립변수 = 원인이 되는 열\n",
        "* 종속변수 = 결과가 되는 열\n"
      ]
    },
    {
      "cell_type": "markdown",
      "metadata": {
        "id": "lVUDToa52WIe",
        "colab_type": "text"
      },
      "source": [
        "## 상관관계\n",
        "* 한쪽의 값이 바뀔 때 다른 쪽의 값도 바뀜 => 서로 관련이 있다.\n",
        "* 다음 표에서 온도와 판매량은 서로 상관관계가 있음.\n",
        "\n",
        "|온도|판매량|\n",
        "|-|-|\n",
        "|20|40|\n",
        "|21|42|\n",
        "|22|44|"
      ]
    },
    {
      "cell_type": "markdown",
      "metadata": {
        "id": "nZjrOf_ZEMrL",
        "colab_type": "text"
      },
      "source": [
        "## 인과관계\n",
        "* 온도랑 판매량이 **같이** 커지고, 작아지고 있음을 발견\n",
        "* 판매량이 달라지니 온도가 달라졌다. - **이상**\n",
        "* 온도가 달라지니 판매량이 달라졌다. - **가능**\n",
        "* 온도의 2배가 판매량이 되는 일정한 **패턴**이 발견\n",
        "* 상관관계 > 인과관계"
      ]
    },
    {
      "cell_type": "markdown",
      "metadata": {
        "id": "nFN9Y9BrE0-5",
        "colab_type": "text"
      },
      "source": [
        "* 독립변수는 원인\n",
        "* 종속변수는 결과\n",
        "* 독립변수와 종속변수의 관계를 인과관계\n",
        "* 인과관계는 상관관계에 포함된다."
      ]
    },
    {
      "cell_type": "markdown",
      "metadata": {
        "id": "c_CGUw1fFIh-",
        "colab_type": "text"
      },
      "source": [
        "* 머신러닝 애플리케이션 기획안 2\n",
        "  - https://bit.ly/ml-my-plan-2"
      ]
    },
    {
      "cell_type": "markdown",
      "metadata": {
        "id": "C0u_7DQAFRSQ",
        "colab_type": "text"
      },
      "source": [
        "# 심리전 - 3일차 끝\n",
        "* https://opentutorials.org/course/4548/28933"
      ]
    },
    {
      "cell_type": "markdown",
      "metadata": {
        "id": "NHg-FM7rF6bm",
        "colab_type": "text"
      },
      "source": [
        "* 이 많은 것을 언제 다 공부하나? => 무언가 잘못되고 있는 것.\n",
        "* 능동적으로 유보하는 전략을 취한다면, 그만두는 순간이 기쁜 졸업"
      ]
    },
    {
      "cell_type": "markdown",
      "metadata": {
        "id": "xRoiOKTX-jee",
        "colab_type": "text"
      },
      "source": [
        "# 머신러닝의 분류 - 4일차 시작\n",
        "* https://opentutorials.org/course/4548/28934\n"
      ]
    },
    {
      "cell_type": "markdown",
      "metadata": {
        "id": "lww5xhrl-slI",
        "colab_type": "text"
      },
      "source": [
        "* 지도학습(supervised learning)\n",
        "  - 분류(classification)\n",
        "  - 회귀(regression)\n",
        "* 비지도학습(unsupervised learning)\n",
        "  - 군집화(clustering)\n",
        "  - 변환(transform)\n",
        "  - 연관(association)\n",
        "* 강화학습(reinforcement learning)"
      ]
    },
    {
      "cell_type": "markdown",
      "metadata": {
        "id": "RQqyKKWo_Ox-",
        "colab_type": "text"
      },
      "source": [
        "## 지도학습\n",
        "* 지도 : 기계를 가르친다(supervised)는 의미\n",
        "* 비유 : 정답을 알려주는 문제집이 있는 것\n",
        "* 정답이 있는 문제를 해결하는 것"
      ]
    },
    {
      "cell_type": "markdown",
      "metadata": {
        "id": "WSsOLl_U_XBZ",
        "colab_type": "text"
      },
      "source": [
        "## 비지도학습\n",
        "* 기계에게 데이터에 대한 통찰력을 부여하는 것.\n",
        "* 통찰 : 예리한 관찰력으로 사물을 꿰뚫어 봄\n",
        "* 무언가에 대한 관찰을 통해 새로운 의미나 관계를 밝혀내는 것"
      ]
    },
    {
      "cell_type": "markdown",
      "metadata": {
        "id": "uyOjI0vg_hJI",
        "colab_type": "text"
      },
      "source": [
        "## 강화학습\n",
        "* 경험을 통해 \"더 좋은 답\"을 찾아가는 것\n",
        "* 더 좋은 보상을 받기 위해서 수련하는 것"
      ]
    },
    {
      "cell_type": "markdown",
      "metadata": {
        "id": "E4fiG-rZLG-C",
        "colab_type": "text"
      },
      "source": [
        "# 지도학습 Supervised Learning - 4일차\n",
        "* https://opentutorials.org/course/4548/28938\n",
        "* 지도학습은 역사와 비슷\n",
        "  - 과거에 있었던 사건이 원인과 결과로 기록"
      ]
    },
    {
      "cell_type": "markdown",
      "metadata": {
        "id": "BstjHYU6LueA",
        "colab_type": "text"
      },
      "source": [
        "* 지도학습 조건\n",
        "  - 우선 충분히 많은 데이터를 수집해야 합니다.\n",
        "  - 데이터는 독립변수와 종속변수로 이루어져 있어야 합니다."
      ]
    },
    {
      "cell_type": "markdown",
      "metadata": {
        "id": "JHbSApMtMLrw",
        "colab_type": "text"
      },
      "source": [
        "* 모델\n",
        "  - 독립변수와 종속변수의 관계를 컴퓨터에게 학습시키면 그 관계를 설명할 수 있는 공식을 만듬."
      ]
    },
    {
      "cell_type": "markdown",
      "metadata": {
        "id": "NJQWlRIVNsK0",
        "colab_type": "text"
      },
      "source": [
        "# 회귀 VS 분류 - 4일차 끝\n",
        "* https://opentutorials.org/course/4548/28942\n",
        "* 회귀 regression\n",
        "* 분류 classification"
      ]
    },
    {
      "cell_type": "markdown",
      "metadata": {
        "id": "0Stb433JN3Is",
        "colab_type": "text"
      },
      "source": [
        "## 회귀(regression)\n",
        "* 종속변수 값이 숫자라면 회귀를 사용하면 됨.\n",
        "* 지도학습 회귀"
      ]
    },
    {
      "cell_type": "markdown",
      "metadata": {
        "id": "f6kExORsOOTt",
        "colab_type": "text"
      },
      "source": [
        "* 회귀의 사례\n",
        "\n",
        "|독립변수|종속변수|학습시킬 데이터를 만드는 방법|\n",
        "|-|-|-|\n",
        "|공부시간|시험점수|사람들의 공부시간을 입력받고 점수를 확인|\n",
        "|온도|레모네이드 판매량|온도와 그날의 판매량을 기록|\n",
        "|역세권, 조망등|집 값|집과 역까지의 거리, 수지화된 조망의 평점 등을 집값과 함께 기록한다.|\n",
        "|온실 기체량|기온 변화량|과거에 배출된 온실 기체량과 기온의 변화량을 기록한다.|\n",
        "|자동차 속도|충돌 시 사망 확률|충돌시 속도와 사상자를 기록한다.|\n",
        "|나이|키|학생들의 나이에 따른 키를 기록한다.|"
      ]
    },
    {
      "cell_type": "markdown",
      "metadata": {
        "id": "_-zaVOJnO-0C",
        "colab_type": "text"
      },
      "source": [
        "* 이외에 회귀의 좋은 사례가 있다면 알려주세요.\n",
        "  - https://bit.ly/ml1-regression-submit  \n",
        "\n",
        "* 더 많은 사례가 궁금하다면 참고해주세요.\n",
        "  - https://bit.ly/ml1-regression-list "
      ]
    },
    {
      "cell_type": "markdown",
      "metadata": {
        "id": "K5oF5Rc9hVeg",
        "colab_type": "text"
      },
      "source": [
        "## 분류(classification)\n",
        "* 문제에서 추측하고 싶은 종속변수(결과)가 **이름** 혹은 **문자**라면\n",
        "* 지도학습의 분류로 해결해 주세요.\n",
        "* 전문가에게는 '지도학습의 분류로 해결해주세요.' 라고 요청하면 됩니다.\n",
        "* 공부를 하려면 '지도학습 분류'로 검색하면 됩니다.\n",
        "* 직접 해결하려면 '지도학습 분류'라는 이름의 도구를 찾으면 됩니다."
      ]
    },
    {
      "cell_type": "markdown",
      "metadata": {
        "id": "21X6G4e8h79z",
        "colab_type": "text"
      },
      "source": [
        "* 분류의 사례\n",
        "\n",
        "|독립변수|종속변수|학습시킬 데이터를 만드는 방법|\n",
        "|-|-|-|\n",
        "|공부시간|합격 여부(합격/불합격)|사람들의 공부시간을 입력받고, 최종 합격여부를 확인한다.|\n",
        "|X-ray 사진과 영상 속 종양의 크기, 두께|악성 종양 여부(양성/음성)|의학적으로 양성과 음성이 확인된 사진과 영상 데이터를 모은다.|\n",
        "|품종, 산도, 당도, 지역, 연도|와인의 등급|소믈리에를 통해서 등급이 확인된 와인을 가지고 품종, 산도 등의 독립변수를 정하고 기록한다.|\n",
        "|키, 몸무게, 시력, 지병|현역, 공익, 면제|키, 몸무게, 시력, 지병 등을 토대로 현역, 공익, 면제인지를 확인한다.|\n",
        "|메일 발신인, 제목, 본문 내용(사용된 단어, 이모티콘 등)|스팸 메일 여부|이제까지 받은 메일을 모으고, 이들을 스팸 메일과 일반 메일로 구분한다.|\n",
        "|고기의 지방함량, 지방색, 성숙도, 육색|소고기 등급| 소고기의 정보를 토대로 등급을 측정한다.|"
      ]
    },
    {
      "cell_type": "markdown",
      "metadata": {
        "id": "iI6815Ydi2AZ",
        "colab_type": "text"
      },
      "source": [
        "이외에 분류의 좋은 사례가 있다면 알려주세요.\n",
        "https://bit.ly/ml1-class-submit\n",
        "\n",
        "더 많은 사례가 궁금하다면 참고해주세요.\n",
        "https://bit.ly/ml1-class-list\n"
      ]
    },
    {
      "cell_type": "markdown",
      "metadata": {
        "id": "-bVdMjNYi36D",
        "colab_type": "text"
      },
      "source": [
        "## 양적 데이터와 범주형 데이터\n",
        "* 양적(量的, Quantitative) : 숫자 대신 얼마나 큰지, 얼마나 많은지, 어느 정도인지를 의미하는 데이터. \n",
        "* 범주(範疇, Categorical)\n",
        "* 종속변수가 양적 데이터라면 **회귀**를 사용\n",
        "* 종속변수가 범주형 데이터라면 **분류**를 사용"
      ]
    },
    {
      "cell_type": "markdown",
      "metadata": {
        "id": "aDlSf5J_KRvp",
        "colab_type": "text"
      },
      "source": [
        "# 비지도 학습 - 5일차 시작\n",
        "* https://opentutorials.org/course/4548/28945"
      ]
    },
    {
      "cell_type": "markdown",
      "metadata": {
        "id": "w93qI6z7KZg7",
        "colab_type": "text"
      },
      "source": [
        "## 군집화(clustering)\n",
        "* 비슷한 것들을 찾아서 그룹을 만드는 것"
      ]
    },
    {
      "cell_type": "markdown",
      "metadata": {
        "id": "iji8QTV7LAoR",
        "colab_type": "text"
      },
      "source": [
        "* 위도, 경도를 좌표평면으로 만들어\n",
        "* 여러행을 묶은 군집이라는 열을 만듬.\n",
        "![](https://s3-ap-northeast-2.amazonaws.com/opentutorials-user-file/module/4916/12334.jpeg)"
      ]
    },
    {
      "cell_type": "markdown",
      "metadata": {
        "id": "BDfJlbalLZCe",
        "colab_type": "text"
      },
      "source": [
        "* 군집화 \n",
        "  - 서로 가까운 관측치를 찾아주는 머신러닝 기법\n",
        "  - 비슷한 행을 그룹핑하는 것"
      ]
    },
    {
      "cell_type": "markdown",
      "metadata": {
        "id": "WCWRCqR2LjTz",
        "colab_type": "text"
      },
      "source": [
        "## 연관 규칙 학습(Association rule learning)\n",
        "* 장바구니 학습\n",
        "* 쇼핑 추천, 음악 추천, 영화 추천, 검색어 추천, 동영상 추천...\n",
        "* 서로 관련이 있는 특성(열)을 찾아주는 머신러닝의 기법"
      ]
    },
    {
      "cell_type": "markdown",
      "metadata": {
        "id": "hTXzDkWlMX7D",
        "colab_type": "text"
      },
      "source": [
        "* 관측치(행)를 그룹핑 해주는 것 => 군집화\n",
        "* 특성(열)을 그룹핑 해주는 것 => 연관규칙"
      ]
    },
    {
      "cell_type": "markdown",
      "metadata": {
        "id": "PPdPX5lrOJUG",
        "colab_type": "text"
      },
      "source": [
        "## 비지도 학습 정리\n",
        "* 비지도학습 - 탐험 - 변수 | 변수 | 변수\n",
        "* 지도학습 - 역사 - 독립변수 | 종속변수"
      ]
    },
    {
      "cell_type": "markdown",
      "metadata": {
        "id": "kqcOvZj5PCjw",
        "colab_type": "text"
      },
      "source": [
        "* 데이터를 성격을 파악하는 작업\n",
        "  - 비슷한 것은 모으고 다른 것은 떨어뜨리는 것(그룹핑)"
      ]
    },
    {
      "cell_type": "markdown",
      "metadata": {
        "id": "2huxdqwtPytX",
        "colab_type": "text"
      },
      "source": [
        "# 강화학습 Reinforcement Learning  - 5일차 끝\n",
        "* https://opentutorials.org/course/4548/28949\n"
      ]
    },
    {
      "cell_type": "markdown",
      "metadata": {
        "id": "zH4iJkRuP6FY",
        "colab_type": "text"
      },
      "source": [
        "* 일단 해보는 것\n",
        "* 지도학습 - 배움\n",
        "* 강화학습 - 경험\n",
        "* 행동의 결과가 자신에게 유리한 것이었다면 상을 받고, 불리한 것이었다면 벌을 받는 것"
      ]
    },
    {
      "cell_type": "markdown",
      "metadata": {
        "id": "zMwZ4lC_QVww",
        "colab_type": "text"
      },
      "source": [
        "![](https://s3-ap-northeast-2.amazonaws.com/opentutorials-user-file/module/4916/12366.jpeg)\n",
        "\n",
        "* 게임의 실력을 키워가는 과정\n",
        "\n",
        "1. 우선 게임은 게이머에게 현재의 상태를 보여줍니다.  캐릭터는 어디에 있고, 장애물은 어디에 있는지 려줍니다.\n",
        "2. 동시에 현재의 점수도 알려줍니다. 게이머는 이 값이 높아지는 것이 상이고, 장애물에 부딪히는 것이 벌입니다.\n",
        "3. 관찰의 결과에 따라서 어떤 상태에서 어떻게 행동해야 더 많은 상을 받고, 더 적은 벌을 받을 수 있는지를 알게 됩니다.\n",
        "4. 즉, 판단력이 강화된 것입니다.\n",
        "5. 판단에 따라서 행동을 합니다.\n",
        "6. 그 행동은 게임에 변화를 주게 됩니다.\n",
        "\n",
        "* 게임  => 환경(environment)\n",
        "* 게이머  => 에이전트(agent)\n",
        "* 게임화면  => 상태(state)\n",
        "* 게이머의 조작  => 행동(action)\n",
        "* 상과 벌  => 보상(reward)\n",
        "* 게이머의 판단력  => 정책(policy)"
      ]
    },
    {
      "cell_type": "markdown",
      "metadata": {
        "id": "maepDvlpQzn7",
        "colab_type": "text"
      },
      "source": [
        "* 강화학습에서는 **더 많은 보상을 받을 수 있는\n",
        "정책을 만드는 것**이 핵심"
      ]
    },
    {
      "cell_type": "markdown",
      "metadata": {
        "id": "3pRyjhKtRAk2",
        "colab_type": "text"
      },
      "source": [
        "|URL|설명|\n",
        "|-|-|\n",
        "|https://www.youtube.com/watch?v=VMp6pq6_QjI|강화학습을 이용해서 자동차의 주차능력을 향상시키는 예제입니다.|\n",
        "|https://youtu.be/kopoLzvh5jY|시뮬레이션 환경을 이용한 숨바꼭질 강화학습 영상입니다.|\n",
        "|https://youtu.be/QilHGSYbjDQ|팩맨의 게임능력을 향상시키는 예제입니다.|\n",
        "|https://youtu.be/ZhsEKTo7V04|강화학습을 통해 로봇팔이 문 여는 방법을 터득하는 영상입니다.|\n",
        "|https://www.youtube.com/watch?v=Aut32pR5PQA|2D 시뮬레이터 상에서 강화학습을 이용해 자율주행 기능을 구현하는 영상입니다.|\n",
        "|https://www.youtube.com/watch?v=WSW-5m8lRMs&t=357s|인공신경망과 강화학습을 이용해 플래피 버드 게임을 하는 인공지능을 만드는 영상입니다.|"
      ]
    },
    {
      "cell_type": "markdown",
      "metadata": {
        "id": "yV2TnJcjRTz6",
        "colab_type": "text"
      },
      "source": [
        "* 이외에 분류의 좋은 사례가 있다면 알려주세요.\n",
        "https://bit.ly/ml1-reinforcement-submit\n",
        "\n",
        "* 더 많은 사례가 궁금하다면 참고해주세요.\n",
        "https://bit.ly/ml1-reinforcement-list\n"
      ]
    },
    {
      "cell_type": "markdown",
      "metadata": {
        "id": "wom76s5Dz4Lj",
        "colab_type": "text"
      },
      "source": [
        "# 나에게 필요한 머신러닝을 찾아내는 방법 - 6일차 시작\n",
        "* https://opentutorials.org/course/4548/28950\n"
      ]
    },
    {
      "cell_type": "markdown",
      "metadata": {
        "id": "IujTYAqu2-Js",
        "colab_type": "text"
      },
      "source": [
        "## 판단의 지도\n",
        "\n",
        "![](https://s3-ap-northeast-2.amazonaws.com/opentutorials-user-file/module/4916/12374.jpg)"
      ]
    },
    {
      "cell_type": "markdown",
      "metadata": {
        "id": "YUiwQv2g3f_n",
        "colab_type": "text"
      },
      "source": [
        "* 판단의 지도는 만능이 아님 \n",
        "* 더 정확한 의미와 표현들은 각자의 몫"
      ]
    },
    {
      "cell_type": "markdown",
      "metadata": {
        "id": "lH9VseAG4_hC",
        "colab_type": "text"
      },
      "source": [
        "# 수업을 마치며 - 6일차\n",
        "* https://opentutorials.org/course/4548/28951\n"
      ]
    },
    {
      "cell_type": "markdown",
      "metadata": {
        "id": "KOgtphFw5wXW",
        "colab_type": "text"
      },
      "source": [
        "# 기여자 - 6일차 완료\n",
        "* https://opentutorials.org/course/4548/28953"
      ]
    },
    {
      "cell_type": "markdown",
      "metadata": {
        "id": "xa2G1uOc60-f",
        "colab_type": "text"
      },
      "source": [
        "## 협찬? 도구\n",
        "* Google Teachable Machine\n",
        "  - https://teachablemachine.withgoogle.com/\n",
        "  - 복잡한 원리와 코딩 없이 모델을 만드는 과정을 체험해볼 수 있는 도구\n",
        "* Google Blockly\n",
        "  - 드래그 & 드롭으로 블록을 조합해서 애플리케이션을 만들 수 있도록 도와주는 도구\n",
        "  - https://developers.google.com/blockly\n",
        "* Google TensorFlow\n",
        "  - https://www.tensorflow.org/\n",
        "  - 구글에서 만든 머신러닝 플랫폼\n",
        "* ml-app.yah.ac 오픈소스\n",
        "  - jQuery, async, redux\n",
        "* 조코딩님 영상\n",
        "  - https://www.youtube.com/watch?v=USQGTW34lO8\n",
        "  - https://www.youtube.com/watch?v=9SwdGFzFb5Y\n",
        "  "
      ]
    }
  ]
}