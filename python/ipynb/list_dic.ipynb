{
  "nbformat": 4,
  "nbformat_minor": 0,
  "metadata": {
    "colab": {
      "name": "list_dic.ipynb",
      "provenance": [],
      "collapsed_sections": []
    },
    "kernelspec": {
      "name": "python3",
      "display_name": "Python 3"
    },
    "language_info": {
      "name": "python"
    }
  },
  "cells": [
    {
      "cell_type": "markdown",
      "metadata": {
        "id": "Vn4FMTXqLwie"
      },
      "source": [
        "출처 : http://stackoverflow.com/questions/16819222/how-to-return-dictionary-keys-as-a-list-in-python-3-3"
      ]
    },
    {
      "cell_type": "markdown",
      "metadata": {
        "id": "vkVDaUHALxeE"
      },
      "source": [
        "# Python에서 dictionary 키를 list로 리턴하는 방법"
      ]
    },
    {
      "cell_type": "markdown",
      "metadata": {
        "id": "eTuFx4lILzSz"
      },
      "source": [
        "저는 뭔가 매우 이상하다는 것을 알았습니다. Python 2.7과 Python 3 버전에서 뭔가 많이 다릅니다.\n",
        "\n",
        "이전에, dictionary에서 key 값, value 값, item 값을 list로 쉽게 얻을 수 있었습니다.\n",
        "\n",
        "* PYTHON 2.7\n",
        "\n",
        "```python\n",
        ">>> newdict = {1:0, 2:0, 3:0}\n",
        ">>> newdict\n",
        "{1: 0, 2: 0, 3: 0}\n",
        ">>> newdict.keys()\n",
        "[1, 2, 3]\n",
        "```"
      ]
    },
    {
      "cell_type": "code",
      "metadata": {
        "colab": {
          "base_uri": "https://localhost:8080/"
        },
        "id": "kJf9CuLgL28T",
        "outputId": "f98a256a-adc2-4831-c175-97a264a5f9f3"
      },
      "source": [
        "%%python2\n",
        "newdict = {1:0, 2:0, 3:0}\n",
        "print(newdict)\n",
        "print(newdict.keys())"
      ],
      "execution_count": null,
      "outputs": [
        {
          "output_type": "stream",
          "text": [
            "{1: 0, 2: 0, 3: 0}\n",
            "[1, 2, 3]\n"
          ],
          "name": "stdout"
        }
      ]
    },
    {
      "cell_type": "markdown",
      "metadata": {
        "id": "rs6D9zrmMHZN"
      },
      "source": [
        "하지만 Python 3에서는 다음처럼 이렇게 나옵니다.\n",
        "\n",
        "* PYTHON 3.3.0\n",
        "\n",
        "```python\n",
        ">>> newdict.keys()\n",
        "dict_keys([1, 2, 3])\n",
        "```"
      ]
    },
    {
      "cell_type": "code",
      "metadata": {
        "colab": {
          "base_uri": "https://localhost:8080/"
        },
        "id": "uUi9KWP7L3l8",
        "outputId": "52fe0e89-0bc2-4643-9dbf-33e9aa8c3358"
      },
      "source": [
        "newdict = {1:0, 2:0, 3:0}\n",
        "print(newdict)\n",
        "print(newdict.keys())"
      ],
      "execution_count": null,
      "outputs": [
        {
          "output_type": "stream",
          "text": [
            "{1: 0, 2: 0, 3: 0}\n",
            "dict_keys([1, 2, 3])\n"
          ],
          "name": "stdout"
        }
      ]
    },
    {
      "cell_type": "markdown",
      "metadata": {
        "id": "Y_3x6aPJNtTz"
      },
      "source": [
        "## 3 개의 답변 중 1 개의 답변만 추려냄."
      ]
    },
    {
      "cell_type": "markdown",
      "metadata": {
        "id": "GZnvXGrgNwit"
      },
      "source": [
        "`list(newdict.keys())` 를 시도해 보세요.\n",
        "\n",
        "이는 dict_keys 객체를 list로 변환할 것입니다.\n",
        "\n",
        "반면, 당신은 이것이 문제가 되는지 아닌지 스스로에게 물어봐야 합니다. 코드를 Python의 방법으로 작성하는 것은 duck typing(만약 그것이 오리처럼 생겼고, 오리처럼 꽥꽥 운다면 그것은 오리입니다.) 이라 가정합니다. dict_keys 객체는 대부분 list처럼 행동합니다. 예를 들면, 다음 소스처럼 list처럼 작동합니다.\n",
        "\n",
        "```python\n",
        "for key in newdict.keys():\n",
        "  print(key)\n",
        "```"
      ]
    },
    {
      "cell_type": "code",
      "metadata": {
        "colab": {
          "base_uri": "https://localhost:8080/"
        },
        "id": "-3-DIhMvNfXM",
        "outputId": "25a24ba0-54ac-4cb8-a063-4fc8cb2893d1"
      },
      "source": [
        "for key in newdict.keys():\n",
        "  print(key)"
      ],
      "execution_count": null,
      "outputs": [
        {
          "output_type": "stream",
          "text": [
            "1\n",
            "2\n",
            "3\n"
          ],
          "name": "stdout"
        }
      ]
    },
    {
      "cell_type": "markdown",
      "metadata": {
        "id": "LssFbUHvAZRC"
      },
      "source": [
        "## 답변 후 추가 편집 내용"
      ]
    },
    {
      "cell_type": "markdown",
      "metadata": {
        "id": "nWvzHk8TMckD"
      },
      "source": [
        "편집:\n",
        "\n",
        "감사합니다. list(newdict.keys())가 제가 원하는대로 작동합니다.\n",
        "\n",
        "현재는 다른 것이 저를 괴롭히고 있습니다. 저는 value 값으로 정렬하여 dictionary key 값과 value 값들을 뒤집어(reverse) list로 생성하고 싶습니다. 다음처럼 소스를 작성하였습니다. (다음은 나쁜 예시입니다. 모든 value 값들이 0이기 때문입니다.)\n",
        "\n",
        "```\n",
        ">>> zip(newdict.values(), newdict.keys())\n",
        "[(0, 1), (0, 2), (0, 3)]\n",
        "```"
      ]
    },
    {
      "cell_type": "code",
      "metadata": {
        "colab": {
          "base_uri": "https://localhost:8080/"
        },
        "id": "Z7qHOzV7MNF0",
        "outputId": "92970a32-dad9-4993-d436-ce876cd1a251"
      },
      "source": [
        "%%python2\n",
        "newdict = {1:0, 2:0, 3:0}\n",
        "print(zip(newdict.values(), newdict.keys()))"
      ],
      "execution_count": null,
      "outputs": [
        {
          "output_type": "stream",
          "text": [
            "[(0, 1), (0, 2), (0, 3)]\n"
          ],
          "name": "stdout"
        }
      ]
    },
    {
      "cell_type": "markdown",
      "metadata": {
        "id": "wpblYSW4NVol"
      },
      "source": [
        "하지만, Python 3에서는 다음처럼 나옵니다.\n",
        "\n",
        "```python\n",
        ">>> newdict.keys()\n",
        "dict_keys([1, 2, 3])\n",
        "```"
      ]
    },
    {
      "cell_type": "code",
      "metadata": {
        "colab": {
          "base_uri": "https://localhost:8080/"
        },
        "id": "2XGVZhUVMkWz",
        "outputId": "4d7d3117-20e8-42ff-b766-2d3bfff4d4cd"
      },
      "source": [
        "zip(list(newdict.keys()), list(newdict.values()))"
      ],
      "execution_count": null,
      "outputs": [
        {
          "output_type": "execute_result",
          "data": {
            "text/plain": [
              "<zip at 0x7f06f4f14eb0>"
            ]
          },
          "metadata": {
            "tags": []
          },
          "execution_count": 13
        }
      ]
    },
    {
      "cell_type": "markdown",
      "metadata": {
        "id": "7felsLW_NdWk"
      },
      "source": [
        "아, 죄송합니다. zip() 함수 밖으로 list() 함수를 사용해야 됨을 알았습니다."
      ]
    },
    {
      "cell_type": "code",
      "metadata": {
        "colab": {
          "base_uri": "https://localhost:8080/"
        },
        "id": "aooedhQRNbG7",
        "outputId": "b234fa72-947d-4692-d064-fd9e415eb401"
      },
      "source": [
        "list(zip(newdict.values(), newdict.keys()))"
      ],
      "execution_count": null,
      "outputs": [
        {
          "output_type": "execute_result",
          "data": {
            "text/plain": [
              "[(0, 1), (0, 2), (0, 3)]"
            ]
          },
          "metadata": {
            "tags": []
          },
          "execution_count": 14
        }
      ]
    }
  ]
}