{
  "nbformat": 4,
  "nbformat_minor": 0,
  "metadata": {
    "colab": {
      "name": "Tensorflow1 야학.ipynb",
      "provenance": [],
      "collapsed_sections": [],
      "authorship_tag": "ABX9TyN0+2RkQngwhDUdQZqZH+Cl",
      "include_colab_link": true
    },
    "kernelspec": {
      "name": "python3",
      "display_name": "Python 3"
    }
  },
  "cells": [
    {
      "cell_type": "markdown",
      "metadata": {
        "id": "view-in-github",
        "colab_type": "text"
      },
      "source": [
        "<a href=\"https://colab.research.google.com/github/SDRLurker/tensorflow1/blob/master/Tensorflow1_%EC%95%BC%ED%95%99.ipynb\" target=\"_parent\"><img src=\"https://colab.research.google.com/assets/colab-badge.svg\" alt=\"Open In Colab\"/></a>"
      ]
    },
    {
      "cell_type": "markdown",
      "metadata": {
        "id": "-NDEQC8IdYO9",
        "colab_type": "text"
      },
      "source": [
        "# 오리엔테이션 - 1일차 시작\n",
        "* https://www.opentutorials.org/module/4966/28965\n",
        "* 지도학습 (문제)\n",
        "  - 회귀\n",
        "  - 분류\n",
        "* 머신러닝 알고리즘\n",
        "  - Decision Tree\n",
        "  - Random forest\n",
        "  - KNN\n",
        "  - SVM\n",
        "  - **Neural Network**"
      ]
    },
    {
      "cell_type": "markdown",
      "metadata": {
        "id": "DHg7xaH8djyj",
        "colab_type": "text"
      },
      "source": [
        "## Neural Network\n",
        "* 인공 신경망 = 딥 러닝(인공 신경망을 깊게 쌓음)\n",
        "* 인간의 신경을 모방하여 만든 머신러닝 알고리즘\n",
        "* 인공지능 > 머신러닝(기계학습) > 딥러닝"
      ]
    },
    {
      "cell_type": "markdown",
      "metadata": {
        "id": "UQOxPsgkeDez",
        "colab_type": "text"
      },
      "source": [
        "## 딥러닝을 처리하기 위한 라이브러리(도구)\n",
        "* Tensorflow\n",
        "```python\n",
        "import tensorflow as tf\n",
        "```\n",
        "* PyTorch, Caffe2, theano\n"
      ]
    },
    {
      "cell_type": "markdown",
      "metadata": {
        "id": "ulMqq_dzetWL",
        "colab_type": "text"
      },
      "source": [
        "# 목표와 전략\n",
        "* https://www.opentutorials.org/module/4966/29045\n",
        "* 원리, 수학, 코딩, 데이터\n"
      ]
    },
    {
      "cell_type": "markdown",
      "metadata": {
        "id": "Bvnrf8hrfCJ7",
        "colab_type": "text"
      },
      "source": [
        "## 딥러닝 입문 => 실제로는 어려움\n",
        "  1. 파이썬 기초\n",
        "  2. 데이터 입문\n",
        "  3. 머신러닝 이해\n",
        "  4. 딥러닝의 원리\n",
        "  5. 딥러닝 구현"
      ]
    },
    {
      "cell_type": "markdown",
      "metadata": {
        "id": "LexrB0T0fORy",
        "colab_type": "text"
      },
      "source": [
        "## 공부과정\n",
        "* 코드 => 결과 감상\n",
        "* 위를 반복하면서 코드와 알고리즘를 파악함."
      ]
    },
    {
      "cell_type": "markdown",
      "metadata": {
        "id": "WdQLIc9bfumr",
        "colab_type": "text"
      },
      "source": [
        "# 지도학습의 빅픽쳐\n",
        "* https://www.opentutorials.org/module/4966/28967"
      ]
    },
    {
      "cell_type": "markdown",
      "metadata": {
        "id": "QMGYw6mwfx6E",
        "colab_type": "text"
      },
      "source": [
        "1. 과거의 데이터를 준비합니다.\n",
        "\n",
        "|독립변수(원인)|종속변수(결과)|\n",
        "|-|-|\n",
        "|온도|판매량|\n",
        "|20|40|\n",
        "|21|42|\n",
        "|22|44|\n",
        "|23|46|\n"
      ]
    },
    {
      "cell_type": "markdown",
      "metadata": {
        "id": "zibKmOo1gJ-E",
        "colab_type": "text"
      },
      "source": [
        "2. 모델의 구조를 만듭니다."
      ]
    },
    {
      "cell_type": "markdown",
      "metadata": {
        "id": "7VEsQiG2gO2b",
        "colab_type": "text"
      },
      "source": [
        "3. 데이터로 모델을 학습(FIT)합니다.\n",
        "  - 모델을 데이터에 맞게 fitting"
      ]
    },
    {
      "cell_type": "markdown",
      "metadata": {
        "id": "oDffgiuPgWzz",
        "colab_type": "text"
      },
      "source": [
        "4. 모델을 이용합니다.\n",
        "* 원인 15도 => 15 * 2(모델) => 결과 30개"
      ]
    },
    {
      "cell_type": "markdown",
      "metadata": {
        "id": "8_Md1LHRgtVy",
        "colab_type": "text"
      },
      "source": [
        "# 실습 환경 - Google Colaboratory - 1일차 - 끝\n",
        "* https://www.opentutorials.org/module/4966/28969"
      ]
    },
    {
      "cell_type": "markdown",
      "metadata": {
        "id": "IGH82MCNgz6L",
        "colab_type": "text"
      },
      "source": [
        "* Google Drive 내에서 사용할 수 있는 jupyter notebook"
      ]
    },
    {
      "cell_type": "code",
      "metadata": {
        "id": "bJkzk1NczoRA",
        "colab_type": "code",
        "colab": {
          "base_uri": "https://localhost:8080/",
          "height": 36
        },
        "outputId": "59f58bfe-eed7-4742-9ecd-31b061f28b43"
      },
      "source": [
        "print(\"안녕, 콜라보레이트리\")"
      ],
      "execution_count": null,
      "outputs": [
        {
          "output_type": "stream",
          "text": [
            "안녕, 콜라보레이트리\n"
          ],
          "name": "stdout"
        }
      ]
    },
    {
      "cell_type": "code",
      "metadata": {
        "id": "yEOAKO2Tzreb",
        "colab_type": "code",
        "colab": {
          "base_uri": "https://localhost:8080/",
          "height": 36
        },
        "outputId": "a28f38ec-71a5-42ac-d36c-92755904379f"
      },
      "source": [
        "text = 'hello, python'\n",
        "print(text)"
      ],
      "execution_count": null,
      "outputs": [
        {
          "output_type": "stream",
          "text": [
            "hello, python\n"
          ],
          "name": "stdout"
        }
      ]
    },
    {
      "cell_type": "markdown",
      "metadata": {
        "id": "x4hQXtxez1CM",
        "colab_type": "text"
      },
      "source": [
        "* ctrl+enter : 셀 위치는 그대로 나둔 상태로 현재 셀 실행\n",
        "* shift+enter : 현재 셀 실행 후 셀 위치를 다음으로 이동\n"
      ]
    },
    {
      "cell_type": "markdown",
      "metadata": {
        "id": "Zu_oDayw0EtT",
        "colab_type": "text"
      },
      "source": [
        "* https://opentutorials.org/module/4966 의 실습코드 참고"
      ]
    },
    {
      "cell_type": "markdown",
      "metadata": {
        "id": "7fFHgKYrzNtA",
        "colab_type": "text"
      },
      "source": [
        "# 표를 다루는 도구 '판다스' - 2일차 시작\n",
        "\n",
        "* https://opentutorials.org/module/4966/28971\n"
      ]
    },
    {
      "cell_type": "markdown",
      "metadata": {
        "id": "jnoj_UxMzZyf",
        "colab_type": "text"
      },
      "source": [
        "* 변수 \n",
        "```python\n",
        "X = 1\n",
        "X = 2\n",
        "```"
      ]
    },
    {
      "cell_type": "markdown",
      "metadata": {
        "id": "i7tbNBivzxTE",
        "colab_type": "text"
      },
      "source": [
        "1. 과거의 데이터를 준비합니다.\n",
        "\n",
        "|독립변수(원인)|종속변수(결과)|\n",
        "|-|-|\n",
        "|온도|판매량|\n",
        "|20|40|\n",
        "|21|42|\n",
        "|22|44|\n",
        "|23|46|\n",
        "\n",
        "* 코드 예시\n",
        "\n",
        "```python\n",
        "import pandas as pd\n",
        "```\n",
        "\n",
        "```python\n",
        "# 데이터 불러오기\n",
        "파일경로 = 'lemonade.csv'\n",
        "데이터 = pd.read_csv(파일경로)\n",
        "\n",
        "# 독립변수와 종속변수의 분리\n",
        "독립 = 데이터[['온도']]\n",
        "종속 = 데이터[['판매량']]\n",
        "\n",
        "# 데이터 모양 확인\n",
        "print(독립.shape, 종속.shape)\n",
        "```"
      ]
    },
    {
      "cell_type": "markdown",
      "metadata": {
        "id": "qMEVXpp80baH",
        "colab_type": "text"
      },
      "source": [
        "* 소스 경로\n",
        "  - https://bit.ly/2PCYMuW\n",
        "  - https://github.com/blackdew/tensorflow1/blob/master/practice1-pandas.ipynb"
      ]
    },
    {
      "cell_type": "markdown",
      "metadata": {
        "id": "lnm74F4p0u5v",
        "colab_type": "text"
      },
      "source": [
        "## 실습"
      ]
    },
    {
      "cell_type": "markdown",
      "metadata": {
        "id": "borpVV_r0wLl",
        "colab_type": "text"
      },
      "source": [
        "### 데이터 준비하기 1\n",
        "\n",
        "* 실습을 통해 배울 도구들\n",
        "  - 파일 읽어오기: read_csv('/경로/파일명.csv')\n",
        "  - 모양 확인하기: 데이터.shape\n",
        "  - 칼럼 선택하기: 데이터[['칼럼명1', '칼럼명2', '칼럼명3']]\n",
        "  - 칼럼 이름 출력하기: 데이터.columns\n",
        "  - 맨 위 5개 관측치 출력하기: 데이터.head()\n",
        "\n",
        "* 샘플 데이터\n",
        "  - GitHub github link: https://github.com/blackdew/tensorflow1/tree/master/csv\n",
        "  - 레모네이드: https://raw.githubusercontent.com/blackdew/tensorflow1/master/csv/lemonade.csv\n",
        "  - 보스턴: https://raw.githubusercontent.com/blackdew/tensorflow1/master/csv/boston.csv\n",
        "  - 아이리스: https://raw.githubusercontent.com/blackdew/tensorflow1/master/csv/iris.csv"
      ]
    },
    {
      "cell_type": "code",
      "metadata": {
        "id": "q50jO1mw1QS0",
        "colab_type": "code",
        "colab": {}
      },
      "source": [
        "import pandas as pd"
      ],
      "execution_count": null,
      "outputs": []
    },
    {
      "cell_type": "code",
      "metadata": {
        "id": "P_nvEP3E1Qm1",
        "colab_type": "code",
        "colab": {}
      },
      "source": [
        "# 파일로부터 데이터 읽어오기\n",
        "파일경로 = 'https://raw.githubusercontent.com/blackdew/tensorflow1/master/csv/lemonade.csv'\n",
        "레모네이드 = pd.read_csv(파일경로)\n",
        "\n",
        "파일경로 = 'https://raw.githubusercontent.com/blackdew/tensorflow1/master/csv/boston.csv'\n",
        "보스턴 = pd.read_csv(파일경로)\n",
        "\n",
        "파일경로 = 'https://raw.githubusercontent.com/blackdew/tensorflow1/master/csv/iris.csv'\n",
        "아이리스 = pd.read_csv(파일경로)"
      ],
      "execution_count": null,
      "outputs": []
    },
    {
      "cell_type": "code",
      "metadata": {
        "id": "6VSCxyYF1YcX",
        "colab_type": "code",
        "colab": {
          "base_uri": "https://localhost:8080/",
          "height": 73
        },
        "outputId": "026091c3-8194-4975-b2c0-ae120a0e2d94"
      },
      "source": [
        "# 데이터의 모양확인\n",
        "print(레모네이드.shape)\n",
        "print(보스턴.shape)\n",
        "print(아이리스.shape)"
      ],
      "execution_count": null,
      "outputs": [
        {
          "output_type": "stream",
          "text": [
            "(6, 2)\n",
            "(506, 14)\n",
            "(150, 5)\n"
          ],
          "name": "stdout"
        }
      ]
    },
    {
      "cell_type": "code",
      "metadata": {
        "id": "8OxJMqQC1i2U",
        "colab_type": "code",
        "colab": {
          "base_uri": "https://localhost:8080/",
          "height": 111
        },
        "outputId": "63d0c056-fff8-4916-91e5-1698704b07fe"
      },
      "source": [
        "# 데이터 칼럼이름 확인\n",
        "print(레모네이드.columns)\n",
        "print(보스턴.columns)\n",
        "print(아이리스.columns)"
      ],
      "execution_count": null,
      "outputs": [
        {
          "output_type": "stream",
          "text": [
            "Index(['온도', '판매량'], dtype='object')\n",
            "Index(['crim', 'zn', 'indus', 'chas', 'nox', 'rm', 'age', 'dis', 'rad', 'tax',\n",
            "       'ptratio', 'b', 'lstat', 'medv'],\n",
            "      dtype='object')\n",
            "Index(['꽃잎길이', '꽃잎폭', '꽃받침길이', '꽃받침폭', '품종'], dtype='object')\n"
          ],
          "name": "stdout"
        }
      ]
    },
    {
      "cell_type": "code",
      "metadata": {
        "id": "GUEzGVYK1vnu",
        "colab_type": "code",
        "colab": {
          "base_uri": "https://localhost:8080/",
          "height": 73
        },
        "outputId": "f46c736e-5d0c-4407-85e0-1a60a46812e3"
      },
      "source": [
        "# 독립변수와 종속변수 분리\n",
        "독립 = 레모네이드[['온도']]\n",
        "종속 = 레모네이드[['판매량']]\n",
        "print(독립.shape, 종속.shape)\n",
        "\n",
        "독립 = 보스턴[['crim', 'zn', 'indus', 'chas', 'nox', \n",
        "            'rm', 'age', 'dis', 'rad', 'tax',\n",
        "            'ptratio', 'b', 'lstat']]\n",
        "종속 = 보스턴[['medv']]\n",
        "print(독립.shape, 종속.shape)\n",
        "\n",
        "독립 = 아이리스[['꽃잎길이', '꽃잎폭', '꽃받침길이', '꽃받침폭']]\n",
        "종속 = 아이리스[['품종']]\n",
        "print(독립.shape, 종속.shape)"
      ],
      "execution_count": null,
      "outputs": [
        {
          "output_type": "stream",
          "text": [
            "(6, 1) (6, 1)\n",
            "(506, 13) (506, 1)\n",
            "(150, 4) (150, 1)\n"
          ],
          "name": "stdout"
        }
      ]
    },
    {
      "cell_type": "code",
      "metadata": {
        "id": "bqf4UTAp13pb",
        "colab_type": "code",
        "colab": {
          "base_uri": "https://localhost:8080/",
          "height": 202
        },
        "outputId": "01e75f62-8eb2-4bbb-9b4c-7917cd6a6b3f"
      },
      "source": [
        "레모네이드.head()"
      ],
      "execution_count": null,
      "outputs": [
        {
          "output_type": "execute_result",
          "data": {
            "text/html": [
              "<div>\n",
              "<style scoped>\n",
              "    .dataframe tbody tr th:only-of-type {\n",
              "        vertical-align: middle;\n",
              "    }\n",
              "\n",
              "    .dataframe tbody tr th {\n",
              "        vertical-align: top;\n",
              "    }\n",
              "\n",
              "    .dataframe thead th {\n",
              "        text-align: right;\n",
              "    }\n",
              "</style>\n",
              "<table border=\"1\" class=\"dataframe\">\n",
              "  <thead>\n",
              "    <tr style=\"text-align: right;\">\n",
              "      <th></th>\n",
              "      <th>온도</th>\n",
              "      <th>판매량</th>\n",
              "    </tr>\n",
              "  </thead>\n",
              "  <tbody>\n",
              "    <tr>\n",
              "      <th>0</th>\n",
              "      <td>20</td>\n",
              "      <td>40</td>\n",
              "    </tr>\n",
              "    <tr>\n",
              "      <th>1</th>\n",
              "      <td>21</td>\n",
              "      <td>42</td>\n",
              "    </tr>\n",
              "    <tr>\n",
              "      <th>2</th>\n",
              "      <td>22</td>\n",
              "      <td>44</td>\n",
              "    </tr>\n",
              "    <tr>\n",
              "      <th>3</th>\n",
              "      <td>23</td>\n",
              "      <td>46</td>\n",
              "    </tr>\n",
              "    <tr>\n",
              "      <th>4</th>\n",
              "      <td>24</td>\n",
              "      <td>48</td>\n",
              "    </tr>\n",
              "  </tbody>\n",
              "</table>\n",
              "</div>"
            ],
            "text/plain": [
              "   온도  판매량\n",
              "0  20   40\n",
              "1  21   42\n",
              "2  22   44\n",
              "3  23   46\n",
              "4  24   48"
            ]
          },
          "metadata": {
            "tags": []
          },
          "execution_count": 6
        }
      ]
    },
    {
      "cell_type": "code",
      "metadata": {
        "id": "OsakSSb52FKt",
        "colab_type": "code",
        "colab": {
          "base_uri": "https://localhost:8080/",
          "height": 202
        },
        "outputId": "1bfa0f1e-6fb9-4823-9b25-044ba897f57b"
      },
      "source": [
        "보스턴.head()"
      ],
      "execution_count": null,
      "outputs": [
        {
          "output_type": "execute_result",
          "data": {
            "text/html": [
              "<div>\n",
              "<style scoped>\n",
              "    .dataframe tbody tr th:only-of-type {\n",
              "        vertical-align: middle;\n",
              "    }\n",
              "\n",
              "    .dataframe tbody tr th {\n",
              "        vertical-align: top;\n",
              "    }\n",
              "\n",
              "    .dataframe thead th {\n",
              "        text-align: right;\n",
              "    }\n",
              "</style>\n",
              "<table border=\"1\" class=\"dataframe\">\n",
              "  <thead>\n",
              "    <tr style=\"text-align: right;\">\n",
              "      <th></th>\n",
              "      <th>crim</th>\n",
              "      <th>zn</th>\n",
              "      <th>indus</th>\n",
              "      <th>chas</th>\n",
              "      <th>nox</th>\n",
              "      <th>rm</th>\n",
              "      <th>age</th>\n",
              "      <th>dis</th>\n",
              "      <th>rad</th>\n",
              "      <th>tax</th>\n",
              "      <th>ptratio</th>\n",
              "      <th>b</th>\n",
              "      <th>lstat</th>\n",
              "      <th>medv</th>\n",
              "    </tr>\n",
              "  </thead>\n",
              "  <tbody>\n",
              "    <tr>\n",
              "      <th>0</th>\n",
              "      <td>0.00632</td>\n",
              "      <td>18.0</td>\n",
              "      <td>2.31</td>\n",
              "      <td>0</td>\n",
              "      <td>0.538</td>\n",
              "      <td>6.575</td>\n",
              "      <td>65.2</td>\n",
              "      <td>4.0900</td>\n",
              "      <td>1</td>\n",
              "      <td>296</td>\n",
              "      <td>15.3</td>\n",
              "      <td>396.90</td>\n",
              "      <td>4.98</td>\n",
              "      <td>24.0</td>\n",
              "    </tr>\n",
              "    <tr>\n",
              "      <th>1</th>\n",
              "      <td>0.02731</td>\n",
              "      <td>0.0</td>\n",
              "      <td>7.07</td>\n",
              "      <td>0</td>\n",
              "      <td>0.469</td>\n",
              "      <td>6.421</td>\n",
              "      <td>78.9</td>\n",
              "      <td>4.9671</td>\n",
              "      <td>2</td>\n",
              "      <td>242</td>\n",
              "      <td>17.8</td>\n",
              "      <td>396.90</td>\n",
              "      <td>9.14</td>\n",
              "      <td>21.6</td>\n",
              "    </tr>\n",
              "    <tr>\n",
              "      <th>2</th>\n",
              "      <td>0.02729</td>\n",
              "      <td>0.0</td>\n",
              "      <td>7.07</td>\n",
              "      <td>0</td>\n",
              "      <td>0.469</td>\n",
              "      <td>7.185</td>\n",
              "      <td>61.1</td>\n",
              "      <td>4.9671</td>\n",
              "      <td>2</td>\n",
              "      <td>242</td>\n",
              "      <td>17.8</td>\n",
              "      <td>392.83</td>\n",
              "      <td>4.03</td>\n",
              "      <td>34.7</td>\n",
              "    </tr>\n",
              "    <tr>\n",
              "      <th>3</th>\n",
              "      <td>0.03237</td>\n",
              "      <td>0.0</td>\n",
              "      <td>2.18</td>\n",
              "      <td>0</td>\n",
              "      <td>0.458</td>\n",
              "      <td>6.998</td>\n",
              "      <td>45.8</td>\n",
              "      <td>6.0622</td>\n",
              "      <td>3</td>\n",
              "      <td>222</td>\n",
              "      <td>18.7</td>\n",
              "      <td>394.63</td>\n",
              "      <td>2.94</td>\n",
              "      <td>33.4</td>\n",
              "    </tr>\n",
              "    <tr>\n",
              "      <th>4</th>\n",
              "      <td>0.06905</td>\n",
              "      <td>0.0</td>\n",
              "      <td>2.18</td>\n",
              "      <td>0</td>\n",
              "      <td>0.458</td>\n",
              "      <td>7.147</td>\n",
              "      <td>54.2</td>\n",
              "      <td>6.0622</td>\n",
              "      <td>3</td>\n",
              "      <td>222</td>\n",
              "      <td>18.7</td>\n",
              "      <td>396.90</td>\n",
              "      <td>5.33</td>\n",
              "      <td>36.2</td>\n",
              "    </tr>\n",
              "  </tbody>\n",
              "</table>\n",
              "</div>"
            ],
            "text/plain": [
              "      crim    zn  indus  chas    nox  ...  tax  ptratio       b  lstat  medv\n",
              "0  0.00632  18.0   2.31     0  0.538  ...  296     15.3  396.90   4.98  24.0\n",
              "1  0.02731   0.0   7.07     0  0.469  ...  242     17.8  396.90   9.14  21.6\n",
              "2  0.02729   0.0   7.07     0  0.469  ...  242     17.8  392.83   4.03  34.7\n",
              "3  0.03237   0.0   2.18     0  0.458  ...  222     18.7  394.63   2.94  33.4\n",
              "4  0.06905   0.0   2.18     0  0.458  ...  222     18.7  396.90   5.33  36.2\n",
              "\n",
              "[5 rows x 14 columns]"
            ]
          },
          "metadata": {
            "tags": []
          },
          "execution_count": 8
        }
      ]
    },
    {
      "cell_type": "code",
      "metadata": {
        "id": "vMPRyInY2Gi8",
        "colab_type": "code",
        "colab": {
          "base_uri": "https://localhost:8080/",
          "height": 202
        },
        "outputId": "b5f61b0d-e120-4d95-f875-5d76b49b1f56"
      },
      "source": [
        "아이리스.head()"
      ],
      "execution_count": null,
      "outputs": [
        {
          "output_type": "execute_result",
          "data": {
            "text/html": [
              "<div>\n",
              "<style scoped>\n",
              "    .dataframe tbody tr th:only-of-type {\n",
              "        vertical-align: middle;\n",
              "    }\n",
              "\n",
              "    .dataframe tbody tr th {\n",
              "        vertical-align: top;\n",
              "    }\n",
              "\n",
              "    .dataframe thead th {\n",
              "        text-align: right;\n",
              "    }\n",
              "</style>\n",
              "<table border=\"1\" class=\"dataframe\">\n",
              "  <thead>\n",
              "    <tr style=\"text-align: right;\">\n",
              "      <th></th>\n",
              "      <th>꽃잎길이</th>\n",
              "      <th>꽃잎폭</th>\n",
              "      <th>꽃받침길이</th>\n",
              "      <th>꽃받침폭</th>\n",
              "      <th>품종</th>\n",
              "    </tr>\n",
              "  </thead>\n",
              "  <tbody>\n",
              "    <tr>\n",
              "      <th>0</th>\n",
              "      <td>5.1</td>\n",
              "      <td>3.5</td>\n",
              "      <td>1.4</td>\n",
              "      <td>0.2</td>\n",
              "      <td>setosa</td>\n",
              "    </tr>\n",
              "    <tr>\n",
              "      <th>1</th>\n",
              "      <td>4.9</td>\n",
              "      <td>3.0</td>\n",
              "      <td>1.4</td>\n",
              "      <td>0.2</td>\n",
              "      <td>setosa</td>\n",
              "    </tr>\n",
              "    <tr>\n",
              "      <th>2</th>\n",
              "      <td>4.7</td>\n",
              "      <td>3.2</td>\n",
              "      <td>1.3</td>\n",
              "      <td>0.2</td>\n",
              "      <td>setosa</td>\n",
              "    </tr>\n",
              "    <tr>\n",
              "      <th>3</th>\n",
              "      <td>4.6</td>\n",
              "      <td>3.1</td>\n",
              "      <td>1.5</td>\n",
              "      <td>0.2</td>\n",
              "      <td>setosa</td>\n",
              "    </tr>\n",
              "    <tr>\n",
              "      <th>4</th>\n",
              "      <td>5.0</td>\n",
              "      <td>3.6</td>\n",
              "      <td>1.4</td>\n",
              "      <td>0.2</td>\n",
              "      <td>setosa</td>\n",
              "    </tr>\n",
              "  </tbody>\n",
              "</table>\n",
              "</div>"
            ],
            "text/plain": [
              "   꽃잎길이  꽃잎폭  꽃받침길이  꽃받침폭      품종\n",
              "0   5.1  3.5    1.4   0.2  setosa\n",
              "1   4.9  3.0    1.4   0.2  setosa\n",
              "2   4.7  3.2    1.3   0.2  setosa\n",
              "3   4.6  3.1    1.5   0.2  setosa\n",
              "4   5.0  3.6    1.4   0.2  setosa"
            ]
          },
          "metadata": {
            "tags": []
          },
          "execution_count": 9
        }
      ]
    },
    {
      "cell_type": "markdown",
      "metadata": {
        "id": "5GFQKhau2r0u",
        "colab_type": "text"
      },
      "source": [
        "# 첫번째 딥러닝 - 레모네이드 판매 예측 - 2일차 시작\n",
        "* https://www.opentutorials.org/module/4966/28974\n",
        "* 실습 csv\n",
        "  - https://raw.githubusercontent.com/blackdew/tensorflow1/master/csv/lemonade.csv"
      ]
    },
    {
      "cell_type": "code",
      "metadata": {
        "id": "kOZBKhSvGpRM",
        "colab_type": "code",
        "colab": {}
      },
      "source": [
        "# 라이브러리 사용\n",
        "import pandas as pd\n",
        "import tensorflow as tf"
      ],
      "execution_count": null,
      "outputs": []
    },
    {
      "cell_type": "markdown",
      "metadata": {
        "id": "KFKfTLhsF3BG",
        "colab_type": "text"
      },
      "source": [
        "## 과거의 데이터를 준비합니다."
      ]
    },
    {
      "cell_type": "code",
      "metadata": {
        "id": "r3qV6-VoF5Ub",
        "colab_type": "code",
        "colab": {
          "base_uri": "https://localhost:8080/",
          "height": 202
        },
        "outputId": "e48125c9-3139-4748-e2e2-9f54f5eb9da0"
      },
      "source": [
        "# 데이터 준비\n",
        "파일경로 = 'https://raw.githubusercontent.com/blackdew/tensorflow1/master/csv/lemonade.csv'\n",
        "레모네이드 = pd.read_csv(파일경로)\n",
        "레모네이드.head()"
      ],
      "execution_count": null,
      "outputs": [
        {
          "output_type": "execute_result",
          "data": {
            "text/html": [
              "<div>\n",
              "<style scoped>\n",
              "    .dataframe tbody tr th:only-of-type {\n",
              "        vertical-align: middle;\n",
              "    }\n",
              "\n",
              "    .dataframe tbody tr th {\n",
              "        vertical-align: top;\n",
              "    }\n",
              "\n",
              "    .dataframe thead th {\n",
              "        text-align: right;\n",
              "    }\n",
              "</style>\n",
              "<table border=\"1\" class=\"dataframe\">\n",
              "  <thead>\n",
              "    <tr style=\"text-align: right;\">\n",
              "      <th></th>\n",
              "      <th>온도</th>\n",
              "      <th>판매량</th>\n",
              "    </tr>\n",
              "  </thead>\n",
              "  <tbody>\n",
              "    <tr>\n",
              "      <th>0</th>\n",
              "      <td>20</td>\n",
              "      <td>40</td>\n",
              "    </tr>\n",
              "    <tr>\n",
              "      <th>1</th>\n",
              "      <td>21</td>\n",
              "      <td>42</td>\n",
              "    </tr>\n",
              "    <tr>\n",
              "      <th>2</th>\n",
              "      <td>22</td>\n",
              "      <td>44</td>\n",
              "    </tr>\n",
              "    <tr>\n",
              "      <th>3</th>\n",
              "      <td>23</td>\n",
              "      <td>46</td>\n",
              "    </tr>\n",
              "    <tr>\n",
              "      <th>4</th>\n",
              "      <td>24</td>\n",
              "      <td>48</td>\n",
              "    </tr>\n",
              "  </tbody>\n",
              "</table>\n",
              "</div>"
            ],
            "text/plain": [
              "   온도  판매량\n",
              "0  20   40\n",
              "1  21   42\n",
              "2  22   44\n",
              "3  23   46\n",
              "4  24   48"
            ]
          },
          "metadata": {
            "tags": []
          },
          "execution_count": 17
        }
      ]
    },
    {
      "cell_type": "code",
      "metadata": {
        "id": "pHe3mvemKJ7W",
        "colab_type": "code",
        "colab": {
          "base_uri": "https://localhost:8080/",
          "height": 36
        },
        "outputId": "b9a02d13-59c8-4490-a14b-aaa551db978b"
      },
      "source": [
        "# 종속변수, 독립변수\n",
        "독립 = 레모네이드[['온도']]\n",
        "종속 = 레모네이드[['판매량']]\n",
        "\n",
        "print(독립.shape, 종속.shape)"
      ],
      "execution_count": null,
      "outputs": [
        {
          "output_type": "stream",
          "text": [
            "(6, 1) (6, 1)\n"
          ],
          "name": "stdout"
        }
      ]
    },
    {
      "cell_type": "markdown",
      "metadata": {
        "id": "WdOpbFAkGGFM",
        "colab_type": "text"
      },
      "source": [
        "## 모델의 구조를 만듭니다.\n",
        "* 뉴런(세포) 하나로 구성된 신경망이라 생각하면 됨."
      ]
    },
    {
      "cell_type": "code",
      "metadata": {
        "id": "e4WTlFVkGFc5",
        "colab_type": "code",
        "colab": {}
      },
      "source": [
        "# 모델을 만듭니다.\n",
        "X = tf.keras.layers.Input(shape=[1]) # 독립변수 개수=1, 온도\n",
        "Y = tf.keras.layers.Dense(1)(X) # 종속변수 개수=1, 판매량\n",
        "model = tf.keras.models.Model(X, Y)\n",
        "model.compile(loss='mse')"
      ],
      "execution_count": null,
      "outputs": []
    },
    {
      "cell_type": "markdown",
      "metadata": {
        "id": "t9-TAAhMG3qT",
        "colab_type": "text"
      },
      "source": [
        "## 모델을 학습시킵니다. \n",
        "* epochs = 전체 데이터를 몇번 반복하여 학습할 것인지 지정."
      ]
    },
    {
      "cell_type": "code",
      "metadata": {
        "id": "GuUYlw3QGmQr",
        "colab_type": "code",
        "colab": {
          "base_uri": "https://localhost:8080/",
          "height": 36
        },
        "outputId": "a46c7b38-3273-4476-dd08-a7925d1e00f3"
      },
      "source": [
        "model.fit(독립, 종속, epochs=10000, verbose=False)"
      ],
      "execution_count": null,
      "outputs": [
        {
          "output_type": "execute_result",
          "data": {
            "text/plain": [
              "<tensorflow.python.keras.callbacks.History at 0x7f34ffb1e9e8>"
            ]
          },
          "metadata": {
            "tags": []
          },
          "execution_count": 19
        }
      ]
    },
    {
      "cell_type": "code",
      "metadata": {
        "id": "oGReLevnKmQU",
        "colab_type": "code",
        "colab": {
          "base_uri": "https://localhost:8080/",
          "height": 409
        },
        "outputId": "e85f4f02-8f37-47be-dca3-e933df5b850a"
      },
      "source": [
        "model.fit(독립, 종속, epochs=10)"
      ],
      "execution_count": null,
      "outputs": [
        {
          "output_type": "stream",
          "text": [
            "Epoch 1/10\n",
            "1/1 [==============================] - 0s 2ms/step - loss: 1.3925e-04\n",
            "Epoch 2/10\n",
            "1/1 [==============================] - 0s 3ms/step - loss: 1.3923e-04\n",
            "Epoch 3/10\n",
            "1/1 [==============================] - 0s 3ms/step - loss: 1.3921e-04\n",
            "Epoch 4/10\n",
            "1/1 [==============================] - 0s 5ms/step - loss: 1.3921e-04\n",
            "Epoch 5/10\n",
            "1/1 [==============================] - 0s 9ms/step - loss: 1.3928e-04\n",
            "Epoch 6/10\n",
            "1/1 [==============================] - 0s 2ms/step - loss: 1.3942e-04\n",
            "Epoch 7/10\n",
            "1/1 [==============================] - 0s 3ms/step - loss: 1.3951e-04\n",
            "Epoch 8/10\n",
            "1/1 [==============================] - 0s 6ms/step - loss: 1.3946e-04\n",
            "Epoch 9/10\n",
            "1/1 [==============================] - 0s 3ms/step - loss: 1.3946e-04\n",
            "Epoch 10/10\n",
            "1/1 [==============================] - 0s 4ms/step - loss: 1.3944e-04\n"
          ],
          "name": "stdout"
        },
        {
          "output_type": "execute_result",
          "data": {
            "text/plain": [
              "<tensorflow.python.keras.callbacks.History at 0x7f34f3c5e668>"
            ]
          },
          "metadata": {
            "tags": []
          },
          "execution_count": 20
        }
      ]
    },
    {
      "cell_type": "markdown",
      "metadata": {
        "id": "RN1EzleuIES1",
        "colab_type": "text"
      },
      "source": [
        "# 모델을 이용합니다. \n"
      ]
    },
    {
      "cell_type": "code",
      "metadata": {
        "id": "oUKdPHucKs4M",
        "colab_type": "code",
        "colab": {
          "base_uri": "https://localhost:8080/",
          "height": 129
        },
        "outputId": "956ef269-c745-4b0a-a762-f75a8c5c59c9"
      },
      "source": [
        "# 모델을 이용합니다.\n",
        "model.predict(독립)"
      ],
      "execution_count": null,
      "outputs": [
        {
          "output_type": "execute_result",
          "data": {
            "text/plain": [
              "array([[40.011665],\n",
              "       [42.011723],\n",
              "       [44.01178 ],\n",
              "       [46.011833],\n",
              "       [48.01189 ],\n",
              "       [50.011948]], dtype=float32)"
            ]
          },
          "metadata": {
            "tags": []
          },
          "execution_count": 21
        }
      ]
    },
    {
      "cell_type": "code",
      "metadata": {
        "id": "N7PxY_okHo19",
        "colab_type": "code",
        "colab": {
          "base_uri": "https://localhost:8080/",
          "height": 36
        },
        "outputId": "e6de8b9b-e815-4172-a11d-7bc329c51cd2"
      },
      "source": [
        "print(model.predict([[15]]))"
      ],
      "execution_count": null,
      "outputs": [
        {
          "output_type": "stream",
          "text": [
            "[[30.011387]]\n"
          ],
          "name": "stdout"
        }
      ]
    },
    {
      "cell_type": "markdown",
      "metadata": {
        "id": "PVEraEVuILGD",
        "colab_type": "text"
      },
      "source": [
        "## Loss\n",
        "* model.fit(독립, 종속, epochs=10)\n",
        "```\n",
        "Epoch 992/1000 <= 몇번째 학습인지\n",
        "- 0s 1ms/step  <= 한 번 학습하는데 시간이 얼마나 걸렸는지\n",
        "- loss: 0.0039 <= 얼마나 정답에 가까운지 평가하는 지표\n",
        "```"
      ]
    },
    {
      "cell_type": "markdown",
      "metadata": {
        "id": "VqKogTXQI1d9",
        "colab_type": "text"
      },
      "source": [
        "* 학습과정(초기)\n",
        "  - loss = Error<sup>2</sup>의 평균 = 11.5\n",
        "  \n",
        "|온도|판매량|예측|Error<sup>2</sup>|\n",
        "|-|-|-|-|\n",
        "|20|40|35|25|\n",
        "|21|42|40|4|\n",
        "|22|44|45|1|\n",
        "|23|46|50|16|\n",
        "\n",
        "  "
      ]
    },
    {
      "cell_type": "markdown",
      "metadata": {
        "id": "OZrdpE5bJWkV",
        "colab_type": "text"
      },
      "source": [
        "* 학습과정(이상적인)\n",
        "  - loss = Error<sup>2</sup>의 평균 = 0\n",
        "  \n",
        "|온도|판매량|예측|Error<sup>2</sup>|\n",
        "|-|-|-|-|\n",
        "|20|40|40|0|\n",
        "|21|42|42|0|\n",
        "|22|44|44|0|\n",
        "|23|46|46|0|"
      ]
    },
    {
      "cell_type": "markdown",
      "metadata": {
        "id": "9_Oo4BjBTbCb",
        "colab_type": "text"
      },
      "source": [
        "# 두번째 딥러닝 - 보스턴 집값 예측 - 3일차 시작\n",
        "* https://www.opentutorials.org/module/4966/28976"
      ]
    },
    {
      "cell_type": "markdown",
      "metadata": {
        "id": "8eC4K9lVZ2Ed",
        "colab_type": "text"
      },
      "source": [
        "## y=2x\n",
        "\n",
        "|온도|판매량|\n",
        "|-|-|\n",
        "|20|40|\n",
        "|21|42|\n",
        "|22|44|\n",
        "|23|46|"
      ]
    },
    {
      "cell_type": "markdown",
      "metadata": {
        "id": "0T5DpYk_aVW5",
        "colab_type": "text"
      },
      "source": [
        "* 평균값 \n",
        "* 중앙값 \n",
        "* 평균값에 이상치가 있을 경우 대표값을 중앙값을 사용함.\n"
      ]
    },
    {
      "cell_type": "markdown",
      "metadata": {
        "id": "fu_Tfff9hfse",
        "colab_type": "text"
      },
      "source": [
        "```python\n",
        "# 모델을 만듭니다.\n",
        "X = tf.keras.layers.Input(shape=[13]) # 독립변수 개수=13\n",
        "Y = tf.keras.layers.Dense(1)(X) # 종속변수 개수=1\n",
        "```\n",
        "* 위의 모델은 다음 수식으로 구성됨(퍼셉트론)\n",
        "  - y = w1x1 + w2x2 + ... + w13x13 + b\n",
        "  - w? : 가중치\n",
        "  - b : 편향"
      ]
    },
    {
      "cell_type": "markdown",
      "metadata": {
        "id": "krgaorXIjkvw",
        "colab_type": "text"
      },
      "source": [
        "## 보스턴 집값 예측\n",
        "* github csv url: https://raw.githubusercontent.com/blackdew/tensorflow1/master/csv/boston.csv"
      ]
    },
    {
      "cell_type": "code",
      "metadata": {
        "id": "-l7fNRPuZ6Ft",
        "colab_type": "code",
        "colab": {}
      },
      "source": [
        "# 라이브러리 사용\n",
        "import tensorflow as tf\n",
        "import pandas as pd"
      ],
      "execution_count": null,
      "outputs": []
    },
    {
      "cell_type": "code",
      "metadata": {
        "id": "CfJb5Y4FkJgl",
        "colab_type": "code",
        "colab": {
          "base_uri": "https://localhost:8080/",
          "height": 258
        },
        "outputId": "9276efca-abe4-41fa-fbb1-5151bcfc2401"
      },
      "source": [
        "파일경로 = \"https://raw.githubusercontent.com/blackdew/tensorflow1/master/csv/boston.csv\"\n",
        "보스턴 = pd.read_csv(파일경로)\n",
        "print(보스턴.columns)\n",
        "보스턴.head()"
      ],
      "execution_count": null,
      "outputs": [
        {
          "output_type": "stream",
          "text": [
            "Index(['crim', 'zn', 'indus', 'chas', 'nox', 'rm', 'age', 'dis', 'rad', 'tax',\n",
            "       'ptratio', 'b', 'lstat', 'medv'],\n",
            "      dtype='object')\n"
          ],
          "name": "stdout"
        },
        {
          "output_type": "execute_result",
          "data": {
            "text/html": [
              "<div>\n",
              "<style scoped>\n",
              "    .dataframe tbody tr th:only-of-type {\n",
              "        vertical-align: middle;\n",
              "    }\n",
              "\n",
              "    .dataframe tbody tr th {\n",
              "        vertical-align: top;\n",
              "    }\n",
              "\n",
              "    .dataframe thead th {\n",
              "        text-align: right;\n",
              "    }\n",
              "</style>\n",
              "<table border=\"1\" class=\"dataframe\">\n",
              "  <thead>\n",
              "    <tr style=\"text-align: right;\">\n",
              "      <th></th>\n",
              "      <th>crim</th>\n",
              "      <th>zn</th>\n",
              "      <th>indus</th>\n",
              "      <th>chas</th>\n",
              "      <th>nox</th>\n",
              "      <th>rm</th>\n",
              "      <th>age</th>\n",
              "      <th>dis</th>\n",
              "      <th>rad</th>\n",
              "      <th>tax</th>\n",
              "      <th>ptratio</th>\n",
              "      <th>b</th>\n",
              "      <th>lstat</th>\n",
              "      <th>medv</th>\n",
              "    </tr>\n",
              "  </thead>\n",
              "  <tbody>\n",
              "    <tr>\n",
              "      <th>0</th>\n",
              "      <td>0.00632</td>\n",
              "      <td>18.0</td>\n",
              "      <td>2.31</td>\n",
              "      <td>0</td>\n",
              "      <td>0.538</td>\n",
              "      <td>6.575</td>\n",
              "      <td>65.2</td>\n",
              "      <td>4.0900</td>\n",
              "      <td>1</td>\n",
              "      <td>296</td>\n",
              "      <td>15.3</td>\n",
              "      <td>396.90</td>\n",
              "      <td>4.98</td>\n",
              "      <td>24.0</td>\n",
              "    </tr>\n",
              "    <tr>\n",
              "      <th>1</th>\n",
              "      <td>0.02731</td>\n",
              "      <td>0.0</td>\n",
              "      <td>7.07</td>\n",
              "      <td>0</td>\n",
              "      <td>0.469</td>\n",
              "      <td>6.421</td>\n",
              "      <td>78.9</td>\n",
              "      <td>4.9671</td>\n",
              "      <td>2</td>\n",
              "      <td>242</td>\n",
              "      <td>17.8</td>\n",
              "      <td>396.90</td>\n",
              "      <td>9.14</td>\n",
              "      <td>21.6</td>\n",
              "    </tr>\n",
              "    <tr>\n",
              "      <th>2</th>\n",
              "      <td>0.02729</td>\n",
              "      <td>0.0</td>\n",
              "      <td>7.07</td>\n",
              "      <td>0</td>\n",
              "      <td>0.469</td>\n",
              "      <td>7.185</td>\n",
              "      <td>61.1</td>\n",
              "      <td>4.9671</td>\n",
              "      <td>2</td>\n",
              "      <td>242</td>\n",
              "      <td>17.8</td>\n",
              "      <td>392.83</td>\n",
              "      <td>4.03</td>\n",
              "      <td>34.7</td>\n",
              "    </tr>\n",
              "    <tr>\n",
              "      <th>3</th>\n",
              "      <td>0.03237</td>\n",
              "      <td>0.0</td>\n",
              "      <td>2.18</td>\n",
              "      <td>0</td>\n",
              "      <td>0.458</td>\n",
              "      <td>6.998</td>\n",
              "      <td>45.8</td>\n",
              "      <td>6.0622</td>\n",
              "      <td>3</td>\n",
              "      <td>222</td>\n",
              "      <td>18.7</td>\n",
              "      <td>394.63</td>\n",
              "      <td>2.94</td>\n",
              "      <td>33.4</td>\n",
              "    </tr>\n",
              "    <tr>\n",
              "      <th>4</th>\n",
              "      <td>0.06905</td>\n",
              "      <td>0.0</td>\n",
              "      <td>2.18</td>\n",
              "      <td>0</td>\n",
              "      <td>0.458</td>\n",
              "      <td>7.147</td>\n",
              "      <td>54.2</td>\n",
              "      <td>6.0622</td>\n",
              "      <td>3</td>\n",
              "      <td>222</td>\n",
              "      <td>18.7</td>\n",
              "      <td>396.90</td>\n",
              "      <td>5.33</td>\n",
              "      <td>36.2</td>\n",
              "    </tr>\n",
              "  </tbody>\n",
              "</table>\n",
              "</div>"
            ],
            "text/plain": [
              "      crim    zn  indus  chas    nox  ...  tax  ptratio       b  lstat  medv\n",
              "0  0.00632  18.0   2.31     0  0.538  ...  296     15.3  396.90   4.98  24.0\n",
              "1  0.02731   0.0   7.07     0  0.469  ...  242     17.8  396.90   9.14  21.6\n",
              "2  0.02729   0.0   7.07     0  0.469  ...  242     17.8  392.83   4.03  34.7\n",
              "3  0.03237   0.0   2.18     0  0.458  ...  222     18.7  394.63   2.94  33.4\n",
              "4  0.06905   0.0   2.18     0  0.458  ...  222     18.7  396.90   5.33  36.2\n",
              "\n",
              "[5 rows x 14 columns]"
            ]
          },
          "metadata": {
            "tags": []
          },
          "execution_count": 2
        }
      ]
    },
    {
      "cell_type": "code",
      "metadata": {
        "id": "ZCcu10QWkTNo",
        "colab_type": "code",
        "colab": {
          "base_uri": "https://localhost:8080/",
          "height": 35
        },
        "outputId": "741f7d88-93df-49e0-a7dc-5395e6ae9dd9"
      },
      "source": [
        "# 독립변수, 종속변수 분리\n",
        "독립 = 보스턴[['crim', 'zn', 'indus', 'chas', 'nox', 'rm', 'age', 'dis', 'rad', 'tax',\n",
        "       'ptratio', 'b', 'lstat']]\n",
        "종속 = 보스턴[['medv']]\n",
        "print(독립.shape, 종속.shape)"
      ],
      "execution_count": null,
      "outputs": [
        {
          "output_type": "stream",
          "text": [
            "(506, 13) (506, 1)\n"
          ],
          "name": "stdout"
        }
      ]
    },
    {
      "cell_type": "code",
      "metadata": {
        "id": "ViptcuVZkjr6",
        "colab_type": "code",
        "colab": {}
      },
      "source": [
        "# 2. 모델의 구조를 만듭니다.\n",
        "X = tf.keras.layers.Input(shape=[13])\n",
        "Y = tf.keras.layers.Dense(1)(X)\n",
        "model = tf.keras.models.Model(X, Y)\n",
        "model.compile(loss='mse')"
      ],
      "execution_count": null,
      "outputs": []
    },
    {
      "cell_type": "code",
      "metadata": {
        "id": "nV7-izCKkzQZ",
        "colab_type": "code",
        "colab": {
          "base_uri": "https://localhost:8080/",
          "height": 395
        },
        "outputId": "db003ffd-40b4-4f1d-8a10-65774136d7ae"
      },
      "source": [
        "# 3.데이터로 모델을 학습(FIT)합니다.\n",
        "model.fit(독립, 종속, epochs=1000, verbose=0)\n",
        "model.fit(독립, 종속, epochs=10)"
      ],
      "execution_count": null,
      "outputs": [
        {
          "output_type": "stream",
          "text": [
            "Epoch 1/10\n",
            "16/16 [==============================] - 0s 1ms/step - loss: 25.5608\n",
            "Epoch 2/10\n",
            "16/16 [==============================] - 0s 871us/step - loss: 25.6478\n",
            "Epoch 3/10\n",
            "16/16 [==============================] - 0s 914us/step - loss: 25.6511\n",
            "Epoch 4/10\n",
            "16/16 [==============================] - 0s 1ms/step - loss: 25.3779\n",
            "Epoch 5/10\n",
            "16/16 [==============================] - 0s 996us/step - loss: 25.4074\n",
            "Epoch 6/10\n",
            "16/16 [==============================] - 0s 871us/step - loss: 25.3895\n",
            "Epoch 7/10\n",
            "16/16 [==============================] - 0s 884us/step - loss: 25.8513\n",
            "Epoch 8/10\n",
            "16/16 [==============================] - 0s 981us/step - loss: 25.1796\n",
            "Epoch 9/10\n",
            "16/16 [==============================] - 0s 999us/step - loss: 25.6288\n",
            "Epoch 10/10\n",
            "16/16 [==============================] - 0s 980us/step - loss: 25.8072\n"
          ],
          "name": "stdout"
        },
        {
          "output_type": "execute_result",
          "data": {
            "text/plain": [
              "<tensorflow.python.keras.callbacks.History at 0x7fdd28c65080>"
            ]
          },
          "metadata": {
            "tags": []
          },
          "execution_count": 11
        }
      ]
    },
    {
      "cell_type": "code",
      "metadata": {
        "id": "M3_SqGKynEnd",
        "colab_type": "code",
        "colab": {
          "base_uri": "https://localhost:8080/",
          "height": 107
        },
        "outputId": "b0dac23b-7171-4a44-935e-ac13d1fb1793"
      },
      "source": [
        "# 4. 모델을 이용합니다.\n",
        "model.predict(독립[5:10])"
      ],
      "execution_count": null,
      "outputs": [
        {
          "output_type": "execute_result",
          "data": {
            "text/plain": [
              "array([[25.8448  ],\n",
              "       [20.939053],\n",
              "       [17.858572],\n",
              "       [ 9.337376],\n",
              "       [17.39985 ]], dtype=float32)"
            ]
          },
          "metadata": {
            "tags": []
          },
          "execution_count": 15
        }
      ]
    },
    {
      "cell_type": "code",
      "metadata": {
        "id": "LYP1GpCsnsui",
        "colab_type": "code",
        "colab": {
          "base_uri": "https://localhost:8080/",
          "height": 204
        },
        "outputId": "f68b9eff-f9a1-4794-d47a-cf16f2496ea0"
      },
      "source": [
        "종속[5:10]"
      ],
      "execution_count": null,
      "outputs": [
        {
          "output_type": "execute_result",
          "data": {
            "text/html": [
              "<div>\n",
              "<style scoped>\n",
              "    .dataframe tbody tr th:only-of-type {\n",
              "        vertical-align: middle;\n",
              "    }\n",
              "\n",
              "    .dataframe tbody tr th {\n",
              "        vertical-align: top;\n",
              "    }\n",
              "\n",
              "    .dataframe thead th {\n",
              "        text-align: right;\n",
              "    }\n",
              "</style>\n",
              "<table border=\"1\" class=\"dataframe\">\n",
              "  <thead>\n",
              "    <tr style=\"text-align: right;\">\n",
              "      <th></th>\n",
              "      <th>medv</th>\n",
              "    </tr>\n",
              "  </thead>\n",
              "  <tbody>\n",
              "    <tr>\n",
              "      <th>5</th>\n",
              "      <td>28.7</td>\n",
              "    </tr>\n",
              "    <tr>\n",
              "      <th>6</th>\n",
              "      <td>22.9</td>\n",
              "    </tr>\n",
              "    <tr>\n",
              "      <th>7</th>\n",
              "      <td>27.1</td>\n",
              "    </tr>\n",
              "    <tr>\n",
              "      <th>8</th>\n",
              "      <td>16.5</td>\n",
              "    </tr>\n",
              "    <tr>\n",
              "      <th>9</th>\n",
              "      <td>18.9</td>\n",
              "    </tr>\n",
              "  </tbody>\n",
              "</table>\n",
              "</div>"
            ],
            "text/plain": [
              "   medv\n",
              "5  28.7\n",
              "6  22.9\n",
              "7  27.1\n",
              "8  16.5\n",
              "9  18.9"
            ]
          },
          "metadata": {
            "tags": []
          },
          "execution_count": 14
        }
      ]
    },
    {
      "cell_type": "code",
      "metadata": {
        "id": "gViF2oWTnwGR",
        "colab_type": "code",
        "colab": {
          "base_uri": "https://localhost:8080/",
          "height": 251
        },
        "outputId": "ee79a728-2454-4eb5-8c65-4a60d05bcf05"
      },
      "source": [
        "# 모델의 수식 확인\n",
        "print(model.get_weights())"
      ],
      "execution_count": null,
      "outputs": [
        {
          "output_type": "stream",
          "text": [
            "[array([[-0.08768073],\n",
            "       [ 0.06962469],\n",
            "       [-0.05136653],\n",
            "       [ 3.2962608 ],\n",
            "       [ 1.2856438 ],\n",
            "       [ 4.3567653 ],\n",
            "       [ 0.00879909],\n",
            "       [-0.9402961 ],\n",
            "       [ 0.15372771],\n",
            "       [-0.01027822],\n",
            "       [-0.07445979],\n",
            "       [ 0.01528562],\n",
            "       [-0.5484166 ]], dtype=float32), array([2.5861936], dtype=float32)]\n"
          ],
          "name": "stdout"
        }
      ]
    },
    {
      "cell_type": "markdown",
      "metadata": {
        "id": "mY637x3zpLC3",
        "colab_type": "text"
      },
      "source": [
        "# 학습의 실제 - 3일차 끝\n",
        "* https://www.opentutorials.org/module/4966/28977\n",
        "* 딥러닝 워크북에서 손으로 모델을 학습시켜 보며 딥러닝이 학습하는 원리를 배웁니다."
      ]
    },
    {
      "cell_type": "markdown",
      "metadata": {
        "id": "WDbPEVdBpZg-",
        "colab_type": "text"
      },
      "source": [
        "## 딥러닝 워크북 \n",
        "* https://bit.ly/2DEBlPd"
      ]
    },
    {
      "cell_type": "markdown",
      "metadata": {
        "id": "r8AzKm2gINMA",
        "colab_type": "text"
      },
      "source": [
        "# 세번째 딥러닝 - 아이리스 품종 분류 - 4일차 시작~끝\n",
        "* https://www.opentutorials.org/module/4966/28987\n"
      ]
    },
    {
      "cell_type": "markdown",
      "metadata": {
        "id": "QNyL2de1IUVq",
        "colab_type": "text"
      },
      "source": [
        "* Sepal : 꽃잎\n",
        "* Petal : 꽃받침\n",
        "* https://bit.ly/2DJ9TQJ\n",
        "* 종속변수는 품종으로 숫자가 아님. => 범주형"
      ]
    },
    {
      "cell_type": "markdown",
      "metadata": {
        "id": "9qPyw9hOLD4L",
        "colab_type": "text"
      },
      "source": [
        "* 양적 데이터 -> 회귀(regression)\n",
        "* 범주형 데이터 -> 분류(classification)"
      ]
    },
    {
      "cell_type": "markdown",
      "metadata": {
        "id": "mB5AOdxKLieI",
        "colab_type": "text"
      },
      "source": [
        "## 원핫인코딩\n",
        "* 종속변수 4개 : 꽃잎길이, 꽃잎퍽, 꽃받침길이, 꽃받침폭\n",
        "* 범주형변수 : 수식으로 변경하는 과정 필요\n",
        "\n"
      ]
    },
    {
      "cell_type": "markdown",
      "metadata": {
        "id": "-3TC-lVFL-GF",
        "colab_type": "text"
      },
      "source": [
        "|품종|=>|setosa|virginica|versicolor|\n",
        "|-|-|-|-|-|\n",
        "|setosa|=>|1|0|0|\n",
        "|virginica|->|0|1|0|\n",
        "|versicolor|->|0|0|1|\n",
        "|setosa|=>|1|0|0|\n",
        "|versicolor|->|0|0|1|"
      ]
    },
    {
      "cell_type": "markdown",
      "metadata": {
        "id": "KELxMUa_jq2l",
        "colab_type": "text"
      },
      "source": [
        "|꽃잎길이|꽃잎폭|꽃받침길이|꽃받침폭|품종|\n",
        "|-|-|-|-|-|\n",
        "|5.1|3.5|1.4|0.2|setosa|\n",
        "|4.9|3.0|1.4|0.2|virginica|\n",
        "|4.7|3.2|1.3|0.2|versicolor|\n",
        "|4.6|3.1|1.5|0.2|setosa|\n",
        "\n",
        "```python\n",
        "# 학습할 데이터를 준비합니다.\n",
        "아이리스 = pd.read_csv('iris.csv')\n",
        "```"
      ]
    },
    {
      "cell_type": "markdown",
      "metadata": {
        "id": "ssupiMgkkVS5",
        "colab_type": "text"
      },
      "source": [
        "|꽃잎길이|꽃잎폭|꽃받침길이|꽃받침폭|품종.setosa|품종.verginica|품종.versicolor|\n",
        "|-|-|-|-|-|-|-|\n",
        "|5.1|3.5|1.4|0.2|1|0|0|\n",
        "|4.9|3.0|1.4|0.2|0|1|0|\n",
        "|4.7|3.2|1.3|0.2|0|0|1|\n",
        "|4.6|3.1|1.5|0.2|1|0|0|\n",
        "\n",
        "```python\n",
        "# 원핫인코딩\n",
        "아이리스 = pd.get_dummies(아이리스)\n",
        "```"
      ]
    },
    {
      "cell_type": "markdown",
      "metadata": {
        "id": "OtTMXeE_ovMA",
        "colab_type": "text"
      },
      "source": [
        "```python\n",
        "# 2 모델의 구조를 만듭니다.\n",
        "X = tf.keras.layers.Input(shape=[4])\n",
        "Y = tf.keras.layers.Dense(3, activation='softmax')(X)\n",
        "model = tf.keras.models.Model(X, Y)\n",
        "model.compile(loss='categorical_crossentropy')\n",
        "```"
      ]
    },
    {
      "cell_type": "markdown",
      "metadata": {
        "id": "2i7YYN2Nqk6F",
        "colab_type": "text"
      },
      "source": [
        "## 소프트맥스\n",
        "* 분류 예측 \n",
        "* 0% ~ 100% 확률형태로 예측함.\n",
        "  - Sigmoid, Softmax"
      ]
    },
    {
      "cell_type": "markdown",
      "metadata": {
        "id": "LUvAl3RPrVPx",
        "colab_type": "text"
      },
      "source": [
        "* 선형모델의 예측값은 -무한대~무한대의 결과가 나옴.\n",
        "* 분류모델은 0~1 사이의 확률값을 원하기 때문에 Softmax를 사용.\n",
        "* 활성화(Actication) 함수\n",
        "  - 회귀모델: Identity(y=x)\n",
        "  - 분류모델: Softmax"
      ]
    },
    {
      "cell_type": "markdown",
      "metadata": {
        "id": "HplNh0gSz133",
        "colab_type": "text"
      },
      "source": [
        "* 문제에 따라 loss를 다른 함수를 사용해야 함.\n",
        "  - 분류 : categorical_crossentropy\n",
        "  - 회귀 : mse"
      ]
    },
    {
      "cell_type": "markdown",
      "metadata": {
        "id": "srzQPdFk0LWe",
        "colab_type": "text"
      },
      "source": [
        "```python\n",
        "model.compile(loss='categorical_crossentropy',\n",
        "  metrics='accuracy')\n",
        "```"
      ]
    },
    {
      "cell_type": "markdown",
      "metadata": {
        "id": "lc9lOY1e0W3V",
        "colab_type": "text"
      },
      "source": [
        "## 실습\n",
        "* github csv url: https://raw.githubusercontent.com/blackdew/tensorflow1/master/csv/iris.csv"
      ]
    },
    {
      "cell_type": "code",
      "metadata": {
        "id": "9A1ci6QVkUkt",
        "colab_type": "code",
        "colab": {}
      },
      "source": [
        "# 라이브러리 사용\n",
        "import tensorflow as tf\n",
        "import pandas as pd"
      ],
      "execution_count": null,
      "outputs": []
    },
    {
      "cell_type": "code",
      "metadata": {
        "id": "SLzhyohZoWRT",
        "colab_type": "code",
        "colab": {
          "base_uri": "https://localhost:8080/",
          "height": 204
        },
        "outputId": "4d3cff6f-3962-493b-a36c-79c80c6605d2"
      },
      "source": [
        "# 1. 과거의 데이터를 준비합니다.\n",
        "파일경로 = 'https://raw.githubusercontent.com/blackdew/tensorflow1/master/csv/iris.csv'\n",
        "아이리스 = pd.read_csv(파일경로)\n",
        "아이리스.head()"
      ],
      "execution_count": null,
      "outputs": [
        {
          "output_type": "execute_result",
          "data": {
            "text/html": [
              "<div>\n",
              "<style scoped>\n",
              "    .dataframe tbody tr th:only-of-type {\n",
              "        vertical-align: middle;\n",
              "    }\n",
              "\n",
              "    .dataframe tbody tr th {\n",
              "        vertical-align: top;\n",
              "    }\n",
              "\n",
              "    .dataframe thead th {\n",
              "        text-align: right;\n",
              "    }\n",
              "</style>\n",
              "<table border=\"1\" class=\"dataframe\">\n",
              "  <thead>\n",
              "    <tr style=\"text-align: right;\">\n",
              "      <th></th>\n",
              "      <th>꽃잎길이</th>\n",
              "      <th>꽃잎폭</th>\n",
              "      <th>꽃받침길이</th>\n",
              "      <th>꽃받침폭</th>\n",
              "      <th>품종</th>\n",
              "    </tr>\n",
              "  </thead>\n",
              "  <tbody>\n",
              "    <tr>\n",
              "      <th>0</th>\n",
              "      <td>5.1</td>\n",
              "      <td>3.5</td>\n",
              "      <td>1.4</td>\n",
              "      <td>0.2</td>\n",
              "      <td>setosa</td>\n",
              "    </tr>\n",
              "    <tr>\n",
              "      <th>1</th>\n",
              "      <td>4.9</td>\n",
              "      <td>3.0</td>\n",
              "      <td>1.4</td>\n",
              "      <td>0.2</td>\n",
              "      <td>setosa</td>\n",
              "    </tr>\n",
              "    <tr>\n",
              "      <th>2</th>\n",
              "      <td>4.7</td>\n",
              "      <td>3.2</td>\n",
              "      <td>1.3</td>\n",
              "      <td>0.2</td>\n",
              "      <td>setosa</td>\n",
              "    </tr>\n",
              "    <tr>\n",
              "      <th>3</th>\n",
              "      <td>4.6</td>\n",
              "      <td>3.1</td>\n",
              "      <td>1.5</td>\n",
              "      <td>0.2</td>\n",
              "      <td>setosa</td>\n",
              "    </tr>\n",
              "    <tr>\n",
              "      <th>4</th>\n",
              "      <td>5.0</td>\n",
              "      <td>3.6</td>\n",
              "      <td>1.4</td>\n",
              "      <td>0.2</td>\n",
              "      <td>setosa</td>\n",
              "    </tr>\n",
              "  </tbody>\n",
              "</table>\n",
              "</div>"
            ],
            "text/plain": [
              "   꽃잎길이  꽃잎폭  꽃받침길이  꽃받침폭      품종\n",
              "0   5.1  3.5    1.4   0.2  setosa\n",
              "1   4.9  3.0    1.4   0.2  setosa\n",
              "2   4.7  3.2    1.3   0.2  setosa\n",
              "3   4.6  3.1    1.5   0.2  setosa\n",
              "4   5.0  3.6    1.4   0.2  setosa"
            ]
          },
          "metadata": {
            "tags": []
          },
          "execution_count": 3
        }
      ]
    },
    {
      "cell_type": "code",
      "metadata": {
        "id": "noGCSFrd4TQ_",
        "colab_type": "code",
        "colab": {
          "base_uri": "https://localhost:8080/",
          "height": 204
        },
        "outputId": "3c3553e9-dbc2-46ea-c1eb-eafa77ba6d4b"
      },
      "source": [
        "# 원핫인코딩\n",
        "인코딩 = pd.get_dummies(아이리스)\n",
        "인코딩.head()"
      ],
      "execution_count": null,
      "outputs": [
        {
          "output_type": "execute_result",
          "data": {
            "text/html": [
              "<div>\n",
              "<style scoped>\n",
              "    .dataframe tbody tr th:only-of-type {\n",
              "        vertical-align: middle;\n",
              "    }\n",
              "\n",
              "    .dataframe tbody tr th {\n",
              "        vertical-align: top;\n",
              "    }\n",
              "\n",
              "    .dataframe thead th {\n",
              "        text-align: right;\n",
              "    }\n",
              "</style>\n",
              "<table border=\"1\" class=\"dataframe\">\n",
              "  <thead>\n",
              "    <tr style=\"text-align: right;\">\n",
              "      <th></th>\n",
              "      <th>꽃잎길이</th>\n",
              "      <th>꽃잎폭</th>\n",
              "      <th>꽃받침길이</th>\n",
              "      <th>꽃받침폭</th>\n",
              "      <th>품종_setosa</th>\n",
              "      <th>품종_versicolor</th>\n",
              "      <th>품종_virginica</th>\n",
              "    </tr>\n",
              "  </thead>\n",
              "  <tbody>\n",
              "    <tr>\n",
              "      <th>0</th>\n",
              "      <td>5.1</td>\n",
              "      <td>3.5</td>\n",
              "      <td>1.4</td>\n",
              "      <td>0.2</td>\n",
              "      <td>1</td>\n",
              "      <td>0</td>\n",
              "      <td>0</td>\n",
              "    </tr>\n",
              "    <tr>\n",
              "      <th>1</th>\n",
              "      <td>4.9</td>\n",
              "      <td>3.0</td>\n",
              "      <td>1.4</td>\n",
              "      <td>0.2</td>\n",
              "      <td>1</td>\n",
              "      <td>0</td>\n",
              "      <td>0</td>\n",
              "    </tr>\n",
              "    <tr>\n",
              "      <th>2</th>\n",
              "      <td>4.7</td>\n",
              "      <td>3.2</td>\n",
              "      <td>1.3</td>\n",
              "      <td>0.2</td>\n",
              "      <td>1</td>\n",
              "      <td>0</td>\n",
              "      <td>0</td>\n",
              "    </tr>\n",
              "    <tr>\n",
              "      <th>3</th>\n",
              "      <td>4.6</td>\n",
              "      <td>3.1</td>\n",
              "      <td>1.5</td>\n",
              "      <td>0.2</td>\n",
              "      <td>1</td>\n",
              "      <td>0</td>\n",
              "      <td>0</td>\n",
              "    </tr>\n",
              "    <tr>\n",
              "      <th>4</th>\n",
              "      <td>5.0</td>\n",
              "      <td>3.6</td>\n",
              "      <td>1.4</td>\n",
              "      <td>0.2</td>\n",
              "      <td>1</td>\n",
              "      <td>0</td>\n",
              "      <td>0</td>\n",
              "    </tr>\n",
              "  </tbody>\n",
              "</table>\n",
              "</div>"
            ],
            "text/plain": [
              "   꽃잎길이  꽃잎폭  꽃받침길이  꽃받침폭  품종_setosa  품종_versicolor  품종_virginica\n",
              "0   5.1  3.5    1.4   0.2          1              0             0\n",
              "1   4.9  3.0    1.4   0.2          1              0             0\n",
              "2   4.7  3.2    1.3   0.2          1              0             0\n",
              "3   4.6  3.1    1.5   0.2          1              0             0\n",
              "4   5.0  3.6    1.4   0.2          1              0             0"
            ]
          },
          "metadata": {
            "tags": []
          },
          "execution_count": 4
        }
      ]
    },
    {
      "cell_type": "code",
      "metadata": {
        "id": "mbbUNhFS4jdD",
        "colab_type": "code",
        "colab": {
          "base_uri": "https://localhost:8080/",
          "height": 71
        },
        "outputId": "2b1e7162-5df4-48ad-bdfc-4d6e73841595"
      },
      "source": [
        "print(인코딩.columns)"
      ],
      "execution_count": null,
      "outputs": [
        {
          "output_type": "stream",
          "text": [
            "Index(['꽃잎길이', '꽃잎폭', '꽃받침길이', '꽃받침폭', '품종_setosa', '품종_versicolor',\n",
            "       '품종_virginica'],\n",
            "      dtype='object')\n"
          ],
          "name": "stdout"
        }
      ]
    },
    {
      "cell_type": "code",
      "metadata": {
        "id": "GksKwmoa4cEk",
        "colab_type": "code",
        "colab": {
          "base_uri": "https://localhost:8080/",
          "height": 35
        },
        "outputId": "6e60af74-74b2-4597-fcff-7f8f48f885e3"
      },
      "source": [
        "# 독립변수, 종속변수\n",
        "독립 = 인코딩[['꽃잎길이', '꽃잎폭', '꽃받침길이', '꽃받침폭']]\n",
        "종속 = 인코딩[['품종_setosa', '품종_versicolor', '품종_virginica']]\n",
        "print(독립.shape, 종속.shape)"
      ],
      "execution_count": null,
      "outputs": [
        {
          "output_type": "stream",
          "text": [
            "(150, 4) (150, 3)\n"
          ],
          "name": "stdout"
        }
      ]
    },
    {
      "cell_type": "code",
      "metadata": {
        "id": "X0MGqMAf4twv",
        "colab_type": "code",
        "colab": {}
      },
      "source": [
        "# 2. 모델의 구조를 만듭니다\n",
        "X = tf.keras.layers.Input(shape=[4])\n",
        "Y = tf.keras.layers.Dense(3, activation='softmax')(X)\n",
        "model = tf.keras.models.Model(X, Y)\n",
        "model.compile(loss='categorical_crossentropy',\n",
        "              metrics='accuracy')"
      ],
      "execution_count": null,
      "outputs": []
    },
    {
      "cell_type": "code",
      "metadata": {
        "id": "5sar6eLN5GIQ",
        "colab_type": "code",
        "colab": {
          "base_uri": "https://localhost:8080/",
          "height": 1000
        },
        "outputId": "f8795813-e16b-4533-c31f-39363625486f"
      },
      "source": [
        "# 3. 데이터로 모델을 학습(FIT) 합니다.\n",
        "model.fit(독립, 종속, epochs=100)"
      ],
      "execution_count": null,
      "outputs": [
        {
          "output_type": "stream",
          "text": [
            "Epoch 1/100\n",
            "5/5 [==============================] - 0s 2ms/step - loss: 0.3377 - accuracy: 0.9333\n",
            "Epoch 2/100\n",
            "5/5 [==============================] - 0s 1ms/step - loss: 0.3367 - accuracy: 0.9333\n",
            "Epoch 3/100\n",
            "5/5 [==============================] - 0s 1ms/step - loss: 0.3362 - accuracy: 0.9333\n",
            "Epoch 4/100\n",
            "5/5 [==============================] - 0s 2ms/step - loss: 0.3370 - accuracy: 0.9267\n",
            "Epoch 5/100\n",
            "5/5 [==============================] - 0s 2ms/step - loss: 0.3359 - accuracy: 0.9333\n",
            "Epoch 6/100\n",
            "5/5 [==============================] - 0s 2ms/step - loss: 0.3346 - accuracy: 0.9400\n",
            "Epoch 7/100\n",
            "5/5 [==============================] - 0s 1ms/step - loss: 0.3346 - accuracy: 0.9333\n",
            "Epoch 8/100\n",
            "5/5 [==============================] - 0s 1ms/step - loss: 0.3337 - accuracy: 0.9333\n",
            "Epoch 9/100\n",
            "5/5 [==============================] - 0s 1ms/step - loss: 0.3372 - accuracy: 0.9400\n",
            "Epoch 10/100\n",
            "5/5 [==============================] - 0s 2ms/step - loss: 0.3330 - accuracy: 0.9400\n",
            "Epoch 11/100\n",
            "5/5 [==============================] - 0s 1ms/step - loss: 0.3323 - accuracy: 0.9400\n",
            "Epoch 12/100\n",
            "5/5 [==============================] - 0s 1ms/step - loss: 0.3325 - accuracy: 0.9333\n",
            "Epoch 13/100\n",
            "5/5 [==============================] - 0s 2ms/step - loss: 0.3326 - accuracy: 0.9467\n",
            "Epoch 14/100\n",
            "5/5 [==============================] - 0s 1ms/step - loss: 0.3310 - accuracy: 0.9400\n",
            "Epoch 15/100\n",
            "5/5 [==============================] - 0s 1ms/step - loss: 0.3305 - accuracy: 0.9400\n",
            "Epoch 16/100\n",
            "5/5 [==============================] - 0s 1ms/step - loss: 0.3305 - accuracy: 0.9333\n",
            "Epoch 17/100\n",
            "5/5 [==============================] - 0s 2ms/step - loss: 0.3298 - accuracy: 0.9333\n",
            "Epoch 18/100\n",
            "5/5 [==============================] - 0s 1ms/step - loss: 0.3301 - accuracy: 0.9333\n",
            "Epoch 19/100\n",
            "5/5 [==============================] - 0s 1ms/step - loss: 0.3291 - accuracy: 0.9333\n",
            "Epoch 20/100\n",
            "5/5 [==============================] - 0s 1ms/step - loss: 0.3286 - accuracy: 0.9533\n",
            "Epoch 21/100\n",
            "5/5 [==============================] - 0s 2ms/step - loss: 0.3276 - accuracy: 0.9400\n",
            "Epoch 22/100\n",
            "5/5 [==============================] - 0s 1ms/step - loss: 0.3273 - accuracy: 0.9467\n",
            "Epoch 23/100\n",
            "5/5 [==============================] - 0s 1ms/step - loss: 0.3274 - accuracy: 0.9400\n",
            "Epoch 24/100\n",
            "5/5 [==============================] - 0s 1ms/step - loss: 0.3260 - accuracy: 0.9467\n",
            "Epoch 25/100\n",
            "5/5 [==============================] - 0s 2ms/step - loss: 0.3256 - accuracy: 0.9400\n",
            "Epoch 26/100\n",
            "5/5 [==============================] - 0s 1ms/step - loss: 0.3260 - accuracy: 0.9400\n",
            "Epoch 27/100\n",
            "5/5 [==============================] - 0s 1ms/step - loss: 0.3247 - accuracy: 0.9400\n",
            "Epoch 28/100\n",
            "5/5 [==============================] - 0s 1ms/step - loss: 0.3242 - accuracy: 0.9533\n",
            "Epoch 29/100\n",
            "5/5 [==============================] - 0s 2ms/step - loss: 0.3237 - accuracy: 0.9467\n",
            "Epoch 30/100\n",
            "5/5 [==============================] - 0s 1ms/step - loss: 0.3229 - accuracy: 0.9467\n",
            "Epoch 31/100\n",
            "5/5 [==============================] - 0s 2ms/step - loss: 0.3233 - accuracy: 0.9533\n",
            "Epoch 32/100\n",
            "5/5 [==============================] - 0s 1ms/step - loss: 0.3227 - accuracy: 0.9467\n",
            "Epoch 33/100\n",
            "5/5 [==============================] - 0s 2ms/step - loss: 0.3221 - accuracy: 0.9467\n",
            "Epoch 34/100\n",
            "5/5 [==============================] - 0s 1ms/step - loss: 0.3210 - accuracy: 0.9467\n",
            "Epoch 35/100\n",
            "5/5 [==============================] - 0s 1ms/step - loss: 0.3203 - accuracy: 0.9533\n",
            "Epoch 36/100\n",
            "5/5 [==============================] - 0s 2ms/step - loss: 0.3206 - accuracy: 0.9467\n",
            "Epoch 37/100\n",
            "5/5 [==============================] - 0s 1ms/step - loss: 0.3205 - accuracy: 0.9467\n",
            "Epoch 38/100\n",
            "5/5 [==============================] - 0s 2ms/step - loss: 0.3190 - accuracy: 0.9533\n",
            "Epoch 39/100\n",
            "5/5 [==============================] - 0s 2ms/step - loss: 0.3186 - accuracy: 0.9533\n",
            "Epoch 40/100\n",
            "5/5 [==============================] - 0s 2ms/step - loss: 0.3178 - accuracy: 0.9467\n",
            "Epoch 41/100\n",
            "5/5 [==============================] - 0s 2ms/step - loss: 0.3179 - accuracy: 0.9600\n",
            "Epoch 42/100\n",
            "5/5 [==============================] - 0s 2ms/step - loss: 0.3176 - accuracy: 0.9533\n",
            "Epoch 43/100\n",
            "5/5 [==============================] - 0s 2ms/step - loss: 0.3168 - accuracy: 0.9600\n",
            "Epoch 44/100\n",
            "5/5 [==============================] - 0s 1ms/step - loss: 0.3161 - accuracy: 0.9533\n",
            "Epoch 45/100\n",
            "5/5 [==============================] - 0s 2ms/step - loss: 0.3165 - accuracy: 0.9467\n",
            "Epoch 46/100\n",
            "5/5 [==============================] - 0s 1ms/step - loss: 0.3152 - accuracy: 0.9533\n",
            "Epoch 47/100\n",
            "5/5 [==============================] - 0s 1ms/step - loss: 0.3150 - accuracy: 0.9533\n",
            "Epoch 48/100\n",
            "5/5 [==============================] - 0s 1ms/step - loss: 0.3146 - accuracy: 0.9533\n",
            "Epoch 49/100\n",
            "5/5 [==============================] - 0s 1ms/step - loss: 0.3136 - accuracy: 0.9533\n",
            "Epoch 50/100\n",
            "5/5 [==============================] - 0s 2ms/step - loss: 0.3134 - accuracy: 0.9600\n",
            "Epoch 51/100\n",
            "5/5 [==============================] - 0s 1ms/step - loss: 0.3128 - accuracy: 0.9533\n",
            "Epoch 52/100\n",
            "5/5 [==============================] - 0s 1ms/step - loss: 0.3120 - accuracy: 0.9600\n",
            "Epoch 53/100\n",
            "5/5 [==============================] - 0s 1ms/step - loss: 0.3123 - accuracy: 0.9600\n",
            "Epoch 54/100\n",
            "5/5 [==============================] - 0s 1ms/step - loss: 0.3114 - accuracy: 0.9667\n",
            "Epoch 55/100\n",
            "5/5 [==============================] - 0s 1ms/step - loss: 0.3108 - accuracy: 0.9533\n",
            "Epoch 56/100\n",
            "5/5 [==============================] - 0s 2ms/step - loss: 0.3102 - accuracy: 0.9533\n",
            "Epoch 57/100\n",
            "5/5 [==============================] - 0s 2ms/step - loss: 0.3101 - accuracy: 0.9667\n",
            "Epoch 58/100\n",
            "5/5 [==============================] - 0s 2ms/step - loss: 0.3094 - accuracy: 0.9533\n",
            "Epoch 59/100\n",
            "5/5 [==============================] - 0s 2ms/step - loss: 0.3085 - accuracy: 0.9667\n",
            "Epoch 60/100\n",
            "5/5 [==============================] - 0s 1ms/step - loss: 0.3077 - accuracy: 0.9600\n",
            "Epoch 61/100\n",
            "5/5 [==============================] - 0s 1ms/step - loss: 0.3074 - accuracy: 0.9600\n",
            "Epoch 62/100\n",
            "5/5 [==============================] - 0s 1ms/step - loss: 0.3067 - accuracy: 0.9600\n",
            "Epoch 63/100\n",
            "5/5 [==============================] - 0s 1ms/step - loss: 0.3060 - accuracy: 0.9600\n",
            "Epoch 64/100\n",
            "5/5 [==============================] - 0s 2ms/step - loss: 0.3066 - accuracy: 0.9600\n",
            "Epoch 65/100\n",
            "5/5 [==============================] - 0s 2ms/step - loss: 0.3054 - accuracy: 0.9667\n",
            "Epoch 66/100\n",
            "5/5 [==============================] - 0s 2ms/step - loss: 0.3055 - accuracy: 0.9600\n",
            "Epoch 67/100\n",
            "5/5 [==============================] - 0s 1ms/step - loss: 0.3039 - accuracy: 0.9667\n",
            "Epoch 68/100\n",
            "5/5 [==============================] - 0s 1ms/step - loss: 0.3035 - accuracy: 0.9667\n",
            "Epoch 69/100\n",
            "5/5 [==============================] - 0s 2ms/step - loss: 0.3043 - accuracy: 0.9600\n",
            "Epoch 70/100\n",
            "5/5 [==============================] - 0s 2ms/step - loss: 0.3043 - accuracy: 0.9533\n",
            "Epoch 71/100\n",
            "5/5 [==============================] - 0s 2ms/step - loss: 0.3029 - accuracy: 0.9667\n",
            "Epoch 72/100\n",
            "5/5 [==============================] - 0s 2ms/step - loss: 0.3031 - accuracy: 0.9600\n",
            "Epoch 73/100\n",
            "5/5 [==============================] - 0s 1ms/step - loss: 0.3018 - accuracy: 0.9667\n",
            "Epoch 74/100\n",
            "5/5 [==============================] - 0s 1ms/step - loss: 0.3014 - accuracy: 0.9600\n",
            "Epoch 75/100\n",
            "5/5 [==============================] - 0s 1ms/step - loss: 0.3009 - accuracy: 0.9667\n",
            "Epoch 76/100\n",
            "5/5 [==============================] - 0s 2ms/step - loss: 0.3009 - accuracy: 0.9600\n",
            "Epoch 77/100\n",
            "5/5 [==============================] - 0s 2ms/step - loss: 0.3001 - accuracy: 0.9667\n",
            "Epoch 78/100\n",
            "5/5 [==============================] - 0s 1ms/step - loss: 0.2996 - accuracy: 0.9600\n",
            "Epoch 79/100\n",
            "5/5 [==============================] - 0s 1ms/step - loss: 0.2988 - accuracy: 0.9667\n",
            "Epoch 80/100\n",
            "5/5 [==============================] - 0s 1ms/step - loss: 0.2994 - accuracy: 0.9600\n",
            "Epoch 81/100\n",
            "5/5 [==============================] - 0s 1ms/step - loss: 0.2979 - accuracy: 0.9600\n",
            "Epoch 82/100\n",
            "5/5 [==============================] - 0s 2ms/step - loss: 0.2972 - accuracy: 0.9667\n",
            "Epoch 83/100\n",
            "5/5 [==============================] - 0s 2ms/step - loss: 0.2973 - accuracy: 0.9600\n",
            "Epoch 84/100\n",
            "5/5 [==============================] - 0s 2ms/step - loss: 0.2965 - accuracy: 0.9600\n",
            "Epoch 85/100\n",
            "5/5 [==============================] - 0s 2ms/step - loss: 0.2969 - accuracy: 0.9600\n",
            "Epoch 86/100\n",
            "5/5 [==============================] - 0s 2ms/step - loss: 0.2953 - accuracy: 0.9667\n",
            "Epoch 87/100\n",
            "5/5 [==============================] - 0s 1ms/step - loss: 0.2951 - accuracy: 0.9600\n",
            "Epoch 88/100\n",
            "5/5 [==============================] - 0s 3ms/step - loss: 0.2950 - accuracy: 0.9667\n",
            "Epoch 89/100\n",
            "5/5 [==============================] - 0s 1ms/step - loss: 0.2949 - accuracy: 0.9667\n",
            "Epoch 90/100\n",
            "5/5 [==============================] - 0s 1ms/step - loss: 0.2939 - accuracy: 0.9667\n",
            "Epoch 91/100\n",
            "5/5 [==============================] - 0s 1ms/step - loss: 0.2930 - accuracy: 0.9667\n",
            "Epoch 92/100\n",
            "5/5 [==============================] - 0s 1ms/step - loss: 0.2932 - accuracy: 0.9667\n",
            "Epoch 93/100\n",
            "5/5 [==============================] - 0s 2ms/step - loss: 0.2921 - accuracy: 0.9667\n",
            "Epoch 94/100\n",
            "5/5 [==============================] - 0s 1ms/step - loss: 0.2917 - accuracy: 0.9667\n",
            "Epoch 95/100\n",
            "5/5 [==============================] - 0s 2ms/step - loss: 0.2916 - accuracy: 0.9600\n",
            "Epoch 96/100\n",
            "5/5 [==============================] - 0s 1ms/step - loss: 0.2921 - accuracy: 0.9667\n",
            "Epoch 97/100\n",
            "5/5 [==============================] - 0s 1ms/step - loss: 0.2906 - accuracy: 0.9600\n",
            "Epoch 98/100\n",
            "5/5 [==============================] - 0s 2ms/step - loss: 0.2911 - accuracy: 0.9600\n",
            "Epoch 99/100\n",
            "5/5 [==============================] - 0s 1ms/step - loss: 0.2901 - accuracy: 0.9667\n",
            "Epoch 100/100\n",
            "5/5 [==============================] - 0s 1ms/step - loss: 0.2893 - accuracy: 0.9667\n"
          ],
          "name": "stdout"
        },
        {
          "output_type": "execute_result",
          "data": {
            "text/plain": [
              "<tensorflow.python.keras.callbacks.History at 0x7fad238c6da0>"
            ]
          },
          "metadata": {
            "tags": []
          },
          "execution_count": 16
        }
      ]
    },
    {
      "cell_type": "code",
      "metadata": {
        "id": "zs3I87cb6Sal",
        "colab_type": "code",
        "colab": {
          "base_uri": "https://localhost:8080/",
          "height": 107
        },
        "outputId": "b3fdfe26-5a13-4b4f-a6c6-a62af63bfb34"
      },
      "source": [
        "# 모델을 이용합니다.\n",
        "model.predict(독립[-5:])"
      ],
      "execution_count": null,
      "outputs": [
        {
          "output_type": "execute_result",
          "data": {
            "text/plain": [
              "array([[2.6050227e-04, 2.3318745e-01, 7.6655203e-01],\n",
              "       [2.6636507e-04, 2.2753285e-01, 7.7220082e-01],\n",
              "       [4.5437628e-04, 3.3855778e-01, 6.6098785e-01],\n",
              "       [3.0129604e-04, 3.7279987e-01, 6.2689883e-01],\n",
              "       [6.5591553e-04, 4.5180890e-01, 5.4753518e-01]], dtype=float32)"
            ]
          },
          "metadata": {
            "tags": []
          },
          "execution_count": 18
        }
      ]
    },
    {
      "cell_type": "code",
      "metadata": {
        "id": "6Fqx9ROJ6sCD",
        "colab_type": "code",
        "colab": {
          "base_uri": "https://localhost:8080/",
          "height": 125
        },
        "outputId": "dcb81025-2663-4019-d231-e57ed68cc422"
      },
      "source": [
        "print(종속[-5:])"
      ],
      "execution_count": null,
      "outputs": [
        {
          "output_type": "stream",
          "text": [
            "     품종_setosa  품종_versicolor  품종_virginica\n",
            "145          0              0             1\n",
            "146          0              0             1\n",
            "147          0              0             1\n",
            "148          0              0             1\n",
            "149          0              0             1\n"
          ],
          "name": "stdout"
        }
      ]
    },
    {
      "cell_type": "code",
      "metadata": {
        "id": "0qwyIwe_64B_",
        "colab_type": "code",
        "colab": {
          "base_uri": "https://localhost:8080/",
          "height": 107
        },
        "outputId": "1ea03469-560a-4071-c57f-ab1f8b661a7e"
      },
      "source": [
        "# 학습한 가중치\n",
        "model.get_weights()"
      ],
      "execution_count": null,
      "outputs": [
        {
          "output_type": "execute_result",
          "data": {
            "text/plain": [
              "[array([[ 0.27260154, -0.3569841 , -0.179428  ],\n",
              "        [ 1.7485045 ,  0.5206071 , -1.1665763 ],\n",
              "        [-2.1834552 ,  0.31695825,  0.78363377],\n",
              "        [-2.552425  , -1.5211626 ,  0.09719723]], dtype=float32),\n",
              " array([ 1.011406  ,  0.33625552, -0.75070065], dtype=float32)]"
            ]
          },
          "metadata": {
            "tags": []
          },
          "execution_count": 21
        }
      ]
    },
    {
      "cell_type": "markdown",
      "metadata": {
        "id": "CdO_dRDW3Yd9",
        "colab_type": "text"
      },
      "source": [
        "# 네번째 딥러닝 - 신경망의 완성:히든레이어 - 5일차 시작\n",
        "* https://opentutorials.org/module/4966/28988\n",
        "* 히든레이어와 멀티레이어의 구조를 이해하고, 히든레이어를 추가한 멀티레이어 인공신경망 모델을 완성해 봅니다. "
      ]
    },
    {
      "cell_type": "markdown",
      "metadata": {
        "id": "xE0z404-3hqC",
        "colab_type": "text"
      },
      "source": [
        "## 멀티레이어 신경망\n",
        "![](https://s3-ap-northeast-2.amazonaws.com/opentutorials-user-file/module/4992/12388.png)"
      ]
    },
    {
      "cell_type": "markdown",
      "metadata": {
        "id": "5dyrIxgW4BXF",
        "colab_type": "text"
      },
      "source": [
        "* 딥러닝 모델 구조 코드\n",
        "```python\n",
        "# 2. 모델의 구조를 만듭니다.\n",
        "X = tf.keras.layers.Input(shape=[13])\n",
        "H = tf.keras.layers.Dense(5, activation='swish')(X)\n",
        "H = tf.keras.layers.Dense(3, activation='swish')(H) # 이렇게 계층 추가 가능.\n",
        "H = tf.keras.layers.Dense(3, activation='swish')(H) # 이렇게 계층 추가 가능.\n",
        "Y = tf.keras.layers.Dense(1)(H)\n",
        "model = tf.keras.models.Model(X, Y)\n",
        "model.compile(loss='mse')\n",
        "```\n",
        "\n",
        "* 활성화 함수 \n",
        "  - 최근 발표로 swish가 좋다고 함."
      ]
    },
    {
      "cell_type": "markdown",
      "metadata": {
        "id": "Nd4Ogc625AZs",
        "colab_type": "text"
      },
      "source": [
        "## 히든레이어\n",
        "* 보스턴 집값 예측: https://raw.githubusercontent.com/blackdew/tensorflow1/master/csv/boston.csv"
      ]
    },
    {
      "cell_type": "code",
      "metadata": {
        "id": "6LuDFm9q7BB6",
        "colab_type": "code",
        "colab": {}
      },
      "source": [
        "# 라이브러리 사용\n",
        "import tensorflow as tf\n",
        "import pandas as pd"
      ],
      "execution_count": null,
      "outputs": []
    },
    {
      "cell_type": "code",
      "metadata": {
        "id": "xX9OTdGX6DhK",
        "colab_type": "code",
        "colab": {
          "base_uri": "https://localhost:8080/",
          "height": 258
        },
        "outputId": "d77469b8-e2e8-4099-a395-be11a5108f20"
      },
      "source": [
        "파일경로 = \"https://raw.githubusercontent.com/blackdew/tensorflow1/master/csv/boston.csv\"\n",
        "보스턴 = pd.read_csv(파일경로)\n",
        "print(보스턴.columns)\n",
        "보스턴.head()"
      ],
      "execution_count": null,
      "outputs": [
        {
          "output_type": "stream",
          "text": [
            "Index(['crim', 'zn', 'indus', 'chas', 'nox', 'rm', 'age', 'dis', 'rad', 'tax',\n",
            "       'ptratio', 'b', 'lstat', 'medv'],\n",
            "      dtype='object')\n"
          ],
          "name": "stdout"
        },
        {
          "output_type": "execute_result",
          "data": {
            "text/html": [
              "<div>\n",
              "<style scoped>\n",
              "    .dataframe tbody tr th:only-of-type {\n",
              "        vertical-align: middle;\n",
              "    }\n",
              "\n",
              "    .dataframe tbody tr th {\n",
              "        vertical-align: top;\n",
              "    }\n",
              "\n",
              "    .dataframe thead th {\n",
              "        text-align: right;\n",
              "    }\n",
              "</style>\n",
              "<table border=\"1\" class=\"dataframe\">\n",
              "  <thead>\n",
              "    <tr style=\"text-align: right;\">\n",
              "      <th></th>\n",
              "      <th>crim</th>\n",
              "      <th>zn</th>\n",
              "      <th>indus</th>\n",
              "      <th>chas</th>\n",
              "      <th>nox</th>\n",
              "      <th>rm</th>\n",
              "      <th>age</th>\n",
              "      <th>dis</th>\n",
              "      <th>rad</th>\n",
              "      <th>tax</th>\n",
              "      <th>ptratio</th>\n",
              "      <th>b</th>\n",
              "      <th>lstat</th>\n",
              "      <th>medv</th>\n",
              "    </tr>\n",
              "  </thead>\n",
              "  <tbody>\n",
              "    <tr>\n",
              "      <th>0</th>\n",
              "      <td>0.00632</td>\n",
              "      <td>18.0</td>\n",
              "      <td>2.31</td>\n",
              "      <td>0</td>\n",
              "      <td>0.538</td>\n",
              "      <td>6.575</td>\n",
              "      <td>65.2</td>\n",
              "      <td>4.0900</td>\n",
              "      <td>1</td>\n",
              "      <td>296</td>\n",
              "      <td>15.3</td>\n",
              "      <td>396.90</td>\n",
              "      <td>4.98</td>\n",
              "      <td>24.0</td>\n",
              "    </tr>\n",
              "    <tr>\n",
              "      <th>1</th>\n",
              "      <td>0.02731</td>\n",
              "      <td>0.0</td>\n",
              "      <td>7.07</td>\n",
              "      <td>0</td>\n",
              "      <td>0.469</td>\n",
              "      <td>6.421</td>\n",
              "      <td>78.9</td>\n",
              "      <td>4.9671</td>\n",
              "      <td>2</td>\n",
              "      <td>242</td>\n",
              "      <td>17.8</td>\n",
              "      <td>396.90</td>\n",
              "      <td>9.14</td>\n",
              "      <td>21.6</td>\n",
              "    </tr>\n",
              "    <tr>\n",
              "      <th>2</th>\n",
              "      <td>0.02729</td>\n",
              "      <td>0.0</td>\n",
              "      <td>7.07</td>\n",
              "      <td>0</td>\n",
              "      <td>0.469</td>\n",
              "      <td>7.185</td>\n",
              "      <td>61.1</td>\n",
              "      <td>4.9671</td>\n",
              "      <td>2</td>\n",
              "      <td>242</td>\n",
              "      <td>17.8</td>\n",
              "      <td>392.83</td>\n",
              "      <td>4.03</td>\n",
              "      <td>34.7</td>\n",
              "    </tr>\n",
              "    <tr>\n",
              "      <th>3</th>\n",
              "      <td>0.03237</td>\n",
              "      <td>0.0</td>\n",
              "      <td>2.18</td>\n",
              "      <td>0</td>\n",
              "      <td>0.458</td>\n",
              "      <td>6.998</td>\n",
              "      <td>45.8</td>\n",
              "      <td>6.0622</td>\n",
              "      <td>3</td>\n",
              "      <td>222</td>\n",
              "      <td>18.7</td>\n",
              "      <td>394.63</td>\n",
              "      <td>2.94</td>\n",
              "      <td>33.4</td>\n",
              "    </tr>\n",
              "    <tr>\n",
              "      <th>4</th>\n",
              "      <td>0.06905</td>\n",
              "      <td>0.0</td>\n",
              "      <td>2.18</td>\n",
              "      <td>0</td>\n",
              "      <td>0.458</td>\n",
              "      <td>7.147</td>\n",
              "      <td>54.2</td>\n",
              "      <td>6.0622</td>\n",
              "      <td>3</td>\n",
              "      <td>222</td>\n",
              "      <td>18.7</td>\n",
              "      <td>396.90</td>\n",
              "      <td>5.33</td>\n",
              "      <td>36.2</td>\n",
              "    </tr>\n",
              "  </tbody>\n",
              "</table>\n",
              "</div>"
            ],
            "text/plain": [
              "      crim    zn  indus  chas    nox  ...  tax  ptratio       b  lstat  medv\n",
              "0  0.00632  18.0   2.31     0  0.538  ...  296     15.3  396.90   4.98  24.0\n",
              "1  0.02731   0.0   7.07     0  0.469  ...  242     17.8  396.90   9.14  21.6\n",
              "2  0.02729   0.0   7.07     0  0.469  ...  242     17.8  392.83   4.03  34.7\n",
              "3  0.03237   0.0   2.18     0  0.458  ...  222     18.7  394.63   2.94  33.4\n",
              "4  0.06905   0.0   2.18     0  0.458  ...  222     18.7  396.90   5.33  36.2\n",
              "\n",
              "[5 rows x 14 columns]"
            ]
          },
          "metadata": {
            "tags": []
          },
          "execution_count": 2
        }
      ]
    },
    {
      "cell_type": "code",
      "metadata": {
        "id": "iredhp7X6HGU",
        "colab_type": "code",
        "colab": {
          "base_uri": "https://localhost:8080/",
          "height": 36
        },
        "outputId": "de4883eb-36ac-496b-a53b-2a0b39e34557"
      },
      "source": [
        "# 독립변수, 종속변수 분리\n",
        "독립 = 보스턴[['crim', 'zn', 'indus', 'chas', 'nox', 'rm', 'age', 'dis', 'rad', 'tax',\n",
        "       'ptratio', 'b', 'lstat']]\n",
        "종속 = 보스턴[['medv']]\n",
        "print(독립.shape, 종속.shape)"
      ],
      "execution_count": null,
      "outputs": [
        {
          "output_type": "stream",
          "text": [
            "(506, 13) (506, 1)\n"
          ],
          "name": "stdout"
        }
      ]
    },
    {
      "cell_type": "code",
      "metadata": {
        "id": "zpq-sTMh6IaK",
        "colab_type": "code",
        "colab": {}
      },
      "source": [
        "# 2. 모델의 구조를 만듭니다.\n",
        "X = tf.keras.layers.Input(shape=[13])\n",
        "H = tf.keras.layers.Dense(10, activation='swish')(X)\n",
        "Y = tf.keras.layers.Dense(1)(H) # 딥러닝일 때 H로 변경 필수!\n",
        "model = tf.keras.models.Model(X, Y)\n",
        "model.compile(loss='mse')"
      ],
      "execution_count": null,
      "outputs": []
    },
    {
      "cell_type": "code",
      "metadata": {
        "id": "t7EUaZei7Pcm",
        "colab_type": "code",
        "colab": {
          "base_uri": "https://localhost:8080/",
          "height": 279
        },
        "outputId": "e5078a52-a752-47ab-949a-2293abdab278"
      },
      "source": [
        "model.summary()"
      ],
      "execution_count": null,
      "outputs": [
        {
          "output_type": "stream",
          "text": [
            "Model: \"functional_1\"\n",
            "_________________________________________________________________\n",
            "Layer (type)                 Output Shape              Param #   \n",
            "=================================================================\n",
            "input_2 (InputLayer)         [(None, 13)]              0         \n",
            "_________________________________________________________________\n",
            "dense_2 (Dense)              (None, 10)                140       \n",
            "_________________________________________________________________\n",
            "dense_3 (Dense)              (None, 1)                 11        \n",
            "=================================================================\n",
            "Total params: 151\n",
            "Trainable params: 151\n",
            "Non-trainable params: 0\n",
            "_________________________________________________________________\n"
          ],
          "name": "stdout"
        }
      ]
    },
    {
      "cell_type": "code",
      "metadata": {
        "id": "TQZkWYLK6p1s",
        "colab_type": "code",
        "colab": {
          "base_uri": "https://localhost:8080/",
          "height": 409
        },
        "outputId": "9d560dd6-5baa-4bd4-f0db-27e3584e8a10"
      },
      "source": [
        "# 3. 데이터로 모델을 학습(FIT)합니다.\n",
        "model.fit(독립, 종속, epochs=1000, verbose=0)\n",
        "model.fit(독립, 종속, epochs=10)"
      ],
      "execution_count": null,
      "outputs": [
        {
          "output_type": "stream",
          "text": [
            "Epoch 1/10\n",
            "16/16 [==============================] - 0s 1ms/step - loss: 22.1208\n",
            "Epoch 2/10\n",
            "16/16 [==============================] - 0s 844us/step - loss: 23.1119\n",
            "Epoch 3/10\n",
            "16/16 [==============================] - 0s 837us/step - loss: 22.2142\n",
            "Epoch 4/10\n",
            "16/16 [==============================] - 0s 794us/step - loss: 22.7748\n",
            "Epoch 5/10\n",
            "16/16 [==============================] - 0s 795us/step - loss: 21.9914\n",
            "Epoch 6/10\n",
            "16/16 [==============================] - 0s 821us/step - loss: 22.2240\n",
            "Epoch 7/10\n",
            "16/16 [==============================] - 0s 812us/step - loss: 22.2459\n",
            "Epoch 8/10\n",
            "16/16 [==============================] - 0s 849us/step - loss: 23.0748\n",
            "Epoch 9/10\n",
            "16/16 [==============================] - 0s 816us/step - loss: 21.2192\n",
            "Epoch 10/10\n",
            "16/16 [==============================] - 0s 1ms/step - loss: 22.1613\n"
          ],
          "name": "stdout"
        },
        {
          "output_type": "execute_result",
          "data": {
            "text/plain": [
              "<tensorflow.python.keras.callbacks.History at 0x7fccdc431240>"
            ]
          },
          "metadata": {
            "tags": []
          },
          "execution_count": 8
        }
      ]
    },
    {
      "cell_type": "code",
      "metadata": {
        "id": "1CRXMbqh6-iH",
        "colab_type": "code",
        "colab": {
          "base_uri": "https://localhost:8080/",
          "height": 223
        },
        "outputId": "2b25cc1d-0988-485b-f7ce-ef2d9ab552e8"
      },
      "source": [
        "# 4. 모델을 이용합니다.\n",
        "print(model.predict(독립[:5]))\n",
        "print(종속[:5])"
      ],
      "execution_count": null,
      "outputs": [
        {
          "output_type": "stream",
          "text": [
            "[[29.468052]\n",
            " [23.785658]\n",
            " [29.10449 ]\n",
            " [28.579548]\n",
            " [28.121658]]\n",
            "   medv\n",
            "0  24.0\n",
            "1  21.6\n",
            "2  34.7\n",
            "3  33.4\n",
            "4  36.2\n"
          ],
          "name": "stdout"
        }
      ]
    },
    {
      "cell_type": "markdown",
      "metadata": {
        "id": "3qrvJJqv715H",
        "colab_type": "text"
      },
      "source": [
        "## 히든레이어\n",
        "* 아이리스 품종 분류 예측: https://raw.githubusercontent.com/blackdew/tensorflow1/master/csv/iris.csv"
      ]
    },
    {
      "cell_type": "code",
      "metadata": {
        "id": "XsWYXel-7kLN",
        "colab_type": "code",
        "colab": {}
      },
      "source": [
        "# 라이브러리 사용\n",
        "import tensorflow as tf\n",
        "import pandas as pd"
      ],
      "execution_count": null,
      "outputs": []
    },
    {
      "cell_type": "code",
      "metadata": {
        "id": "oOFNI6Wn_jEB",
        "colab_type": "code",
        "colab": {
          "base_uri": "https://localhost:8080/",
          "height": 202
        },
        "outputId": "77ea8edf-927a-4c78-f65d-83af6f14203e"
      },
      "source": [
        "# 1. 과거의 데이터를 준비합니다.\n",
        "파일경로 = 'https://raw.githubusercontent.com/blackdew/tensorflow1/master/csv/iris.csv'\n",
        "아이리스 = pd.read_csv(파일경로)\n",
        "아이리스.head()"
      ],
      "execution_count": null,
      "outputs": [
        {
          "output_type": "execute_result",
          "data": {
            "text/html": [
              "<div>\n",
              "<style scoped>\n",
              "    .dataframe tbody tr th:only-of-type {\n",
              "        vertical-align: middle;\n",
              "    }\n",
              "\n",
              "    .dataframe tbody tr th {\n",
              "        vertical-align: top;\n",
              "    }\n",
              "\n",
              "    .dataframe thead th {\n",
              "        text-align: right;\n",
              "    }\n",
              "</style>\n",
              "<table border=\"1\" class=\"dataframe\">\n",
              "  <thead>\n",
              "    <tr style=\"text-align: right;\">\n",
              "      <th></th>\n",
              "      <th>꽃잎길이</th>\n",
              "      <th>꽃잎폭</th>\n",
              "      <th>꽃받침길이</th>\n",
              "      <th>꽃받침폭</th>\n",
              "      <th>품종</th>\n",
              "    </tr>\n",
              "  </thead>\n",
              "  <tbody>\n",
              "    <tr>\n",
              "      <th>0</th>\n",
              "      <td>5.1</td>\n",
              "      <td>3.5</td>\n",
              "      <td>1.4</td>\n",
              "      <td>0.2</td>\n",
              "      <td>setosa</td>\n",
              "    </tr>\n",
              "    <tr>\n",
              "      <th>1</th>\n",
              "      <td>4.9</td>\n",
              "      <td>3.0</td>\n",
              "      <td>1.4</td>\n",
              "      <td>0.2</td>\n",
              "      <td>setosa</td>\n",
              "    </tr>\n",
              "    <tr>\n",
              "      <th>2</th>\n",
              "      <td>4.7</td>\n",
              "      <td>3.2</td>\n",
              "      <td>1.3</td>\n",
              "      <td>0.2</td>\n",
              "      <td>setosa</td>\n",
              "    </tr>\n",
              "    <tr>\n",
              "      <th>3</th>\n",
              "      <td>4.6</td>\n",
              "      <td>3.1</td>\n",
              "      <td>1.5</td>\n",
              "      <td>0.2</td>\n",
              "      <td>setosa</td>\n",
              "    </tr>\n",
              "    <tr>\n",
              "      <th>4</th>\n",
              "      <td>5.0</td>\n",
              "      <td>3.6</td>\n",
              "      <td>1.4</td>\n",
              "      <td>0.2</td>\n",
              "      <td>setosa</td>\n",
              "    </tr>\n",
              "  </tbody>\n",
              "</table>\n",
              "</div>"
            ],
            "text/plain": [
              "   꽃잎길이  꽃잎폭  꽃받침길이  꽃받침폭      품종\n",
              "0   5.1  3.5    1.4   0.2  setosa\n",
              "1   4.9  3.0    1.4   0.2  setosa\n",
              "2   4.7  3.2    1.3   0.2  setosa\n",
              "3   4.6  3.1    1.5   0.2  setosa\n",
              "4   5.0  3.6    1.4   0.2  setosa"
            ]
          },
          "metadata": {
            "tags": []
          },
          "execution_count": 12
        }
      ]
    },
    {
      "cell_type": "code",
      "metadata": {
        "id": "8x7T6Tj2_j8V",
        "colab_type": "code",
        "colab": {
          "base_uri": "https://localhost:8080/",
          "height": 202
        },
        "outputId": "11eeeb12-dbd4-4dc5-a37d-04b0ea91a77d"
      },
      "source": [
        "# 원핫인코딩\n",
        "인코딩 = pd.get_dummies(아이리스)\n",
        "인코딩.head()"
      ],
      "execution_count": null,
      "outputs": [
        {
          "output_type": "execute_result",
          "data": {
            "text/html": [
              "<div>\n",
              "<style scoped>\n",
              "    .dataframe tbody tr th:only-of-type {\n",
              "        vertical-align: middle;\n",
              "    }\n",
              "\n",
              "    .dataframe tbody tr th {\n",
              "        vertical-align: top;\n",
              "    }\n",
              "\n",
              "    .dataframe thead th {\n",
              "        text-align: right;\n",
              "    }\n",
              "</style>\n",
              "<table border=\"1\" class=\"dataframe\">\n",
              "  <thead>\n",
              "    <tr style=\"text-align: right;\">\n",
              "      <th></th>\n",
              "      <th>꽃잎길이</th>\n",
              "      <th>꽃잎폭</th>\n",
              "      <th>꽃받침길이</th>\n",
              "      <th>꽃받침폭</th>\n",
              "      <th>품종_setosa</th>\n",
              "      <th>품종_versicolor</th>\n",
              "      <th>품종_virginica</th>\n",
              "    </tr>\n",
              "  </thead>\n",
              "  <tbody>\n",
              "    <tr>\n",
              "      <th>0</th>\n",
              "      <td>5.1</td>\n",
              "      <td>3.5</td>\n",
              "      <td>1.4</td>\n",
              "      <td>0.2</td>\n",
              "      <td>1</td>\n",
              "      <td>0</td>\n",
              "      <td>0</td>\n",
              "    </tr>\n",
              "    <tr>\n",
              "      <th>1</th>\n",
              "      <td>4.9</td>\n",
              "      <td>3.0</td>\n",
              "      <td>1.4</td>\n",
              "      <td>0.2</td>\n",
              "      <td>1</td>\n",
              "      <td>0</td>\n",
              "      <td>0</td>\n",
              "    </tr>\n",
              "    <tr>\n",
              "      <th>2</th>\n",
              "      <td>4.7</td>\n",
              "      <td>3.2</td>\n",
              "      <td>1.3</td>\n",
              "      <td>0.2</td>\n",
              "      <td>1</td>\n",
              "      <td>0</td>\n",
              "      <td>0</td>\n",
              "    </tr>\n",
              "    <tr>\n",
              "      <th>3</th>\n",
              "      <td>4.6</td>\n",
              "      <td>3.1</td>\n",
              "      <td>1.5</td>\n",
              "      <td>0.2</td>\n",
              "      <td>1</td>\n",
              "      <td>0</td>\n",
              "      <td>0</td>\n",
              "    </tr>\n",
              "    <tr>\n",
              "      <th>4</th>\n",
              "      <td>5.0</td>\n",
              "      <td>3.6</td>\n",
              "      <td>1.4</td>\n",
              "      <td>0.2</td>\n",
              "      <td>1</td>\n",
              "      <td>0</td>\n",
              "      <td>0</td>\n",
              "    </tr>\n",
              "  </tbody>\n",
              "</table>\n",
              "</div>"
            ],
            "text/plain": [
              "   꽃잎길이  꽃잎폭  꽃받침길이  꽃받침폭  품종_setosa  품종_versicolor  품종_virginica\n",
              "0   5.1  3.5    1.4   0.2          1              0             0\n",
              "1   4.9  3.0    1.4   0.2          1              0             0\n",
              "2   4.7  3.2    1.3   0.2          1              0             0\n",
              "3   4.6  3.1    1.5   0.2          1              0             0\n",
              "4   5.0  3.6    1.4   0.2          1              0             0"
            ]
          },
          "metadata": {
            "tags": []
          },
          "execution_count": 13
        }
      ]
    },
    {
      "cell_type": "code",
      "metadata": {
        "id": "l5tbX0Yx_ljl",
        "colab_type": "code",
        "colab": {
          "base_uri": "https://localhost:8080/",
          "height": 73
        },
        "outputId": "3b627757-0929-4aa6-d9f5-9d988f876013"
      },
      "source": [
        "print(인코딩.columns)"
      ],
      "execution_count": null,
      "outputs": [
        {
          "output_type": "stream",
          "text": [
            "Index(['꽃잎길이', '꽃잎폭', '꽃받침길이', '꽃받침폭', '품종_setosa', '품종_versicolor',\n",
            "       '품종_virginica'],\n",
            "      dtype='object')\n"
          ],
          "name": "stdout"
        }
      ]
    },
    {
      "cell_type": "code",
      "metadata": {
        "id": "teGZ0QbL_m2l",
        "colab_type": "code",
        "colab": {
          "base_uri": "https://localhost:8080/",
          "height": 36
        },
        "outputId": "7cb0d5ed-8934-4186-e77c-a3ced3f86c5b"
      },
      "source": [
        "# 독립변수, 종속변수\n",
        "독립 = 인코딩[['꽃잎길이', '꽃잎폭', '꽃받침길이', '꽃받침폭']]\n",
        "종속 = 인코딩[['품종_setosa', '품종_versicolor', '품종_virginica']]\n",
        "print(독립.shape, 종속.shape)"
      ],
      "execution_count": null,
      "outputs": [
        {
          "output_type": "stream",
          "text": [
            "(150, 4) (150, 3)\n"
          ],
          "name": "stdout"
        }
      ]
    },
    {
      "cell_type": "code",
      "metadata": {
        "id": "76nNGNNU_ogF",
        "colab_type": "code",
        "colab": {}
      },
      "source": [
        "# 2. 모델의 구조를 만듭니다\n",
        "X = tf.keras.layers.Input(shape=[4])\n",
        "H = tf.keras.layers.Dense(8, activation='swish')(X)\n",
        "H = tf.keras.layers.Dense(8, activation='swish')(H)\n",
        "H = tf.keras.layers.Dense(8, activation='swish')(H)\n",
        "Y = tf.keras.layers.Dense(3, activation='softmax')(H)\n",
        "model = tf.keras.models.Model(X, Y)\n",
        "model.compile(loss='categorical_crossentropy',\n",
        "              metrics='accuracy')"
      ],
      "execution_count": null,
      "outputs": []
    },
    {
      "cell_type": "code",
      "metadata": {
        "id": "o63otxBH_8VF",
        "colab_type": "code",
        "colab": {}
      },
      "source": [
        "# 3. 데이터로 모델을 학습(FIT)합니다.\n",
        "model.fit(독립, 종속, epochs=100)"
      ],
      "execution_count": null,
      "outputs": []
    },
    {
      "cell_type": "code",
      "metadata": {
        "id": "80cALu7CAF4c",
        "colab_type": "code",
        "colab": {
          "base_uri": "https://localhost:8080/",
          "height": 223
        },
        "outputId": "82f636b0-bf6b-4e16-8e71-3b628389171f"
      },
      "source": [
        "# 4. 모델을 이용합니다.\n",
        "print(model.predict(독립[0:5]))\n",
        "print(종속[0:5])"
      ],
      "execution_count": null,
      "outputs": [
        {
          "output_type": "stream",
          "text": [
            "[[9.9999547e-01 2.8708016e-06 1.6167521e-06]\n",
            " [9.9997354e-01 1.9628678e-05 6.7464903e-06]\n",
            " [9.9998474e-01 9.6098229e-06 5.5817177e-06]\n",
            " [9.9989414e-01 8.3379353e-05 2.2408185e-05]\n",
            " [9.9999523e-01 2.9774981e-06 1.8389584e-06]]\n",
            "   품종_setosa  품종_versicolor  품종_virginica\n",
            "0          1              0             0\n",
            "1          1              0             0\n",
            "2          1              0             0\n",
            "3          1              0             0\n",
            "4          1              0             0\n"
          ],
          "name": "stdout"
        }
      ]
    },
    {
      "cell_type": "markdown",
      "metadata": {
        "id": "xMER16HqAsAB",
        "colab_type": "text"
      },
      "source": [
        "# 부록1: 데이터를 위한 팁 - 5일차\n",
        "* https://opentutorials.org/module/4966/28989\n",
        "* 데이터 타입의 문제와 NA값의 문제를 해결하는 데이터 전처리 방법을 배웁니다."
      ]
    },
    {
      "cell_type": "markdown",
      "metadata": {
        "id": "A0jv-RaiA1jA",
        "colab_type": "text"
      },
      "source": [
        "## 데이터 타입 조정\n",
        "* https://raw.githubusercontent.com/blackdew/tensorflow1/master/csv/iris2.csv\n",
        "* 변수(칼럼) 타입 확인: 데이터, dtypes\n",
        "* 변수를 범주형으로 변경:\n",
        "  - 데이터['칼럼명'].astype('category')\n",
        "* 변수를 숫자형으로 변경:\n",
        "  - 데이터['칼럼명'].astype('int')  \n",
        "  - 데이터['칼럼명'].astype('float')\n",
        "* NA 값의 처리\n",
        "  - NA 갯구 체크: 데이터.isna().sum()\n",
        "  - NA 값 채우기: 데이터['칼럼명'].fillna(특정숫자)"
      ]
    },
    {
      "cell_type": "code",
      "metadata": {
        "id": "JKHqKAKvAWuz",
        "colab_type": "code",
        "colab": {}
      },
      "source": [
        "import pandas as pd"
      ],
      "execution_count": null,
      "outputs": []
    },
    {
      "cell_type": "code",
      "metadata": {
        "id": "rcu0xzK0BH73",
        "colab_type": "code",
        "colab": {
          "base_uri": "https://localhost:8080/",
          "height": 202
        },
        "outputId": "65dec738-e5ac-4b1f-fe93-83824c91d0b1"
      },
      "source": [
        "파일경로 = 'https://raw.githubusercontent.com/blackdew/tensorflow1/master/csv/iris2.csv'\n",
        "아이리스 = pd.read_csv(파일경로)\n",
        "아이리스.head()"
      ],
      "execution_count": null,
      "outputs": [
        {
          "output_type": "execute_result",
          "data": {
            "text/html": [
              "<div>\n",
              "<style scoped>\n",
              "    .dataframe tbody tr th:only-of-type {\n",
              "        vertical-align: middle;\n",
              "    }\n",
              "\n",
              "    .dataframe tbody tr th {\n",
              "        vertical-align: top;\n",
              "    }\n",
              "\n",
              "    .dataframe thead th {\n",
              "        text-align: right;\n",
              "    }\n",
              "</style>\n",
              "<table border=\"1\" class=\"dataframe\">\n",
              "  <thead>\n",
              "    <tr style=\"text-align: right;\">\n",
              "      <th></th>\n",
              "      <th>꽃잎길이</th>\n",
              "      <th>꽃잎폭</th>\n",
              "      <th>꽃받침길이</th>\n",
              "      <th>꽃받침폭</th>\n",
              "      <th>품종</th>\n",
              "    </tr>\n",
              "  </thead>\n",
              "  <tbody>\n",
              "    <tr>\n",
              "      <th>0</th>\n",
              "      <td>5.1</td>\n",
              "      <td>3.5</td>\n",
              "      <td>1.4</td>\n",
              "      <td>0.2</td>\n",
              "      <td>0</td>\n",
              "    </tr>\n",
              "    <tr>\n",
              "      <th>1</th>\n",
              "      <td>4.9</td>\n",
              "      <td>3.0</td>\n",
              "      <td>1.4</td>\n",
              "      <td>0.2</td>\n",
              "      <td>0</td>\n",
              "    </tr>\n",
              "    <tr>\n",
              "      <th>2</th>\n",
              "      <td>4.7</td>\n",
              "      <td>3.2</td>\n",
              "      <td>1.3</td>\n",
              "      <td>0.2</td>\n",
              "      <td>0</td>\n",
              "    </tr>\n",
              "    <tr>\n",
              "      <th>3</th>\n",
              "      <td>4.6</td>\n",
              "      <td>3.1</td>\n",
              "      <td>1.5</td>\n",
              "      <td>0.2</td>\n",
              "      <td>0</td>\n",
              "    </tr>\n",
              "    <tr>\n",
              "      <th>4</th>\n",
              "      <td>5.0</td>\n",
              "      <td>3.6</td>\n",
              "      <td>1.4</td>\n",
              "      <td>0.2</td>\n",
              "      <td>0</td>\n",
              "    </tr>\n",
              "  </tbody>\n",
              "</table>\n",
              "</div>"
            ],
            "text/plain": [
              "   꽃잎길이  꽃잎폭  꽃받침길이  꽃받침폭  품종\n",
              "0   5.1  3.5    1.4   0.2   0\n",
              "1   4.9  3.0    1.4   0.2   0\n",
              "2   4.7  3.2    1.3   0.2   0\n",
              "3   4.6  3.1    1.5   0.2   0\n",
              "4   5.0  3.6    1.4   0.2   0"
            ]
          },
          "metadata": {
            "tags": []
          },
          "execution_count": 12
        }
      ]
    },
    {
      "cell_type": "code",
      "metadata": {
        "id": "PNl5RWokBPj7",
        "colab_type": "code",
        "colab": {
          "base_uri": "https://localhost:8080/",
          "height": 202
        },
        "outputId": "2193f225-fe3d-4e5b-ecca-8a1a08b8b0ed"
      },
      "source": [
        "# 원핫인코딩\n",
        "# => 품종이 범주형(category 또는 object)이 아니라서 원핫인코딩이 안됨.\n",
        "인코딩 = pd.get_dummies(아이리스) \n",
        "인코딩.head()"
      ],
      "execution_count": null,
      "outputs": [
        {
          "output_type": "execute_result",
          "data": {
            "text/html": [
              "<div>\n",
              "<style scoped>\n",
              "    .dataframe tbody tr th:only-of-type {\n",
              "        vertical-align: middle;\n",
              "    }\n",
              "\n",
              "    .dataframe tbody tr th {\n",
              "        vertical-align: top;\n",
              "    }\n",
              "\n",
              "    .dataframe thead th {\n",
              "        text-align: right;\n",
              "    }\n",
              "</style>\n",
              "<table border=\"1\" class=\"dataframe\">\n",
              "  <thead>\n",
              "    <tr style=\"text-align: right;\">\n",
              "      <th></th>\n",
              "      <th>꽃잎길이</th>\n",
              "      <th>꽃잎폭</th>\n",
              "      <th>꽃받침길이</th>\n",
              "      <th>꽃받침폭</th>\n",
              "      <th>품종</th>\n",
              "    </tr>\n",
              "  </thead>\n",
              "  <tbody>\n",
              "    <tr>\n",
              "      <th>0</th>\n",
              "      <td>5.1</td>\n",
              "      <td>3.5</td>\n",
              "      <td>1.4</td>\n",
              "      <td>0.2</td>\n",
              "      <td>0</td>\n",
              "    </tr>\n",
              "    <tr>\n",
              "      <th>1</th>\n",
              "      <td>4.9</td>\n",
              "      <td>3.0</td>\n",
              "      <td>1.4</td>\n",
              "      <td>0.2</td>\n",
              "      <td>0</td>\n",
              "    </tr>\n",
              "    <tr>\n",
              "      <th>2</th>\n",
              "      <td>4.7</td>\n",
              "      <td>3.2</td>\n",
              "      <td>1.3</td>\n",
              "      <td>0.2</td>\n",
              "      <td>0</td>\n",
              "    </tr>\n",
              "    <tr>\n",
              "      <th>3</th>\n",
              "      <td>4.6</td>\n",
              "      <td>3.1</td>\n",
              "      <td>1.5</td>\n",
              "      <td>0.2</td>\n",
              "      <td>0</td>\n",
              "    </tr>\n",
              "    <tr>\n",
              "      <th>4</th>\n",
              "      <td>5.0</td>\n",
              "      <td>3.6</td>\n",
              "      <td>1.4</td>\n",
              "      <td>0.2</td>\n",
              "      <td>0</td>\n",
              "    </tr>\n",
              "  </tbody>\n",
              "</table>\n",
              "</div>"
            ],
            "text/plain": [
              "   꽃잎길이  꽃잎폭  꽃받침길이  꽃받침폭  품종\n",
              "0   5.1  3.5    1.4   0.2   0\n",
              "1   4.9  3.0    1.4   0.2   0\n",
              "2   4.7  3.2    1.3   0.2   0\n",
              "3   4.6  3.1    1.5   0.2   0\n",
              "4   5.0  3.6    1.4   0.2   0"
            ]
          },
          "metadata": {
            "tags": []
          },
          "execution_count": 13
        }
      ]
    },
    {
      "cell_type": "code",
      "metadata": {
        "id": "oU8A11TTy4-B",
        "colab_type": "code",
        "colab": {
          "base_uri": "https://localhost:8080/",
          "height": 129
        },
        "outputId": "d467c37e-ca6a-4f7e-e64c-2b658121c832"
      },
      "source": [
        "print(아이리스.dtypes)"
      ],
      "execution_count": null,
      "outputs": [
        {
          "output_type": "stream",
          "text": [
            "꽃잎길이     float64\n",
            "꽃잎폭      float64\n",
            "꽃받침길이    float64\n",
            "꽃받침폭     float64\n",
            "품종         int64\n",
            "dtype: object\n"
          ],
          "name": "stdout"
        }
      ]
    },
    {
      "cell_type": "code",
      "metadata": {
        "id": "D1GT9zKizFXI",
        "colab_type": "code",
        "colab": {
          "base_uri": "https://localhost:8080/",
          "height": 129
        },
        "outputId": "a007df76-4031-4ba3-c67f-b535a41e6c96"
      },
      "source": [
        "# 품종 타입을 범주형으로 바꾸어 준다.\n",
        "아이리스['품종'] = 아이리스['품종'].astype('category')\n",
        "print(아이리스.dtypes)"
      ],
      "execution_count": null,
      "outputs": [
        {
          "output_type": "stream",
          "text": [
            "꽃잎길이      float64\n",
            "꽃잎폭       float64\n",
            "꽃받침길이     float64\n",
            "꽃받침폭      float64\n",
            "품종       category\n",
            "dtype: object\n"
          ],
          "name": "stdout"
        }
      ]
    },
    {
      "cell_type": "code",
      "metadata": {
        "id": "8Dc91vfAzTZv",
        "colab_type": "code",
        "colab": {
          "base_uri": "https://localhost:8080/",
          "height": 202
        },
        "outputId": "c797f789-1097-4fc3-8b1f-a61bc8c23e0b"
      },
      "source": [
        "# 원핫인코딩\n",
        "인코딩 = pd.get_dummies(아이리스) \n",
        "인코딩.head()"
      ],
      "execution_count": null,
      "outputs": [
        {
          "output_type": "execute_result",
          "data": {
            "text/html": [
              "<div>\n",
              "<style scoped>\n",
              "    .dataframe tbody tr th:only-of-type {\n",
              "        vertical-align: middle;\n",
              "    }\n",
              "\n",
              "    .dataframe tbody tr th {\n",
              "        vertical-align: top;\n",
              "    }\n",
              "\n",
              "    .dataframe thead th {\n",
              "        text-align: right;\n",
              "    }\n",
              "</style>\n",
              "<table border=\"1\" class=\"dataframe\">\n",
              "  <thead>\n",
              "    <tr style=\"text-align: right;\">\n",
              "      <th></th>\n",
              "      <th>꽃잎길이</th>\n",
              "      <th>꽃잎폭</th>\n",
              "      <th>꽃받침길이</th>\n",
              "      <th>꽃받침폭</th>\n",
              "      <th>품종_0</th>\n",
              "      <th>품종_1</th>\n",
              "      <th>품종_2</th>\n",
              "    </tr>\n",
              "  </thead>\n",
              "  <tbody>\n",
              "    <tr>\n",
              "      <th>0</th>\n",
              "      <td>5.1</td>\n",
              "      <td>3.5</td>\n",
              "      <td>1.4</td>\n",
              "      <td>0.2</td>\n",
              "      <td>1</td>\n",
              "      <td>0</td>\n",
              "      <td>0</td>\n",
              "    </tr>\n",
              "    <tr>\n",
              "      <th>1</th>\n",
              "      <td>4.9</td>\n",
              "      <td>3.0</td>\n",
              "      <td>1.4</td>\n",
              "      <td>0.2</td>\n",
              "      <td>1</td>\n",
              "      <td>0</td>\n",
              "      <td>0</td>\n",
              "    </tr>\n",
              "    <tr>\n",
              "      <th>2</th>\n",
              "      <td>4.7</td>\n",
              "      <td>3.2</td>\n",
              "      <td>1.3</td>\n",
              "      <td>0.2</td>\n",
              "      <td>1</td>\n",
              "      <td>0</td>\n",
              "      <td>0</td>\n",
              "    </tr>\n",
              "    <tr>\n",
              "      <th>3</th>\n",
              "      <td>4.6</td>\n",
              "      <td>3.1</td>\n",
              "      <td>1.5</td>\n",
              "      <td>0.2</td>\n",
              "      <td>1</td>\n",
              "      <td>0</td>\n",
              "      <td>0</td>\n",
              "    </tr>\n",
              "    <tr>\n",
              "      <th>4</th>\n",
              "      <td>5.0</td>\n",
              "      <td>3.6</td>\n",
              "      <td>1.4</td>\n",
              "      <td>0.2</td>\n",
              "      <td>1</td>\n",
              "      <td>0</td>\n",
              "      <td>0</td>\n",
              "    </tr>\n",
              "  </tbody>\n",
              "</table>\n",
              "</div>"
            ],
            "text/plain": [
              "   꽃잎길이  꽃잎폭  꽃받침길이  꽃받침폭  품종_0  품종_1  품종_2\n",
              "0   5.1  3.5    1.4   0.2     1     0     0\n",
              "1   4.9  3.0    1.4   0.2     1     0     0\n",
              "2   4.7  3.2    1.3   0.2     1     0     0\n",
              "3   4.6  3.1    1.5   0.2     1     0     0\n",
              "4   5.0  3.6    1.4   0.2     1     0     0"
            ]
          },
          "metadata": {
            "tags": []
          },
          "execution_count": 16
        }
      ]
    },
    {
      "cell_type": "code",
      "metadata": {
        "id": "4NklOSXrzYu9",
        "colab_type": "code",
        "colab": {
          "base_uri": "https://localhost:8080/",
          "height": 129
        },
        "outputId": "f7ff4f34-a860-404f-9aa1-80201ba36bfa"
      },
      "source": [
        "# NA 값을 체크해 봅시다.\n",
        "아이리스.isna().sum()"
      ],
      "execution_count": null,
      "outputs": [
        {
          "output_type": "execute_result",
          "data": {
            "text/plain": [
              "꽃잎길이     0\n",
              "꽃잎폭      1\n",
              "꽃받침길이    0\n",
              "꽃받침폭     0\n",
              "품종       0\n",
              "dtype: int64"
            ]
          },
          "metadata": {
            "tags": []
          },
          "execution_count": 17
        }
      ]
    },
    {
      "cell_type": "code",
      "metadata": {
        "id": "Z61Cl1iJzilm",
        "colab_type": "code",
        "colab": {
          "base_uri": "https://localhost:8080/",
          "height": 202
        },
        "outputId": "b36d4876-cd95-44e5-828e-975d3a7466d8"
      },
      "source": [
        "아이리스.tail()"
      ],
      "execution_count": null,
      "outputs": [
        {
          "output_type": "execute_result",
          "data": {
            "text/html": [
              "<div>\n",
              "<style scoped>\n",
              "    .dataframe tbody tr th:only-of-type {\n",
              "        vertical-align: middle;\n",
              "    }\n",
              "\n",
              "    .dataframe tbody tr th {\n",
              "        vertical-align: top;\n",
              "    }\n",
              "\n",
              "    .dataframe thead th {\n",
              "        text-align: right;\n",
              "    }\n",
              "</style>\n",
              "<table border=\"1\" class=\"dataframe\">\n",
              "  <thead>\n",
              "    <tr style=\"text-align: right;\">\n",
              "      <th></th>\n",
              "      <th>꽃잎길이</th>\n",
              "      <th>꽃잎폭</th>\n",
              "      <th>꽃받침길이</th>\n",
              "      <th>꽃받침폭</th>\n",
              "      <th>품종</th>\n",
              "    </tr>\n",
              "  </thead>\n",
              "  <tbody>\n",
              "    <tr>\n",
              "      <th>145</th>\n",
              "      <td>6.7</td>\n",
              "      <td>3.0</td>\n",
              "      <td>5.2</td>\n",
              "      <td>2.3</td>\n",
              "      <td>2</td>\n",
              "    </tr>\n",
              "    <tr>\n",
              "      <th>146</th>\n",
              "      <td>6.3</td>\n",
              "      <td>2.5</td>\n",
              "      <td>5.0</td>\n",
              "      <td>1.9</td>\n",
              "      <td>2</td>\n",
              "    </tr>\n",
              "    <tr>\n",
              "      <th>147</th>\n",
              "      <td>6.5</td>\n",
              "      <td>3.0</td>\n",
              "      <td>5.2</td>\n",
              "      <td>2.0</td>\n",
              "      <td>2</td>\n",
              "    </tr>\n",
              "    <tr>\n",
              "      <th>148</th>\n",
              "      <td>6.2</td>\n",
              "      <td>3.4</td>\n",
              "      <td>5.4</td>\n",
              "      <td>2.3</td>\n",
              "      <td>2</td>\n",
              "    </tr>\n",
              "    <tr>\n",
              "      <th>149</th>\n",
              "      <td>5.9</td>\n",
              "      <td>NaN</td>\n",
              "      <td>5.1</td>\n",
              "      <td>1.8</td>\n",
              "      <td>2</td>\n",
              "    </tr>\n",
              "  </tbody>\n",
              "</table>\n",
              "</div>"
            ],
            "text/plain": [
              "     꽃잎길이  꽃잎폭  꽃받침길이  꽃받침폭 품종\n",
              "145   6.7  3.0    5.2   2.3  2\n",
              "146   6.3  2.5    5.0   1.9  2\n",
              "147   6.5  3.0    5.2   2.0  2\n",
              "148   6.2  3.4    5.4   2.3  2\n",
              "149   5.9  NaN    5.1   1.8  2"
            ]
          },
          "metadata": {
            "tags": []
          },
          "execution_count": 18
        }
      ]
    },
    {
      "cell_type": "code",
      "metadata": {
        "id": "pNjqu_6yzmel",
        "colab_type": "code",
        "colab": {
          "base_uri": "https://localhost:8080/",
          "height": 148
        },
        "outputId": "c09addd8-9625-49b5-81d9-7f9787392ebd"
      },
      "source": [
        "# NA 값에 꽃잎폭 평균값을 넣어주는 방법\n",
        "mean = 아이리스['꽃잎폭'].mean()\n",
        "print(mean)\n",
        "아이리스['꽃잎폭'] = 아이리스['꽃잎폭'].fillna(mean)\n",
        "아이리스['꽃잎폭'].tail()"
      ],
      "execution_count": null,
      "outputs": [
        {
          "output_type": "stream",
          "text": [
            "3.0543624161073835\n"
          ],
          "name": "stdout"
        },
        {
          "output_type": "execute_result",
          "data": {
            "text/plain": [
              "145    3.000000\n",
              "146    2.500000\n",
              "147    3.000000\n",
              "148    3.400000\n",
              "149    3.054362\n",
              "Name: 꽃잎폭, dtype: float64"
            ]
          },
          "metadata": {
            "tags": []
          },
          "execution_count": 19
        }
      ]
    },
    {
      "cell_type": "markdown",
      "metadata": {
        "id": "GvUxAtJe0QZv",
        "colab_type": "text"
      },
      "source": [
        "# 부록2: 모델을 위한 팁 - 5일차\n",
        "* https://opentutorials.org/module/4966/29242\n",
        "* BatchNormalization layer를 사용하여 보다 학습이 잘되는 모델을 만들어 봅니다.\n",
        "\n"
      ]
    },
    {
      "cell_type": "markdown",
      "metadata": {
        "id": "lVUJ3AZE0Wvd",
        "colab_type": "text"
      },
      "source": [
        "## 학습이 잘 되는 모델\n",
        "* 사용할 레이어\n",
        "  - tf.keras.layers.BatchNormalization()\n",
        "  - tf.keras.layers.Activation('swish')\n",
        "* 데이터\n",
        "  - 보스턴 집값 예측: https://raw.githubusercontent.com/blackdew/tensorflow1/master/csv/boston.csv\n",
        "  - 아이리스 품종 분류: https://raw.githubusercontent.com/blackdew/tensorflow1/master/csv/iris.csv"
      ]
    },
    {
      "cell_type": "markdown",
      "metadata": {
        "id": "WwbdpxqD5tgs",
        "colab_type": "text"
      },
      "source": [
        "## 보스턴 집값 예측"
      ]
    },
    {
      "cell_type": "code",
      "metadata": {
        "id": "RDLMvzRI0BQ3",
        "colab_type": "code",
        "colab": {}
      },
      "source": [
        "# 라이브러리 사용\n",
        "import tensorflow as tf\n",
        "import pandas as pd"
      ],
      "execution_count": null,
      "outputs": []
    },
    {
      "cell_type": "code",
      "metadata": {
        "id": "UWdaqycz27MA",
        "colab_type": "code",
        "colab": {
          "base_uri": "https://localhost:8080/",
          "height": 258
        },
        "outputId": "906f5e18-b2cb-4eea-f3e0-d3631b19fa10"
      },
      "source": [
        "# 1. 과거의 데이터를 준비합니다.\n",
        "파일경로 = \"https://raw.githubusercontent.com/blackdew/tensorflow1/master/csv/boston.csv\"\n",
        "보스턴 = pd.read_csv(파일경로)\n",
        "print(보스턴.columns)\n",
        "보스턴.head()"
      ],
      "execution_count": null,
      "outputs": [
        {
          "output_type": "stream",
          "text": [
            "Index(['crim', 'zn', 'indus', 'chas', 'nox', 'rm', 'age', 'dis', 'rad', 'tax',\n",
            "       'ptratio', 'b', 'lstat', 'medv'],\n",
            "      dtype='object')\n"
          ],
          "name": "stdout"
        },
        {
          "output_type": "execute_result",
          "data": {
            "text/html": [
              "<div>\n",
              "<style scoped>\n",
              "    .dataframe tbody tr th:only-of-type {\n",
              "        vertical-align: middle;\n",
              "    }\n",
              "\n",
              "    .dataframe tbody tr th {\n",
              "        vertical-align: top;\n",
              "    }\n",
              "\n",
              "    .dataframe thead th {\n",
              "        text-align: right;\n",
              "    }\n",
              "</style>\n",
              "<table border=\"1\" class=\"dataframe\">\n",
              "  <thead>\n",
              "    <tr style=\"text-align: right;\">\n",
              "      <th></th>\n",
              "      <th>crim</th>\n",
              "      <th>zn</th>\n",
              "      <th>indus</th>\n",
              "      <th>chas</th>\n",
              "      <th>nox</th>\n",
              "      <th>rm</th>\n",
              "      <th>age</th>\n",
              "      <th>dis</th>\n",
              "      <th>rad</th>\n",
              "      <th>tax</th>\n",
              "      <th>ptratio</th>\n",
              "      <th>b</th>\n",
              "      <th>lstat</th>\n",
              "      <th>medv</th>\n",
              "    </tr>\n",
              "  </thead>\n",
              "  <tbody>\n",
              "    <tr>\n",
              "      <th>0</th>\n",
              "      <td>0.00632</td>\n",
              "      <td>18.0</td>\n",
              "      <td>2.31</td>\n",
              "      <td>0</td>\n",
              "      <td>0.538</td>\n",
              "      <td>6.575</td>\n",
              "      <td>65.2</td>\n",
              "      <td>4.0900</td>\n",
              "      <td>1</td>\n",
              "      <td>296</td>\n",
              "      <td>15.3</td>\n",
              "      <td>396.90</td>\n",
              "      <td>4.98</td>\n",
              "      <td>24.0</td>\n",
              "    </tr>\n",
              "    <tr>\n",
              "      <th>1</th>\n",
              "      <td>0.02731</td>\n",
              "      <td>0.0</td>\n",
              "      <td>7.07</td>\n",
              "      <td>0</td>\n",
              "      <td>0.469</td>\n",
              "      <td>6.421</td>\n",
              "      <td>78.9</td>\n",
              "      <td>4.9671</td>\n",
              "      <td>2</td>\n",
              "      <td>242</td>\n",
              "      <td>17.8</td>\n",
              "      <td>396.90</td>\n",
              "      <td>9.14</td>\n",
              "      <td>21.6</td>\n",
              "    </tr>\n",
              "    <tr>\n",
              "      <th>2</th>\n",
              "      <td>0.02729</td>\n",
              "      <td>0.0</td>\n",
              "      <td>7.07</td>\n",
              "      <td>0</td>\n",
              "      <td>0.469</td>\n",
              "      <td>7.185</td>\n",
              "      <td>61.1</td>\n",
              "      <td>4.9671</td>\n",
              "      <td>2</td>\n",
              "      <td>242</td>\n",
              "      <td>17.8</td>\n",
              "      <td>392.83</td>\n",
              "      <td>4.03</td>\n",
              "      <td>34.7</td>\n",
              "    </tr>\n",
              "    <tr>\n",
              "      <th>3</th>\n",
              "      <td>0.03237</td>\n",
              "      <td>0.0</td>\n",
              "      <td>2.18</td>\n",
              "      <td>0</td>\n",
              "      <td>0.458</td>\n",
              "      <td>6.998</td>\n",
              "      <td>45.8</td>\n",
              "      <td>6.0622</td>\n",
              "      <td>3</td>\n",
              "      <td>222</td>\n",
              "      <td>18.7</td>\n",
              "      <td>394.63</td>\n",
              "      <td>2.94</td>\n",
              "      <td>33.4</td>\n",
              "    </tr>\n",
              "    <tr>\n",
              "      <th>4</th>\n",
              "      <td>0.06905</td>\n",
              "      <td>0.0</td>\n",
              "      <td>2.18</td>\n",
              "      <td>0</td>\n",
              "      <td>0.458</td>\n",
              "      <td>7.147</td>\n",
              "      <td>54.2</td>\n",
              "      <td>6.0622</td>\n",
              "      <td>3</td>\n",
              "      <td>222</td>\n",
              "      <td>18.7</td>\n",
              "      <td>396.90</td>\n",
              "      <td>5.33</td>\n",
              "      <td>36.2</td>\n",
              "    </tr>\n",
              "  </tbody>\n",
              "</table>\n",
              "</div>"
            ],
            "text/plain": [
              "      crim    zn  indus  chas    nox  ...  tax  ptratio       b  lstat  medv\n",
              "0  0.00632  18.0   2.31     0  0.538  ...  296     15.3  396.90   4.98  24.0\n",
              "1  0.02731   0.0   7.07     0  0.469  ...  242     17.8  396.90   9.14  21.6\n",
              "2  0.02729   0.0   7.07     0  0.469  ...  242     17.8  392.83   4.03  34.7\n",
              "3  0.03237   0.0   2.18     0  0.458  ...  222     18.7  394.63   2.94  33.4\n",
              "4  0.06905   0.0   2.18     0  0.458  ...  222     18.7  396.90   5.33  36.2\n",
              "\n",
              "[5 rows x 14 columns]"
            ]
          },
          "metadata": {
            "tags": []
          },
          "execution_count": 29
        }
      ]
    },
    {
      "cell_type": "code",
      "metadata": {
        "id": "UuFjP0gK3H9v",
        "colab_type": "code",
        "colab": {
          "base_uri": "https://localhost:8080/",
          "height": 36
        },
        "outputId": "b5d3a45e-c64e-420c-8d80-d40562341a6c"
      },
      "source": [
        "# 독립변수, 종속변수 분리\n",
        "독립 = 보스턴[['crim', 'zn', 'indus', 'chas', 'nox', 'rm', 'age', 'dis', 'rad', 'tax',\n",
        "       'ptratio', 'b', 'lstat']]\n",
        "종속 = 보스턴[['medv']]\n",
        "print(독립.shape, 종속.shape)"
      ],
      "execution_count": null,
      "outputs": [
        {
          "output_type": "stream",
          "text": [
            "(506, 13) (506, 1)\n"
          ],
          "name": "stdout"
        }
      ]
    },
    {
      "cell_type": "code",
      "metadata": {
        "id": "9kMsv_1r3M71",
        "colab_type": "code",
        "colab": {}
      },
      "source": [
        "# 2. 모델의 구조를 만듭니다\n",
        "X = tf.keras.layers.Input(shape=[13])\n",
        "\n",
        "H = tf.keras.layers.Dense(8)(X)\n",
        "H = tf.keras.layers.BatchNormalization()(H)\n",
        "H = tf.keras.layers.Activation('swish')(H)\n",
        "\n",
        "H = tf.keras.layers.Dense(8)(H)\n",
        "H = tf.keras.layers.BatchNormalization()(H)\n",
        "H = tf.keras.layers.Activation('swish')(H)\n",
        "\n",
        "H = tf.keras.layers.Dense(8)(H)\n",
        "H = tf.keras.layers.BatchNormalization()(H)\n",
        "H = tf.keras.layers.Activation('swish')(H)\n",
        "\n",
        "Y = tf.keras.layers.Dense(1)(H)\n",
        "\n",
        "model = tf.keras.models.Model(X, Y)\n",
        "model.compile(loss='mse')"
      ],
      "execution_count": null,
      "outputs": []
    },
    {
      "cell_type": "code",
      "metadata": {
        "id": "UiadbOOG3v3V",
        "colab_type": "code",
        "colab": {
          "base_uri": "https://localhost:8080/",
          "height": 409
        },
        "outputId": "f02cc014-63b2-4efb-a2b3-68bd22c4d554"
      },
      "source": [
        "# 3. 데이터로 모델을 학습(FIT)합니다.\n",
        "model.fit(독립, 종속, epochs=1000, verbose=0)\n",
        "model.fit(독립, 종속, epochs=10)"
      ],
      "execution_count": null,
      "outputs": [
        {
          "output_type": "stream",
          "text": [
            "Epoch 1/10\n",
            "16/16 [==============================] - 0s 1ms/step - loss: 9.3108\n",
            "Epoch 2/10\n",
            "16/16 [==============================] - 0s 1ms/step - loss: 8.9504\n",
            "Epoch 3/10\n",
            "16/16 [==============================] - 0s 1ms/step - loss: 8.1804\n",
            "Epoch 4/10\n",
            "16/16 [==============================] - 0s 1ms/step - loss: 8.6789\n",
            "Epoch 5/10\n",
            "16/16 [==============================] - 0s 1ms/step - loss: 6.8404\n",
            "Epoch 6/10\n",
            "16/16 [==============================] - 0s 1ms/step - loss: 8.4385\n",
            "Epoch 7/10\n",
            "16/16 [==============================] - 0s 1ms/step - loss: 8.4854\n",
            "Epoch 8/10\n",
            "16/16 [==============================] - 0s 1ms/step - loss: 9.5547\n",
            "Epoch 9/10\n",
            "16/16 [==============================] - 0s 1ms/step - loss: 7.7842\n",
            "Epoch 10/10\n",
            "16/16 [==============================] - 0s 1ms/step - loss: 10.8015\n"
          ],
          "name": "stdout"
        },
        {
          "output_type": "execute_result",
          "data": {
            "text/plain": [
              "<tensorflow.python.keras.callbacks.History at 0x7f65cc50ec88>"
            ]
          },
          "metadata": {
            "tags": []
          },
          "execution_count": 33
        }
      ]
    },
    {
      "cell_type": "code",
      "metadata": {
        "id": "SMf93uwX4yuo",
        "colab_type": "code",
        "colab": {
          "base_uri": "https://localhost:8080/",
          "height": 223
        },
        "outputId": "0cc0cb57-a9fd-4295-fed3-f429630ea292"
      },
      "source": [
        "# 4. 모델을 이용합니다.\n",
        "print(model.predict(독립[:5]))\n",
        "print(종속[:5])"
      ],
      "execution_count": null,
      "outputs": [
        {
          "output_type": "stream",
          "text": [
            "[[25.100924]\n",
            " [22.78628 ]\n",
            " [33.719624]\n",
            " [30.239506]\n",
            " [32.690304]]\n",
            "   medv\n",
            "0  24.0\n",
            "1  21.6\n",
            "2  34.7\n",
            "3  33.4\n",
            "4  36.2\n"
          ],
          "name": "stdout"
        }
      ]
    },
    {
      "cell_type": "markdown",
      "metadata": {
        "id": "aWhDQP7V5vjL",
        "colab_type": "text"
      },
      "source": [
        "## 아이리스 품종 분류"
      ]
    },
    {
      "cell_type": "code",
      "metadata": {
        "id": "J88lyx1G5OXV",
        "colab_type": "code",
        "colab": {}
      },
      "source": [
        "# 라이브러리 사용\n",
        "import tensorflow as tf\n",
        "import pandas as pd"
      ],
      "execution_count": null,
      "outputs": []
    },
    {
      "cell_type": "code",
      "metadata": {
        "id": "_T63kjqf5ySJ",
        "colab_type": "code",
        "colab": {
          "base_uri": "https://localhost:8080/",
          "height": 202
        },
        "outputId": "9228887d-9a55-41ea-e841-e34c6faf581d"
      },
      "source": [
        "# 1. 과거의 데이터를 준비합니다.\n",
        "파일경로 = 'https://raw.githubusercontent.com/blackdew/tensorflow1/master/csv/iris.csv'\n",
        "아이리스 = pd.read_csv(파일경로)\n",
        "아이리스.head()\n"
      ],
      "execution_count": null,
      "outputs": [
        {
          "output_type": "execute_result",
          "data": {
            "text/html": [
              "<div>\n",
              "<style scoped>\n",
              "    .dataframe tbody tr th:only-of-type {\n",
              "        vertical-align: middle;\n",
              "    }\n",
              "\n",
              "    .dataframe tbody tr th {\n",
              "        vertical-align: top;\n",
              "    }\n",
              "\n",
              "    .dataframe thead th {\n",
              "        text-align: right;\n",
              "    }\n",
              "</style>\n",
              "<table border=\"1\" class=\"dataframe\">\n",
              "  <thead>\n",
              "    <tr style=\"text-align: right;\">\n",
              "      <th></th>\n",
              "      <th>꽃잎길이</th>\n",
              "      <th>꽃잎폭</th>\n",
              "      <th>꽃받침길이</th>\n",
              "      <th>꽃받침폭</th>\n",
              "      <th>품종</th>\n",
              "    </tr>\n",
              "  </thead>\n",
              "  <tbody>\n",
              "    <tr>\n",
              "      <th>0</th>\n",
              "      <td>5.1</td>\n",
              "      <td>3.5</td>\n",
              "      <td>1.4</td>\n",
              "      <td>0.2</td>\n",
              "      <td>setosa</td>\n",
              "    </tr>\n",
              "    <tr>\n",
              "      <th>1</th>\n",
              "      <td>4.9</td>\n",
              "      <td>3.0</td>\n",
              "      <td>1.4</td>\n",
              "      <td>0.2</td>\n",
              "      <td>setosa</td>\n",
              "    </tr>\n",
              "    <tr>\n",
              "      <th>2</th>\n",
              "      <td>4.7</td>\n",
              "      <td>3.2</td>\n",
              "      <td>1.3</td>\n",
              "      <td>0.2</td>\n",
              "      <td>setosa</td>\n",
              "    </tr>\n",
              "    <tr>\n",
              "      <th>3</th>\n",
              "      <td>4.6</td>\n",
              "      <td>3.1</td>\n",
              "      <td>1.5</td>\n",
              "      <td>0.2</td>\n",
              "      <td>setosa</td>\n",
              "    </tr>\n",
              "    <tr>\n",
              "      <th>4</th>\n",
              "      <td>5.0</td>\n",
              "      <td>3.6</td>\n",
              "      <td>1.4</td>\n",
              "      <td>0.2</td>\n",
              "      <td>setosa</td>\n",
              "    </tr>\n",
              "  </tbody>\n",
              "</table>\n",
              "</div>"
            ],
            "text/plain": [
              "   꽃잎길이  꽃잎폭  꽃받침길이  꽃받침폭      품종\n",
              "0   5.1  3.5    1.4   0.2  setosa\n",
              "1   4.9  3.0    1.4   0.2  setosa\n",
              "2   4.7  3.2    1.3   0.2  setosa\n",
              "3   4.6  3.1    1.5   0.2  setosa\n",
              "4   5.0  3.6    1.4   0.2  setosa"
            ]
          },
          "metadata": {
            "tags": []
          },
          "execution_count": 36
        }
      ]
    },
    {
      "cell_type": "code",
      "metadata": {
        "id": "8kRFLBA55yte",
        "colab_type": "code",
        "colab": {
          "base_uri": "https://localhost:8080/",
          "height": 202
        },
        "outputId": "239c5193-2a1d-4dae-d689-bf313bf7b2eb"
      },
      "source": [
        "# 원핫인코딩\n",
        "인코딩 = pd.get_dummies(아이리스)\n",
        "인코딩.head()"
      ],
      "execution_count": null,
      "outputs": [
        {
          "output_type": "execute_result",
          "data": {
            "text/html": [
              "<div>\n",
              "<style scoped>\n",
              "    .dataframe tbody tr th:only-of-type {\n",
              "        vertical-align: middle;\n",
              "    }\n",
              "\n",
              "    .dataframe tbody tr th {\n",
              "        vertical-align: top;\n",
              "    }\n",
              "\n",
              "    .dataframe thead th {\n",
              "        text-align: right;\n",
              "    }\n",
              "</style>\n",
              "<table border=\"1\" class=\"dataframe\">\n",
              "  <thead>\n",
              "    <tr style=\"text-align: right;\">\n",
              "      <th></th>\n",
              "      <th>꽃잎길이</th>\n",
              "      <th>꽃잎폭</th>\n",
              "      <th>꽃받침길이</th>\n",
              "      <th>꽃받침폭</th>\n",
              "      <th>품종_setosa</th>\n",
              "      <th>품종_versicolor</th>\n",
              "      <th>품종_virginica</th>\n",
              "    </tr>\n",
              "  </thead>\n",
              "  <tbody>\n",
              "    <tr>\n",
              "      <th>0</th>\n",
              "      <td>5.1</td>\n",
              "      <td>3.5</td>\n",
              "      <td>1.4</td>\n",
              "      <td>0.2</td>\n",
              "      <td>1</td>\n",
              "      <td>0</td>\n",
              "      <td>0</td>\n",
              "    </tr>\n",
              "    <tr>\n",
              "      <th>1</th>\n",
              "      <td>4.9</td>\n",
              "      <td>3.0</td>\n",
              "      <td>1.4</td>\n",
              "      <td>0.2</td>\n",
              "      <td>1</td>\n",
              "      <td>0</td>\n",
              "      <td>0</td>\n",
              "    </tr>\n",
              "    <tr>\n",
              "      <th>2</th>\n",
              "      <td>4.7</td>\n",
              "      <td>3.2</td>\n",
              "      <td>1.3</td>\n",
              "      <td>0.2</td>\n",
              "      <td>1</td>\n",
              "      <td>0</td>\n",
              "      <td>0</td>\n",
              "    </tr>\n",
              "    <tr>\n",
              "      <th>3</th>\n",
              "      <td>4.6</td>\n",
              "      <td>3.1</td>\n",
              "      <td>1.5</td>\n",
              "      <td>0.2</td>\n",
              "      <td>1</td>\n",
              "      <td>0</td>\n",
              "      <td>0</td>\n",
              "    </tr>\n",
              "    <tr>\n",
              "      <th>4</th>\n",
              "      <td>5.0</td>\n",
              "      <td>3.6</td>\n",
              "      <td>1.4</td>\n",
              "      <td>0.2</td>\n",
              "      <td>1</td>\n",
              "      <td>0</td>\n",
              "      <td>0</td>\n",
              "    </tr>\n",
              "  </tbody>\n",
              "</table>\n",
              "</div>"
            ],
            "text/plain": [
              "   꽃잎길이  꽃잎폭  꽃받침길이  꽃받침폭  품종_setosa  품종_versicolor  품종_virginica\n",
              "0   5.1  3.5    1.4   0.2          1              0             0\n",
              "1   4.9  3.0    1.4   0.2          1              0             0\n",
              "2   4.7  3.2    1.3   0.2          1              0             0\n",
              "3   4.6  3.1    1.5   0.2          1              0             0\n",
              "4   5.0  3.6    1.4   0.2          1              0             0"
            ]
          },
          "metadata": {
            "tags": []
          },
          "execution_count": 37
        }
      ]
    },
    {
      "cell_type": "code",
      "metadata": {
        "id": "sZdymTmw50WW",
        "colab_type": "code",
        "colab": {
          "base_uri": "https://localhost:8080/",
          "height": 73
        },
        "outputId": "5bcc5fb8-9ebe-4852-8701-282457e5675c"
      },
      "source": [
        "print(인코딩.columns)"
      ],
      "execution_count": null,
      "outputs": [
        {
          "output_type": "stream",
          "text": [
            "Index(['꽃잎길이', '꽃잎폭', '꽃받침길이', '꽃받침폭', '품종_setosa', '품종_versicolor',\n",
            "       '품종_virginica'],\n",
            "      dtype='object')\n"
          ],
          "name": "stdout"
        }
      ]
    },
    {
      "cell_type": "code",
      "metadata": {
        "id": "TCAG8mj952sE",
        "colab_type": "code",
        "colab": {
          "base_uri": "https://localhost:8080/",
          "height": 36
        },
        "outputId": "b3f53570-84ca-4fff-db6d-be2bb7f3d929"
      },
      "source": [
        "# 독립변수, 종속변수\n",
        "독립 = 인코딩[['꽃잎길이', '꽃잎폭', '꽃받침길이', '꽃받침폭']]\n",
        "종속 = 인코딩[['품종_setosa', '품종_versicolor', '품종_virginica']]\n",
        "print(독립.shape, 종속.shape)"
      ],
      "execution_count": null,
      "outputs": [
        {
          "output_type": "stream",
          "text": [
            "(150, 4) (150, 3)\n"
          ],
          "name": "stdout"
        }
      ]
    },
    {
      "cell_type": "code",
      "metadata": {
        "id": "jnHrtnBJ53ot",
        "colab_type": "code",
        "colab": {}
      },
      "source": [
        "# 2. 모델의 구조를 만듭니다\n",
        "X = tf.keras.layers.Input(shape=[4])\n",
        "\n",
        "H = tf.keras.layers.Dense(8)(X)\n",
        "H = tf.keras.layers.BatchNormalization()(H)\n",
        "H = tf.keras.layers.Activation('swish')(H)\n",
        "\n",
        "H = tf.keras.layers.Dense(8)(H)\n",
        "H = tf.keras.layers.BatchNormalization()(H)\n",
        "H = tf.keras.layers.Activation('swish')(H)\n",
        "\n",
        "H = tf.keras.layers.Dense(8)(H)\n",
        "H = tf.keras.layers.BatchNormalization()(H)\n",
        "H = tf.keras.layers.Activation('swish')(H)\n",
        "\n",
        "Y = tf.keras.layers.Dense(3, activation='softmax')(H)\n",
        "model = tf.keras.models.Model(X, Y)\n",
        "model.compile(loss='categorical_crossentropy',\n",
        "              metrics='accuracy')"
      ],
      "execution_count": null,
      "outputs": []
    },
    {
      "cell_type": "code",
      "metadata": {
        "id": "uKIqSYO-6WxG",
        "colab_type": "code",
        "colab": {
          "base_uri": "https://localhost:8080/",
          "height": 409
        },
        "outputId": "72c57304-25be-443e-e5ba-fd8e32735daa"
      },
      "source": [
        "# 3. 데이터로 모델을 학습(FIT)합니다.\n",
        "model.fit(독립, 종속, epochs=1000, verbose=0)\n",
        "model.fit(독립, 종속, epochs=10)"
      ],
      "execution_count": null,
      "outputs": [
        {
          "output_type": "stream",
          "text": [
            "Epoch 1/10\n",
            "5/5 [==============================] - 0s 2ms/step - loss: 0.0335 - accuracy: 0.9867\n",
            "Epoch 2/10\n",
            "5/5 [==============================] - 0s 2ms/step - loss: 0.0514 - accuracy: 0.9733\n",
            "Epoch 3/10\n",
            "5/5 [==============================] - 0s 2ms/step - loss: 0.0124 - accuracy: 1.0000\n",
            "Epoch 4/10\n",
            "5/5 [==============================] - 0s 2ms/step - loss: 0.0163 - accuracy: 0.9933\n",
            "Epoch 5/10\n",
            "5/5 [==============================] - 0s 2ms/step - loss: 0.0725 - accuracy: 0.9867\n",
            "Epoch 6/10\n",
            "5/5 [==============================] - 0s 2ms/step - loss: 0.0941 - accuracy: 0.9467\n",
            "Epoch 7/10\n",
            "5/5 [==============================] - 0s 2ms/step - loss: 0.0223 - accuracy: 0.9867\n",
            "Epoch 8/10\n",
            "5/5 [==============================] - 0s 2ms/step - loss: 0.0308 - accuracy: 0.9933\n",
            "Epoch 9/10\n",
            "5/5 [==============================] - 0s 2ms/step - loss: 0.0194 - accuracy: 0.9933\n",
            "Epoch 10/10\n",
            "5/5 [==============================] - 0s 2ms/step - loss: 0.0142 - accuracy: 0.9933\n"
          ],
          "name": "stdout"
        },
        {
          "output_type": "execute_result",
          "data": {
            "text/plain": [
              "<tensorflow.python.keras.callbacks.History at 0x7f65c969fe80>"
            ]
          },
          "metadata": {
            "tags": []
          },
          "execution_count": 44
        }
      ]
    },
    {
      "cell_type": "code",
      "metadata": {
        "id": "xOC4ciN96ZHt",
        "colab_type": "code",
        "colab": {
          "base_uri": "https://localhost:8080/",
          "height": 223
        },
        "outputId": "cabc4ea7-d4ac-42eb-bd08-ac04c8ef293a"
      },
      "source": [
        "# 4. 모델을 이용합니다.\n",
        "print(model.predict(독립[0:5]))\n",
        "print(종속[0:5])"
      ],
      "execution_count": null,
      "outputs": [
        {
          "output_type": "stream",
          "text": [
            "[[1.0000000e+00 6.9802680e-10 8.2275228e-11]\n",
            " [1.0000000e+00 3.8571943e-10 1.0447679e-11]\n",
            " [1.0000000e+00 3.2935699e-09 3.8407164e-12]\n",
            " [9.9999976e-01 2.3882882e-07 2.9285463e-12]\n",
            " [1.0000000e+00 4.2762096e-09 5.2550291e-11]]\n",
            "   품종_setosa  품종_versicolor  품종_virginica\n",
            "0          1              0             0\n",
            "1          1              0             0\n",
            "2          1              0             0\n",
            "3          1              0             0\n",
            "4          1              0             0\n"
          ],
          "name": "stdout"
        }
      ]
    },
    {
      "cell_type": "markdown",
      "metadata": {
        "id": "U1P_RcP06vts",
        "colab_type": "text"
      },
      "source": [
        "# 수업을 마치며 - 5일차 끝\n",
        "* https://opentutorials.org/module/4966/28990\n",
        "\n"
      ]
    },
    {
      "cell_type": "markdown",
      "metadata": {
        "id": "p0RE9ICM60_7",
        "colab_type": "text"
      },
      "source": [
        "* 주변의 데이터를 관찰하여 독립변수, 종속변수를 구분하고 학습하기"
      ]
    }
  ]
}