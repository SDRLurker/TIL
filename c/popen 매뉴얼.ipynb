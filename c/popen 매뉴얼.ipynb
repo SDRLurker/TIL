{
 "cells": [
  {
   "cell_type": "markdown",
   "metadata": {},
   "source": [
    "# popen, pclose\n",
    "\n",
    "### 이름\n",
    "\n",
    "    pclose, popen -- 프로세스 입출력\n",
    "    \n",
    "### 라이브러리\n",
    "\n",
    "    표준 C 라이브러리(libc, -lc)\n",
    "    \n",
    "### 개요\n",
    "\n",
    "<pre>\n",
    "     #include &lt;stdio.h&gt;\n",
    "     FILE *popen(const char *command, const char *mode);\n",
    "     int pclose(FILE *stream);\n",
    "</pre>\n",
    "\n",
    "### 설명\n",
    "\n",
    " popen() 함수는 양방향 파이프를 만들어 복제하고 쉘을 실행함으로서 프로세스를 \"열게 됩니다.\" 부모 프로세스에서 popen() 호출 이전에 열은 스트림은 새로운 자식 프로세스에서는 닫히게 됩니다. 역사적으로, popen()은 단방향 파이프로 구현되었기 때문에 popen()의 많은 구현은 둘 다가 아닌 읽기 또는 쓰기 만을 지정하는 mode(모드)만 허용합니다. popen()은 이제 양방향 파이프로 구현되었기 때문에, mode(모드) 인수는 'r'은 읽기, 'w'는 쓰기, 'r+'는 읽기 쓰기 모두를 위한 null로 끝나는 문자열의 포인터 입니다.\n",
    " \n",
    " 이 command(쉘 명령어) 인수는 쉘 명령줄을 포함하는 null로 끝나는 문자열의 포인터입니다. 이 명령은 -c 플래그를 사용하여 /bin/sh으로 통과되며 번역되어 쉘에 의해 수행됩니다.\n",
    " \n",
    " popen()의 리턴 값은 정상적인 표준 입출력 스트림이며 fclose()보다 pclose()로 닫아야 합니다. 그 스트림에 쓰는 것은 명령어의 표준 입력으로 쓰게 됩니다. 명령어의 표준 출력은 만일 이것이 명령어 자체에 의해 수정되지 않았다면 popen()이 호출하는 프로세스에서 사용하는 것과 같습니다. 대조적으로, popen 스트림에서 읽기는 명령어의 표준 출력을 읽고, 명령어 표준 입력은 popen을 호출한 프로세스에서 사용하는 것과 같습니다.\n",
    "\n",
    " popen() 스트림은 기본적으로 완전 버퍼된다는(fully-buffered) 점에 주의하세요.\n",
    "<pre>\n",
    "완전 버퍼링(Full buffering) : 문자열을 완전 버퍼된(fully-buffered) 스트림에 쓴다면, 운영체제는 특정 크기의 블럭으로 파일에 쓸 것입니다.\n",
    "</pre>\n",
    "\n",
    " pclose() 함수는 종료되는 관련 프로세스를 기다리며 wait4가 리턴한 값처럼 명령어의 종료 상태를 반환합니다.\n",
    "       \n",
    "### 반환값\n",
    "\n",
    " popen() 함수는 만일 fork(2) 나 pipe(2) 호출이 실패하거나 메모리를 할당할 수 없다면, NULL 을 반환합다.\n",
    "\n",
    " pclose() 함수는 만일 wait4 가 에러를 리턴하거나 스트림이 이미 'pclose'되었거나 그 스트림이 'popen' 명령과 관련이 없으면 -1을 리턴합니다.\n",
    "\n",
    "### 에러\n",
    "       \n",
    " popen() 함수는 errno 를 설정하지 않습니다.\n",
    "\n",
    "### 버그\n",
    "\n",
    " 읽기 위해 열려진 명령어의 표준 입력은 popen()을 호출하는 프로세스가 가지고 있는 offset을 공유하기 때문에, 만일 원래 프로세스가 버퍼된 읽기를 한다면, 명령어의 입력 위치는 예상될 수 없습니다. 비슷하게 쓰기 위해 열려진 명령어에서의 출력은 원래 프로세스의 것과 섞일수 있다. 뒤의 문제는 popen 전에 fflush(3)를호출하여 피할수 있습니다.\n",
    "\n",
    " shell 실행시 실패는 명령어 실행의 shell 실패와 명령어의 즉각 종료를 구별할 수 없습니다. 유일한 힌트는 127의 exit 상태이다.\n",
    "\n",
    "### 역사\n",
    "\n",
    " popen() 와 pclose() 함수는 Version 7 AT&T UNIX에서 나타났습니다.\n",
    " 양방향 기능은 FreeBSD 2.2.6에서 추가되었습니다."
   ]
  },
  {
   "cell_type": "code",
   "execution_count": null,
   "metadata": {
    "collapsed": true
   },
   "outputs": [],
   "source": []
  }
 ],
 "metadata": {
  "anaconda-cloud": {},
  "kernelspec": {
   "display_name": "Python [Root]",
   "language": "python",
   "name": "Python [Root]"
  },
  "language_info": {
   "codemirror_mode": {
    "name": "ipython",
    "version": 3
   },
   "file_extension": ".py",
   "mimetype": "text/x-python",
   "name": "python",
   "nbconvert_exporter": "python",
   "pygments_lexer": "ipython3",
   "version": "3.5.2"
  }
 },
 "nbformat": 4,
 "nbformat_minor": 0
}
